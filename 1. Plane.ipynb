{
 "cells": [
  {
   "cell_type": "code",
   "execution_count": 14,
   "id": "79966209",
   "metadata": {},
   "outputs": [],
   "source": [
    "import plotly.graph_objects as go\n",
    "import numpy as np\n",
    "from numpy import cos, sin, array, pi, zeros\n",
    "from datetime import date"
   ]
  },
  {
   "cell_type": "markdown",
   "id": "0954b0fc",
   "metadata": {},
   "source": [
    "# Матрица поворота\n",
    "\n"
   ]
  },
  {
   "cell_type": "markdown",
   "id": "07bdd4c6",
   "metadata": {},
   "source": [
    "### Описание фигуры"
   ]
  },
  {
   "cell_type": "code",
   "execution_count": 15,
   "id": "517ef472",
   "metadata": {},
   "outputs": [],
   "source": [
    "xyz_0 = np.array([[0], [0], [10]])      # Центр квадрата\n",
    "\n",
    "a = 5   # ребро квадрата"
   ]
  },
  {
   "attachments": {},
   "cell_type": "markdown",
   "id": "a86432e6",
   "metadata": {},
   "source": [
    "## Описание работы матрицы поворота"
   ]
  },
  {
   "attachments": {},
   "cell_type": "markdown",
   "id": "c9b7c9ba",
   "metadata": {},
   "source": [
    "Рассмотрим пример поворота центра пластинки относительно ОХ - мы перемножаем матрицу поворота 3х3 на матрицу смещения 3х1 КАЖДОЙ точки. "
   ]
  },
  {
   "attachments": {},
   "cell_type": "markdown",
   "id": "4f98eea1",
   "metadata": {},
   "source": [
    "$$\n",
    "\\begin{vmatrix}\n",
    "  \\ 1& \\ 0& \\ 0 \\\\\n",
    "  \\ 0& \\ cos(a)& \\ -sin(a)\\\\\n",
    "  \\ 0& \\ sin(a)& \\ cos(a)\\\\\n",
    "\\end{vmatrix} \\times \n",
    "\\begin{vmatrix}\n",
    "  \\ 0\\\\\n",
    "  \\ 0\\\\\n",
    "  \\ 10\\\\\n",
    "\\end{vmatrix}\n",
    "=\n",
    "\\begin{vmatrix}\n",
    "  \\ 0\\\\\n",
    "  \\ -7.07\\\\\n",
    "  \\ 7.07\\\\\n",
    "\\end{vmatrix},\\ при\\ a\\ =\\ 45\\ град\n",
    "\n",
    "$$"
   ]
  },
  {
   "cell_type": "code",
   "execution_count": 16,
   "id": "c39e84c3",
   "metadata": {},
   "outputs": [],
   "source": [
    "angle = 45  # град\n",
    "roll = (angle/180) * pi   # рад\n",
    "         \n",
    "R_matrix = array([[1, 0,  0],        \n",
    "                [0, cos(roll), -sin(roll)],\n",
    "                [0, sin(roll), cos(roll)]]) "
   ]
  },
  {
   "cell_type": "code",
   "execution_count": 28,
   "id": "e382a0e0",
   "metadata": {},
   "outputs": [
    {
     "name": "stdout",
     "output_type": "stream",
     "text": [
      "[ 0.         -7.07106781  7.07106781]\n"
     ]
    }
   ],
   "source": [
    "xyz_after_rotate = R_matrix.dot(xyz_0)[:, 0]\n",
    "print(xyz_after_rotate) "
   ]
  },
  {
   "attachments": {},
   "cell_type": "markdown",
   "id": "cd9ed28d",
   "metadata": {},
   "source": [
    "Матрицы поворота относительно OY и OZ будут предоставлены ниже"
   ]
  },
  {
   "attachments": {},
   "cell_type": "markdown",
   "id": "bc3010d4",
   "metadata": {},
   "source": [
    "## Поворот пластины"
   ]
  },
  {
   "cell_type": "markdown",
   "id": "65ebb3c8",
   "metadata": {},
   "source": [
    "### Координаты углов квадрата до поворота"
   ]
  },
  {
   "cell_type": "code",
   "execution_count": 19,
   "id": "bb4922bd",
   "metadata": {},
   "outputs": [
    {
     "name": "stdout",
     "output_type": "stream",
     "text": [
      "[[ 5.  5. -5. -5.  5.]\n",
      " [-5.  5.  5. -5. -5.]\n",
      " [10. 10. 10. 10. 10.]]\n"
     ]
    }
   ],
   "source": [
    "# Матрица 5 на 3 с координатами квадрата\n",
    "xyz_0_1 = np.array([[float(xyz_0[0]+a), float(xyz_0[0]+a), float(xyz_0[0]-a), float(xyz_0[0]-a), float(xyz_0[0]+a)],        \n",
    "                [float(xyz_0[1]-a), float(xyz_0[1]+a), float(xyz_0[1]+a), float(xyz_0[1]-a), float(xyz_0[1]-a)],\n",
    "                [float(xyz_0[2]), float(xyz_0[2]), float(xyz_0[2]), float(xyz_0[2]), float(xyz_0[2])]])\n",
    "\n",
    "print(xyz_0_1)               "
   ]
  },
  {
   "cell_type": "markdown",
   "id": "205ad8d4",
   "metadata": {},
   "source": [
    "### Матрица поворота (OZ)"
   ]
  },
  {
   "cell_type": "code",
   "execution_count": 20,
   "id": "f83b6809",
   "metadata": {},
   "outputs": [],
   "source": [
    "yaw = 45\n",
    "yaw = (yaw/180) * np.pi\n",
    "\n",
    "Rz_matrix = np.array([[np.cos(yaw), -np.sin(yaw), 0],        \n",
    "                    [np.sin(yaw),  np.cos(yaw), 0],\n",
    "                    [0, 0, 1]])                    \n",
    "\n",
    "xyz_1 = np.zeros(((len(xyz_0_1)), len(xyz_0_1[0])))\n",
    "\n",
    "for i in range(0, len(xyz_0_1[0])):\n",
    "    R0_matrix = np.array([[xyz_0_1[0][i]], \n",
    "                        [xyz_0_1[1][i]],\n",
    "                        [xyz_0_1[2][i]]])                   \n",
    "    xyz_1[:, i] = Rz_matrix.dot(R0_matrix)[:, 0]\n",
    "\n",
    "# print(xyz_1)"
   ]
  },
  {
   "cell_type": "markdown",
   "id": "53da047f",
   "metadata": {},
   "source": [
    "### Матрица поворота (OY)"
   ]
  },
  {
   "cell_type": "code",
   "execution_count": 21,
   "id": "a8ec0abf",
   "metadata": {},
   "outputs": [
    {
     "name": "stdout",
     "output_type": "stream",
     "text": [
      "[[10.60660172 10.60660172  3.53553391  3.53553391 10.60660172]\n",
      " [-5.          5.          5.         -5.         -5.        ]\n",
      " [ 3.53553391  3.53553391 10.60660172 10.60660172  3.53553391]]\n"
     ]
    }
   ],
   "source": [
    "pitch = 45\n",
    "pitch = (pitch/180) * np.pi\n",
    "\n",
    "Ry_matrix = np.array([[np.cos(pitch), 0,  np.sin(pitch)],        \n",
    "                    [0, 1, 0],\n",
    "                    [-np.sin(pitch), 0, np.cos(pitch)]])                 \n",
    "\n",
    "xyz_2 = np.zeros(((len(xyz_0_1)), len(xyz_0_1[0])))\n",
    "\n",
    "for i in range(0, len(xyz_0_1[0])):\n",
    "    R0_matrix = np.array([[xyz_0_1[0][i]], \n",
    "                        [xyz_0_1[1][i]],\n",
    "                        [xyz_0_1[2][i]]])                   \n",
    "    xyz_2[:, i] = Ry_matrix.dot(R0_matrix)[:, 0]\n",
    "\n",
    "print(xyz_2)             "
   ]
  },
  {
   "cell_type": "markdown",
   "id": "e2e5224a",
   "metadata": {},
   "source": [
    "### Матрица поворота (OX)"
   ]
  },
  {
   "cell_type": "code",
   "execution_count": 22,
   "id": "431126e3",
   "metadata": {},
   "outputs": [],
   "source": [
    "roll = 45\n",
    "roll = (roll/180) * np.pi\n",
    "\n",
    "Rx_matrix = np.array([[1, 0,  0],        \n",
    "                    [0, np.cos(roll), -np.sin(roll)],\n",
    "                    [0, np.sin(roll), np.cos(roll)]])\n",
    "                    \n",
    "xyz_3 = np.zeros(((len(xyz_0_1)), len(xyz_0_1[0])))\n",
    "\n",
    "for i in range(0, len(xyz_0_1[0])):\n",
    "    R0_matrix = np.array([[xyz_0_1[0][i]], \n",
    "                        [xyz_0_1[1][i]],\n",
    "                        [xyz_0_1[2][i]]])                   \n",
    "    xyz_3[:, i] = Rx_matrix.dot(R0_matrix)[:, 0] "
   ]
  },
  {
   "attachments": {},
   "cell_type": "markdown",
   "id": "6e171a52",
   "metadata": {},
   "source": [
    "### График. Поворачиваем пластину относительно точки (0, 0, 0)"
   ]
  },
  {
   "cell_type": "code",
   "execution_count": 23,
   "id": "881098c2",
   "metadata": {},
   "outputs": [
    {
     "data": {
      "application/vnd.plotly.v1+json": {
       "config": {
        "plotlyServerURL": "https://plot.ly"
       },
       "data": [
        {
         "legendgroup": "group1",
         "marker": {
          "color": "red",
          "colorscale": [
           [
            0,
            "#440154"
           ],
           [
            0.1111111111111111,
            "#482878"
           ],
           [
            0.2222222222222222,
            "#3e4989"
           ],
           [
            0.3333333333333333,
            "#31688e"
           ],
           [
            0.4444444444444444,
            "#26828e"
           ],
           [
            0.5555555555555556,
            "#1f9e89"
           ],
           [
            0.6666666666666666,
            "#35b779"
           ],
           [
            0.7777777777777778,
            "#6ece58"
           ],
           [
            0.8888888888888888,
            "#b5de2b"
           ],
           [
            1,
            "#fde725"
           ]
          ],
          "size": 5
         },
         "name": "(0,0,0)",
         "opacity": 1,
         "showlegend": true,
         "surfaceaxis": -1,
         "type": "scatter3d",
         "x": [
          0
         ],
         "y": [
          0
         ],
         "z": [
          0
         ]
        },
        {
         "legendgroup": "group2",
         "marker": {
          "color": "blue",
          "colorscale": [
           [
            0,
            "#440154"
           ],
           [
            0.1111111111111111,
            "#482878"
           ],
           [
            0.2222222222222222,
            "#3e4989"
           ],
           [
            0.3333333333333333,
            "#31688e"
           ],
           [
            0.4444444444444444,
            "#26828e"
           ],
           [
            0.5555555555555556,
            "#1f9e89"
           ],
           [
            0.6666666666666666,
            "#35b779"
           ],
           [
            0.7777777777777778,
            "#6ece58"
           ],
           [
            0.8888888888888888,
            "#b5de2b"
           ],
           [
            1,
            "#fde725"
           ]
          ],
          "size": 5
         },
         "name": "(0.0,0.0,10.0)",
         "opacity": 1,
         "showlegend": true,
         "surfaceaxis": -1,
         "type": "scatter3d",
         "x": [
          0
         ],
         "y": [
          0
         ],
         "z": [
          10
         ]
        },
        {
         "legendgroup": "group3",
         "marker": {
          "color": "yellow",
          "colorscale": [
           [
            0,
            "#440154"
           ],
           [
            0.1111111111111111,
            "#482878"
           ],
           [
            0.2222222222222222,
            "#3e4989"
           ],
           [
            0.3333333333333333,
            "#31688e"
           ],
           [
            0.4444444444444444,
            "#26828e"
           ],
           [
            0.5555555555555556,
            "#1f9e89"
           ],
           [
            0.6666666666666666,
            "#35b779"
           ],
           [
            0.7777777777777778,
            "#6ece58"
           ],
           [
            0.8888888888888888,
            "#b5de2b"
           ],
           [
            1,
            "#fde725"
           ]
          ],
          "size": 1
         },
         "name": "Стартовое положение пластины",
         "opacity": 0.3,
         "showlegend": true,
         "surfaceaxis": 2,
         "type": "scatter3d",
         "x": [
          5,
          5,
          -5,
          -5,
          5
         ],
         "y": [
          -5,
          5,
          5,
          -5,
          -5
         ],
         "z": [
          10,
          10,
          10,
          10,
          10
         ]
        },
        {
         "legendgroup": "group3",
         "marker": {
          "color": "black",
          "colorscale": [
           [
            0,
            "#440154"
           ],
           [
            0.1111111111111111,
            "#482878"
           ],
           [
            0.2222222222222222,
            "#3e4989"
           ],
           [
            0.3333333333333333,
            "#31688e"
           ],
           [
            0.4444444444444444,
            "#26828e"
           ],
           [
            0.5555555555555556,
            "#1f9e89"
           ],
           [
            0.6666666666666666,
            "#35b779"
           ],
           [
            0.7777777777777778,
            "#6ece58"
           ],
           [
            0.8888888888888888,
            "#b5de2b"
           ],
           [
            1,
            "#fde725"
           ]
          ],
          "size": 1
         },
         "opacity": 1,
         "showlegend": false,
         "surfaceaxis": -1,
         "type": "scatter3d",
         "x": [
          5,
          5,
          -5,
          -5,
          5
         ],
         "y": [
          -5,
          5,
          5,
          -5,
          -5
         ],
         "z": [
          10,
          10,
          10,
          10,
          10
         ]
        },
        {
         "legendgroup": "group4",
         "marker": {
          "color": "blue",
          "colorscale": [
           [
            0,
            "#440154"
           ],
           [
            0.1111111111111111,
            "#482878"
           ],
           [
            0.2222222222222222,
            "#3e4989"
           ],
           [
            0.3333333333333333,
            "#31688e"
           ],
           [
            0.4444444444444444,
            "#26828e"
           ],
           [
            0.5555555555555556,
            "#1f9e89"
           ],
           [
            0.6666666666666666,
            "#35b779"
           ],
           [
            0.7777777777777778,
            "#6ece58"
           ],
           [
            0.8888888888888888,
            "#b5de2b"
           ],
           [
            1,
            "#fde725"
           ]
          ],
          "size": 1
         },
         "name": "Поворот по OZ",
         "opacity": 0.3,
         "showlegend": true,
         "surfaceaxis": 2,
         "type": "scatter3d",
         "x": [
          7.0710678118654755,
          5.551115123125783e-16,
          -7.0710678118654755,
          -5.551115123125783e-16,
          7.0710678118654755
         ],
         "y": [
          -4.440892098500626e-16,
          7.0710678118654755,
          4.440892098500626e-16,
          -7.0710678118654755,
          -4.440892098500626e-16
         ],
         "z": [
          10,
          10,
          10,
          10,
          10
         ]
        },
        {
         "legendgroup": "group4",
         "marker": {
          "color": "black",
          "colorscale": [
           [
            0,
            "#440154"
           ],
           [
            0.1111111111111111,
            "#482878"
           ],
           [
            0.2222222222222222,
            "#3e4989"
           ],
           [
            0.3333333333333333,
            "#31688e"
           ],
           [
            0.4444444444444444,
            "#26828e"
           ],
           [
            0.5555555555555556,
            "#1f9e89"
           ],
           [
            0.6666666666666666,
            "#35b779"
           ],
           [
            0.7777777777777778,
            "#6ece58"
           ],
           [
            0.8888888888888888,
            "#b5de2b"
           ],
           [
            1,
            "#fde725"
           ]
          ],
          "size": 1
         },
         "opacity": 1,
         "showlegend": false,
         "surfaceaxis": -1,
         "type": "scatter3d",
         "x": [
          7.0710678118654755,
          5.551115123125783e-16,
          -7.0710678118654755,
          -5.551115123125783e-16,
          7.0710678118654755
         ],
         "y": [
          -4.440892098500626e-16,
          7.0710678118654755,
          4.440892098500626e-16,
          -7.0710678118654755,
          -4.440892098500626e-16
         ],
         "z": [
          10,
          10,
          10,
          10,
          10
         ]
        },
        {
         "legendgroup": "group5",
         "marker": {
          "color": "green",
          "colorscale": [
           [
            0,
            "#440154"
           ],
           [
            0.1111111111111111,
            "#482878"
           ],
           [
            0.2222222222222222,
            "#3e4989"
           ],
           [
            0.3333333333333333,
            "#31688e"
           ],
           [
            0.4444444444444444,
            "#26828e"
           ],
           [
            0.5555555555555556,
            "#1f9e89"
           ],
           [
            0.6666666666666666,
            "#35b779"
           ],
           [
            0.7777777777777778,
            "#6ece58"
           ],
           [
            0.8888888888888888,
            "#b5de2b"
           ],
           [
            1,
            "#fde725"
           ]
          ],
          "size": 1
         },
         "name": "Поворот по OY",
         "opacity": 0.3,
         "showlegend": true,
         "surfaceaxis": 2,
         "type": "scatter3d",
         "x": [
          10.606601717798213,
          10.606601717798213,
          3.535533905932737,
          3.535533905932737,
          10.606601717798213
         ],
         "y": [
          -5,
          5,
          5,
          -5,
          -5
         ],
         "z": [
          3.5355339059327386,
          3.5355339059327386,
          10.606601717798213,
          10.606601717798213,
          3.5355339059327386
         ]
        },
        {
         "legendgroup": "group5",
         "marker": {
          "color": "black",
          "colorscale": [
           [
            0,
            "#440154"
           ],
           [
            0.1111111111111111,
            "#482878"
           ],
           [
            0.2222222222222222,
            "#3e4989"
           ],
           [
            0.3333333333333333,
            "#31688e"
           ],
           [
            0.4444444444444444,
            "#26828e"
           ],
           [
            0.5555555555555556,
            "#1f9e89"
           ],
           [
            0.6666666666666666,
            "#35b779"
           ],
           [
            0.7777777777777778,
            "#6ece58"
           ],
           [
            0.8888888888888888,
            "#b5de2b"
           ],
           [
            1,
            "#fde725"
           ]
          ],
          "size": 1
         },
         "opacity": 1,
         "showlegend": false,
         "surfaceaxis": -1,
         "type": "scatter3d",
         "x": [
          10.606601717798213,
          10.606601717798213,
          3.535533905932737,
          3.535533905932737,
          10.606601717798213
         ],
         "y": [
          -5,
          5,
          5,
          -5,
          -5
         ],
         "z": [
          3.5355339059327386,
          3.5355339059327386,
          10.606601717798213,
          10.606601717798213,
          3.5355339059327386
         ]
        },
        {
         "legendgroup": "group6",
         "marker": {
          "color": "red",
          "colorscale": [
           [
            0,
            "#440154"
           ],
           [
            0.1111111111111111,
            "#482878"
           ],
           [
            0.2222222222222222,
            "#3e4989"
           ],
           [
            0.3333333333333333,
            "#31688e"
           ],
           [
            0.4444444444444444,
            "#26828e"
           ],
           [
            0.5555555555555556,
            "#1f9e89"
           ],
           [
            0.6666666666666666,
            "#35b779"
           ],
           [
            0.7777777777777778,
            "#6ece58"
           ],
           [
            0.8888888888888888,
            "#b5de2b"
           ],
           [
            1,
            "#fde725"
           ]
          ],
          "size": 1
         },
         "name": "Поворот по OX",
         "opacity": 0.3,
         "showlegend": true,
         "surfaceaxis": 2,
         "type": "scatter3d",
         "x": [
          5,
          5,
          -5,
          -5,
          5
         ],
         "y": [
          -10.606601717798213,
          -3.535533905932737,
          -3.535533905932737,
          -10.606601717798213,
          -10.606601717798213
         ],
         "z": [
          3.5355339059327386,
          10.606601717798213,
          10.606601717798213,
          3.5355339059327386,
          3.5355339059327386
         ]
        },
        {
         "legendgroup": "group6",
         "marker": {
          "color": "black",
          "colorscale": [
           [
            0,
            "#440154"
           ],
           [
            0.1111111111111111,
            "#482878"
           ],
           [
            0.2222222222222222,
            "#3e4989"
           ],
           [
            0.3333333333333333,
            "#31688e"
           ],
           [
            0.4444444444444444,
            "#26828e"
           ],
           [
            0.5555555555555556,
            "#1f9e89"
           ],
           [
            0.6666666666666666,
            "#35b779"
           ],
           [
            0.7777777777777778,
            "#6ece58"
           ],
           [
            0.8888888888888888,
            "#b5de2b"
           ],
           [
            1,
            "#fde725"
           ]
          ],
          "size": 1
         },
         "opacity": 1,
         "showlegend": false,
         "surfaceaxis": -1,
         "type": "scatter3d",
         "x": [
          5,
          5,
          -5,
          -5,
          5
         ],
         "y": [
          -10.606601717798213,
          -3.535533905932737,
          -3.535533905932737,
          -10.606601717798213,
          -10.606601717798213
         ],
         "z": [
          3.5355339059327386,
          10.606601717798213,
          10.606601717798213,
          3.5355339059327386,
          3.5355339059327386
         ]
        }
       ],
       "layout": {
        "autosize": false,
        "height": 500,
        "legend": {
         "x": 0.7,
         "xanchor": "left",
         "y": 0.99,
         "yanchor": "top"
        },
        "margin": {
         "b": 10,
         "l": 10,
         "r": 0,
         "t": 50
        },
        "scene": {
         "camera": {
          "center": {
           "x": 0,
           "y": 0,
           "z": 0
          },
          "eye": {
           "x": -2,
           "y": 2,
           "z": 1.65
          },
          "projection": {
           "type": "orthographic"
          }
         },
         "xaxis": {
          "backgroundcolor": "rgb(200, 200, 230)",
          "gridcolor": "white",
          "showbackground": true,
          "showspikes": false,
          "tickfont": {
           "size": 12
          },
          "title": {
           "text": "X"
          },
          "zerolinecolor": "white"
         },
         "yaxis": {
          "backgroundcolor": "rgb(230, 200,230)",
          "gridcolor": "white",
          "showbackground": true,
          "showspikes": false,
          "tickfont": {
           "size": 12
          },
          "title": {
           "text": "Y"
          },
          "zerolinecolor": "white"
         },
         "zaxis": {
          "backgroundcolor": "rgb(200, 200,200)",
          "gridcolor": "white",
          "showbackground": true,
          "tickfont": {
           "size": 12
          },
          "title": {
           "text": "Z"
          },
          "zerolinecolor": "white"
         }
        },
        "template": {
         "data": {
          "bar": [
           {
            "error_x": {
             "color": "#2a3f5f"
            },
            "error_y": {
             "color": "#2a3f5f"
            },
            "marker": {
             "line": {
              "color": "#E5ECF6",
              "width": 0.5
             },
             "pattern": {
              "fillmode": "overlay",
              "size": 10,
              "solidity": 0.2
             }
            },
            "type": "bar"
           }
          ],
          "barpolar": [
           {
            "marker": {
             "line": {
              "color": "#E5ECF6",
              "width": 0.5
             },
             "pattern": {
              "fillmode": "overlay",
              "size": 10,
              "solidity": 0.2
             }
            },
            "type": "barpolar"
           }
          ],
          "carpet": [
           {
            "aaxis": {
             "endlinecolor": "#2a3f5f",
             "gridcolor": "white",
             "linecolor": "white",
             "minorgridcolor": "white",
             "startlinecolor": "#2a3f5f"
            },
            "baxis": {
             "endlinecolor": "#2a3f5f",
             "gridcolor": "white",
             "linecolor": "white",
             "minorgridcolor": "white",
             "startlinecolor": "#2a3f5f"
            },
            "type": "carpet"
           }
          ],
          "choropleth": [
           {
            "colorbar": {
             "outlinewidth": 0,
             "ticks": ""
            },
            "type": "choropleth"
           }
          ],
          "contour": [
           {
            "colorbar": {
             "outlinewidth": 0,
             "ticks": ""
            },
            "colorscale": [
             [
              0,
              "#0d0887"
             ],
             [
              0.1111111111111111,
              "#46039f"
             ],
             [
              0.2222222222222222,
              "#7201a8"
             ],
             [
              0.3333333333333333,
              "#9c179e"
             ],
             [
              0.4444444444444444,
              "#bd3786"
             ],
             [
              0.5555555555555556,
              "#d8576b"
             ],
             [
              0.6666666666666666,
              "#ed7953"
             ],
             [
              0.7777777777777778,
              "#fb9f3a"
             ],
             [
              0.8888888888888888,
              "#fdca26"
             ],
             [
              1,
              "#f0f921"
             ]
            ],
            "type": "contour"
           }
          ],
          "contourcarpet": [
           {
            "colorbar": {
             "outlinewidth": 0,
             "ticks": ""
            },
            "type": "contourcarpet"
           }
          ],
          "heatmap": [
           {
            "colorbar": {
             "outlinewidth": 0,
             "ticks": ""
            },
            "colorscale": [
             [
              0,
              "#0d0887"
             ],
             [
              0.1111111111111111,
              "#46039f"
             ],
             [
              0.2222222222222222,
              "#7201a8"
             ],
             [
              0.3333333333333333,
              "#9c179e"
             ],
             [
              0.4444444444444444,
              "#bd3786"
             ],
             [
              0.5555555555555556,
              "#d8576b"
             ],
             [
              0.6666666666666666,
              "#ed7953"
             ],
             [
              0.7777777777777778,
              "#fb9f3a"
             ],
             [
              0.8888888888888888,
              "#fdca26"
             ],
             [
              1,
              "#f0f921"
             ]
            ],
            "type": "heatmap"
           }
          ],
          "heatmapgl": [
           {
            "colorbar": {
             "outlinewidth": 0,
             "ticks": ""
            },
            "colorscale": [
             [
              0,
              "#0d0887"
             ],
             [
              0.1111111111111111,
              "#46039f"
             ],
             [
              0.2222222222222222,
              "#7201a8"
             ],
             [
              0.3333333333333333,
              "#9c179e"
             ],
             [
              0.4444444444444444,
              "#bd3786"
             ],
             [
              0.5555555555555556,
              "#d8576b"
             ],
             [
              0.6666666666666666,
              "#ed7953"
             ],
             [
              0.7777777777777778,
              "#fb9f3a"
             ],
             [
              0.8888888888888888,
              "#fdca26"
             ],
             [
              1,
              "#f0f921"
             ]
            ],
            "type": "heatmapgl"
           }
          ],
          "histogram": [
           {
            "marker": {
             "pattern": {
              "fillmode": "overlay",
              "size": 10,
              "solidity": 0.2
             }
            },
            "type": "histogram"
           }
          ],
          "histogram2d": [
           {
            "colorbar": {
             "outlinewidth": 0,
             "ticks": ""
            },
            "colorscale": [
             [
              0,
              "#0d0887"
             ],
             [
              0.1111111111111111,
              "#46039f"
             ],
             [
              0.2222222222222222,
              "#7201a8"
             ],
             [
              0.3333333333333333,
              "#9c179e"
             ],
             [
              0.4444444444444444,
              "#bd3786"
             ],
             [
              0.5555555555555556,
              "#d8576b"
             ],
             [
              0.6666666666666666,
              "#ed7953"
             ],
             [
              0.7777777777777778,
              "#fb9f3a"
             ],
             [
              0.8888888888888888,
              "#fdca26"
             ],
             [
              1,
              "#f0f921"
             ]
            ],
            "type": "histogram2d"
           }
          ],
          "histogram2dcontour": [
           {
            "colorbar": {
             "outlinewidth": 0,
             "ticks": ""
            },
            "colorscale": [
             [
              0,
              "#0d0887"
             ],
             [
              0.1111111111111111,
              "#46039f"
             ],
             [
              0.2222222222222222,
              "#7201a8"
             ],
             [
              0.3333333333333333,
              "#9c179e"
             ],
             [
              0.4444444444444444,
              "#bd3786"
             ],
             [
              0.5555555555555556,
              "#d8576b"
             ],
             [
              0.6666666666666666,
              "#ed7953"
             ],
             [
              0.7777777777777778,
              "#fb9f3a"
             ],
             [
              0.8888888888888888,
              "#fdca26"
             ],
             [
              1,
              "#f0f921"
             ]
            ],
            "type": "histogram2dcontour"
           }
          ],
          "mesh3d": [
           {
            "colorbar": {
             "outlinewidth": 0,
             "ticks": ""
            },
            "type": "mesh3d"
           }
          ],
          "parcoords": [
           {
            "line": {
             "colorbar": {
              "outlinewidth": 0,
              "ticks": ""
             }
            },
            "type": "parcoords"
           }
          ],
          "pie": [
           {
            "automargin": true,
            "type": "pie"
           }
          ],
          "scatter": [
           {
            "fillpattern": {
             "fillmode": "overlay",
             "size": 10,
             "solidity": 0.2
            },
            "type": "scatter"
           }
          ],
          "scatter3d": [
           {
            "line": {
             "colorbar": {
              "outlinewidth": 0,
              "ticks": ""
             }
            },
            "marker": {
             "colorbar": {
              "outlinewidth": 0,
              "ticks": ""
             }
            },
            "type": "scatter3d"
           }
          ],
          "scattercarpet": [
           {
            "marker": {
             "colorbar": {
              "outlinewidth": 0,
              "ticks": ""
             }
            },
            "type": "scattercarpet"
           }
          ],
          "scattergeo": [
           {
            "marker": {
             "colorbar": {
              "outlinewidth": 0,
              "ticks": ""
             }
            },
            "type": "scattergeo"
           }
          ],
          "scattergl": [
           {
            "marker": {
             "colorbar": {
              "outlinewidth": 0,
              "ticks": ""
             }
            },
            "type": "scattergl"
           }
          ],
          "scattermapbox": [
           {
            "marker": {
             "colorbar": {
              "outlinewidth": 0,
              "ticks": ""
             }
            },
            "type": "scattermapbox"
           }
          ],
          "scatterpolar": [
           {
            "marker": {
             "colorbar": {
              "outlinewidth": 0,
              "ticks": ""
             }
            },
            "type": "scatterpolar"
           }
          ],
          "scatterpolargl": [
           {
            "marker": {
             "colorbar": {
              "outlinewidth": 0,
              "ticks": ""
             }
            },
            "type": "scatterpolargl"
           }
          ],
          "scatterternary": [
           {
            "marker": {
             "colorbar": {
              "outlinewidth": 0,
              "ticks": ""
             }
            },
            "type": "scatterternary"
           }
          ],
          "surface": [
           {
            "colorbar": {
             "outlinewidth": 0,
             "ticks": ""
            },
            "colorscale": [
             [
              0,
              "#0d0887"
             ],
             [
              0.1111111111111111,
              "#46039f"
             ],
             [
              0.2222222222222222,
              "#7201a8"
             ],
             [
              0.3333333333333333,
              "#9c179e"
             ],
             [
              0.4444444444444444,
              "#bd3786"
             ],
             [
              0.5555555555555556,
              "#d8576b"
             ],
             [
              0.6666666666666666,
              "#ed7953"
             ],
             [
              0.7777777777777778,
              "#fb9f3a"
             ],
             [
              0.8888888888888888,
              "#fdca26"
             ],
             [
              1,
              "#f0f921"
             ]
            ],
            "type": "surface"
           }
          ],
          "table": [
           {
            "cells": {
             "fill": {
              "color": "#EBF0F8"
             },
             "line": {
              "color": "white"
             }
            },
            "header": {
             "fill": {
              "color": "#C8D4E3"
             },
             "line": {
              "color": "white"
             }
            },
            "type": "table"
           }
          ]
         },
         "layout": {
          "annotationdefaults": {
           "arrowcolor": "#2a3f5f",
           "arrowhead": 0,
           "arrowwidth": 1
          },
          "autotypenumbers": "strict",
          "coloraxis": {
           "colorbar": {
            "outlinewidth": 0,
            "ticks": ""
           }
          },
          "colorscale": {
           "diverging": [
            [
             0,
             "#8e0152"
            ],
            [
             0.1,
             "#c51b7d"
            ],
            [
             0.2,
             "#de77ae"
            ],
            [
             0.3,
             "#f1b6da"
            ],
            [
             0.4,
             "#fde0ef"
            ],
            [
             0.5,
             "#f7f7f7"
            ],
            [
             0.6,
             "#e6f5d0"
            ],
            [
             0.7,
             "#b8e186"
            ],
            [
             0.8,
             "#7fbc41"
            ],
            [
             0.9,
             "#4d9221"
            ],
            [
             1,
             "#276419"
            ]
           ],
           "sequential": [
            [
             0,
             "#0d0887"
            ],
            [
             0.1111111111111111,
             "#46039f"
            ],
            [
             0.2222222222222222,
             "#7201a8"
            ],
            [
             0.3333333333333333,
             "#9c179e"
            ],
            [
             0.4444444444444444,
             "#bd3786"
            ],
            [
             0.5555555555555556,
             "#d8576b"
            ],
            [
             0.6666666666666666,
             "#ed7953"
            ],
            [
             0.7777777777777778,
             "#fb9f3a"
            ],
            [
             0.8888888888888888,
             "#fdca26"
            ],
            [
             1,
             "#f0f921"
            ]
           ],
           "sequentialminus": [
            [
             0,
             "#0d0887"
            ],
            [
             0.1111111111111111,
             "#46039f"
            ],
            [
             0.2222222222222222,
             "#7201a8"
            ],
            [
             0.3333333333333333,
             "#9c179e"
            ],
            [
             0.4444444444444444,
             "#bd3786"
            ],
            [
             0.5555555555555556,
             "#d8576b"
            ],
            [
             0.6666666666666666,
             "#ed7953"
            ],
            [
             0.7777777777777778,
             "#fb9f3a"
            ],
            [
             0.8888888888888888,
             "#fdca26"
            ],
            [
             1,
             "#f0f921"
            ]
           ]
          },
          "colorway": [
           "#636efa",
           "#EF553B",
           "#00cc96",
           "#ab63fa",
           "#FFA15A",
           "#19d3f3",
           "#FF6692",
           "#B6E880",
           "#FF97FF",
           "#FECB52"
          ],
          "font": {
           "color": "#2a3f5f"
          },
          "geo": {
           "bgcolor": "white",
           "lakecolor": "white",
           "landcolor": "#E5ECF6",
           "showlakes": true,
           "showland": true,
           "subunitcolor": "white"
          },
          "hoverlabel": {
           "align": "left"
          },
          "hovermode": "closest",
          "mapbox": {
           "style": "light"
          },
          "paper_bgcolor": "white",
          "plot_bgcolor": "#E5ECF6",
          "polar": {
           "angularaxis": {
            "gridcolor": "white",
            "linecolor": "white",
            "ticks": ""
           },
           "bgcolor": "#E5ECF6",
           "radialaxis": {
            "gridcolor": "white",
            "linecolor": "white",
            "ticks": ""
           }
          },
          "scene": {
           "xaxis": {
            "backgroundcolor": "#E5ECF6",
            "gridcolor": "white",
            "gridwidth": 2,
            "linecolor": "white",
            "showbackground": true,
            "ticks": "",
            "zerolinecolor": "white"
           },
           "yaxis": {
            "backgroundcolor": "#E5ECF6",
            "gridcolor": "white",
            "gridwidth": 2,
            "linecolor": "white",
            "showbackground": true,
            "ticks": "",
            "zerolinecolor": "white"
           },
           "zaxis": {
            "backgroundcolor": "#E5ECF6",
            "gridcolor": "white",
            "gridwidth": 2,
            "linecolor": "white",
            "showbackground": true,
            "ticks": "",
            "zerolinecolor": "white"
           }
          },
          "shapedefaults": {
           "line": {
            "color": "#2a3f5f"
           }
          },
          "ternary": {
           "aaxis": {
            "gridcolor": "white",
            "linecolor": "white",
            "ticks": ""
           },
           "baxis": {
            "gridcolor": "white",
            "linecolor": "white",
            "ticks": ""
           },
           "bgcolor": "#E5ECF6",
           "caxis": {
            "gridcolor": "white",
            "linecolor": "white",
            "ticks": ""
           }
          },
          "title": {
           "x": 0.05
          },
          "xaxis": {
           "automargin": true,
           "gridcolor": "white",
           "linecolor": "white",
           "ticks": "",
           "title": {
            "standoff": 15
           },
           "zerolinecolor": "white",
           "zerolinewidth": 2
          },
          "yaxis": {
           "automargin": true,
           "gridcolor": "white",
           "linecolor": "white",
           "ticks": "",
           "title": {
            "standoff": 15
           },
           "zerolinecolor": "white",
           "zerolinewidth": 2
          }
         }
        },
        "title": {
         "text": "2023-04-24",
         "x": 0.5,
         "xanchor": "center",
         "y": 0.97,
         "yanchor": "top"
        },
        "width": 950
       }
      }
     },
     "metadata": {},
     "output_type": "display_data"
    }
   ],
   "source": [
    "fig = go.Figure()\n",
    "\n",
    "fig.add_trace(go.Scatter3d(x=[0], y=[0], z=[0],  # (0,0,0)\n",
    "                showlegend=True, name = '(0,0,0)', surfaceaxis=-1, opacity=1, legendgroup=\"group1\",marker=dict(size=5, color='red', colorscale='Viridis',)))\n",
    "fig.add_trace(go.Scatter3d(x=xyz_0[0], y=xyz_0[1], z=xyz_0[2],  # (0,0,10)\n",
    "                showlegend=True, name = f'({float(xyz_0[0])},{float(xyz_0[1])},{float(xyz_0[2])})',\n",
    "                  surfaceaxis=-1, opacity=1, legendgroup=\"group2\",marker=dict(size=5, color='blue', colorscale='Viridis',)))           \n",
    "\n",
    "      # Плоскость 0. Стартовое положение пластины\n",
    "fig.add_trace(go.Scatter3d(x=xyz_0_1[0], y=xyz_0_1[1], z=xyz_0_1[2],    \n",
    "                showlegend=True, name = 'Стартовое положение пластины', surfaceaxis=2,  opacity=0.3, legendgroup=\"group3\",marker=dict(size=1, color='yellow', colorscale='Viridis',)))\n",
    "fig.add_trace(go.Scatter3d(x=xyz_0_1[0], y=xyz_0_1[1], z=xyz_0_1[2],\n",
    "                showlegend=False, surfaceaxis=-1, opacity=1, legendgroup=\"group3\",marker=dict(size=1, color='black', colorscale='Viridis',))) \n",
    "\n",
    "      # Плоскость 1. Поворот по OZ\n",
    "fig.add_trace(go.Scatter3d(x=xyz_1[0], y=xyz_1[1], z=xyz_1[2],     \n",
    "                showlegend=True, name = 'Поворот по OZ', surfaceaxis=2,  opacity=0.3, legendgroup=\"group4\",marker=dict(size=1, color='blue', colorscale='Viridis',)))\n",
    "fig.add_trace(go.Scatter3d(x=xyz_1[0], y=xyz_1[1], z=xyz_1[2], \n",
    "                showlegend=False, surfaceaxis=-1, opacity=1, legendgroup=\"group4\",marker=dict(size=1, color='black', colorscale='Viridis',)))   \n",
    "\n",
    "      # Плоскость 2. Поворот по OY\n",
    "fig.add_trace(go.Scatter3d(x=xyz_2[0], y=xyz_2[1], z=xyz_2[2],     \n",
    "                showlegend=True, name = 'Поворот по OY', surfaceaxis=2,  opacity=0.3, legendgroup=\"group5\",marker=dict(size=1, color='green', colorscale='Viridis',)))\n",
    "fig.add_trace(go.Scatter3d(x=xyz_2[0], y=xyz_2[1], z=xyz_2[2], \n",
    "                showlegend=False, surfaceaxis=-1, opacity=1, legendgroup=\"group5\",marker=dict(size=1, color='black', colorscale='Viridis',)))  \n",
    "\n",
    "      # Плоскость 3. Поворот по OX\n",
    "fig.add_trace(go.Scatter3d(x=xyz_3[0], y=xyz_3[1], z=xyz_3[2],     \n",
    "                showlegend=True, name = 'Поворот по OX', surfaceaxis=2,  opacity=0.3, legendgroup=\"group6\",marker=dict(size=1, color='red', colorscale='Viridis',)))\n",
    "fig.add_trace(go.Scatter3d(x=xyz_3[0], y=xyz_3[1], z=xyz_3[2], \n",
    "                showlegend=False, surfaceaxis=-1, opacity=1, legendgroup=\"group6\",marker=dict(size=1, color='black', colorscale='Viridis',)))                                             \n",
    "                \n",
    "#_________________________________________________________________________________________________________________________    \n",
    "\n",
    "fig.update_layout(title={'text': f\"{date.today()}\",\n",
    "                  'y':0.97,'x':0.5,'xanchor': 'center','yanchor': 'top'})\n",
    "\n",
    "                                             #Оформление\n",
    "fig.update_layout(legend=dict(yanchor=\"top\", y=0.99,\n",
    "                  xanchor=\"left\", x=0.7))\n",
    "\n",
    "tickf = 12\n",
    "fig.update_layout(autosize=False, scene = { 'camera_eye': {\"x\": -2, \"y\": 2, \"z\":1.65},'camera_center' : {\"x\": 0, \"y\": 0, \"z\":0},}, \n",
    "                  width=950, height=500, margin=dict(l=10, r=0, b=10, t=50))\n",
    "\n",
    "fig.update_layout(scene=dict(xaxis=dict( title=\"X\",backgroundcolor=\"rgb(200, 200, 230)\",gridcolor=\"white\",\n",
    "                         showbackground=True,zerolinecolor=\"white\", tickfont=dict(size=tickf)),\n",
    "                  yaxis=dict(title=\"Y\", backgroundcolor=\"rgb(230, 200,230)\",gridcolor=\"white\",\n",
    "                        showbackground=True,tickfont=dict(size=tickf),zerolinecolor=\"white\"),\n",
    "                  zaxis=dict(title= \"Z\", backgroundcolor=\"rgb(200, 200,200)\",gridcolor=\"white\",\n",
    "                         showbackground=True,tickfont=dict(size=tickf),zerolinecolor=\"white\",)))\n",
    "\n",
    "fig.update_layout(scene=dict(xaxis_showspikes=False, yaxis_showspikes=False),)\n",
    "fig.update_scenes(camera_projection_type=\"orthographic\")\n",
    "\n",
    "fig.show()"
   ]
  },
  {
   "cell_type": "code",
   "execution_count": null,
   "id": "80902224",
   "metadata": {},
   "outputs": [],
   "source": []
  }
 ],
 "metadata": {
  "kernelspec": {
   "display_name": "Python 3.9.12 ('base')",
   "language": "python",
   "name": "python3"
  },
  "language_info": {
   "codemirror_mode": {
    "name": "ipython",
    "version": 3
   },
   "file_extension": ".py",
   "mimetype": "text/x-python",
   "name": "python",
   "nbconvert_exporter": "python",
   "pygments_lexer": "ipython3",
   "version": "3.10.6"
  },
  "toc": {
   "base_numbering": 1,
   "nav_menu": {},
   "number_sections": true,
   "sideBar": true,
   "skip_h1_title": false,
   "title_cell": "Table of Contents",
   "title_sidebar": "Contents",
   "toc_cell": false,
   "toc_position": {},
   "toc_section_display": true,
   "toc_window_display": false
  },
  "vscode": {
   "interpreter": {
    "hash": "3de8278a9739f65375f6d4e452969ca8b7a4b393d8488686070d12c8faf929f1"
   }
  }
 },
 "nbformat": 4,
 "nbformat_minor": 5
}
