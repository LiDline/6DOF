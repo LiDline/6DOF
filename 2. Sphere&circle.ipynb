{
 "cells": [
  {
   "cell_type": "code",
   "execution_count": 1,
   "id": "d12053ee",
   "metadata": {},
   "outputs": [],
   "source": [
    "import plotly.graph_objects as go\n",
    "from numpy import pi, sqrt, cos, sin, arccos\n",
    "from datetime import date"
   ]
  },
  {
   "cell_type": "markdown",
   "id": "cedd3cf4",
   "metadata": {},
   "source": [
    "# Пересечение сферы и окружности "
   ]
  },
  {
   "cell_type": "markdown",
   "id": "c628105f",
   "metadata": {},
   "source": [
    "Пусть плоскость, в которой находится окружность ⟂ OX\n",
    "$$\n",
    "\\begin{equation*}\n",
    " \\begin{cases}\n",
    "   y^2+z^2=R^2 &\\text{$\\ - для \\ окружности$}\\\\\n",
    "   (x-X)^2+(y-Y)^2+(z-Z)^2=r^2 &\\text{$\\ - для \\ сферы (раскроем \\ скобки)$}\n",
    " \\end{cases}\n",
    "\\end{equation*}\n",
    "$$\n",
    "\n",
    "X, Y, Z - смещение сферы относительно центра окружности (совпадает с началом оси); $(x-X)^2 = const$. \n",
    "\n",
    "Зададим радиусы окружностей и координаты смещения ц. сферы:"
   ]
  },
  {
   "cell_type": "code",
   "execution_count": 2,
   "id": "ff291297",
   "metadata": {},
   "outputs": [],
   "source": [
    "R = 1.5    # Радиус окружности\n",
    "r = 2   # Радиус сферы\n",
    "X = 1.5 # Смещение ц. сферы по ОX\n",
    "Y = 1.5 # Смещение ц. сферы по ОY\n",
    "Z = 1.5 # Смещение ц. сферы по ОZ"
   ]
  },
  {
   "cell_type": "markdown",
   "id": "7a8d6608",
   "metadata": {},
   "source": [
    "$$\n",
    "\\begin{equation*}\n",
    " \\begin{cases}\n",
    "   y^2=R^2-z^2  &\\text{$(1)$}\\\\\n",
    "   y^2+z^2-2Yy-2Zz+Y^2+Z^2=r^2-(x-X)^2 \\ &\\text{$(2)$}\n",
    " \\end{cases}\n",
    "\\end{equation*}\n",
    "$$\n",
    "\n",
    "Подставим (1) в (2): \n",
    "\n",
    "$$R^2-z^2+z^2-2Yy-2Zz+Y^2+Z^2=r^2-(x-X)^2\\bigg|\\ z^2\\ сокращается;$$\n",
    "\n",
    "$$-2Yy-2Zz+Y^2+Z^2=r^2-(x-X)^2-R^2;$$\n",
    "\n",
    "$$-2Yy-2Zz=r^2-(x-X)^2-R^2-Y^2-Z^2\\bigg| \\ *-{1\\over2};$$\n",
    "\n",
    "$$Yy+Zz=\\underbrace{{r^2-(x-X)^2-R^2-Y^2-Z^2 \\over -2}}_{A}$$"
   ]
  },
  {
   "cell_type": "code",
   "execution_count": 3,
   "id": "e73e1177",
   "metadata": {},
   "outputs": [],
   "source": [
    "A = -(r**2-X**2-R**2-Y**2-Z**2)/2"
   ]
  },
  {
   "cell_type": "markdown",
   "id": "47938a8e",
   "metadata": {},
   "source": [
    "$$\n",
    "\\begin{equation*}\n",
    " \\begin{cases}\n",
    "   y^2=R^2-z^2 \\ &\\text{$(1)$}\\\\\n",
    "   Yy+Zz=A \\ &\\text{$(3)$}\n",
    " \\end{cases}\n",
    "\\end{equation*}\n",
    "$$\n",
    "\n",
    "Пусть из (3):\n",
    "$$\n",
    "\\begin{equation*}\n",
    " \\begin{cases}\n",
    "   z={A-Yy\\over Z},\\ при\\ X≠0\\ &\\text{(4)}\\\\\n",
    "   y = {A \\over Y},\\ при\\ X=0 &\\text{(5)}\n",
    " \\end{cases}\n",
    "\\end{equation*}\n",
    "$$"
   ]
  },
  {
   "cell_type": "markdown",
   "id": "f5ac273a",
   "metadata": {},
   "source": [
    "### Рассмотрим X≠0.\n",
    "\n",
    "Подставим (4) в (1):\n",
    "\n",
    "$$y^2=R^2-({A-Yy\\over Z})^2;$$\n",
    "\n",
    "$$y^2=R^2-{A^2-2AYy+(Yy)^2\\over Z^2}\\bigg|\\ домножим\\ на\\ Z^2;$$\n",
    "\n",
    "$$Z^2y^2=Z^2R^2-(A^2-2AYy+Y^2y^2);$$\n",
    "\n",
    "$$Z^2y^2-Z^2R^2+A^2-2AYy+Y^2y^2=0;$$\n",
    "\n",
    "$$\\underbrace{(Y^2+Z^2)}_{a}y^2+\\underbrace{-2AY}_{b}y+\\underbrace{(A^2-Z^2R^2)}_{c} = 0.\\ (6)$$"
   ]
  },
  {
   "cell_type": "code",
   "execution_count": 4,
   "id": "cfecb932",
   "metadata": {},
   "outputs": [],
   "source": [
    "a = Y**2+Z**2\n",
    "b = -2*A*Y\n",
    "c = A**2 - (Z**2) * (R**2)"
   ]
  },
  {
   "cell_type": "markdown",
   "id": "ac9719a4",
   "metadata": {},
   "source": [
    "Решим квадратное ур-ие (6):\n",
    "\n",
    "$$D = b^2 - 4ac;$$\n",
    "$$\n",
    "\\begin{equation*}\n",
    " \\begin{cases}\n",
    "   y_{1,2} = {-b\\pm \\sqrt{D}\\over 2a}, \\ &\\text{Если D > 0;}\\\\\n",
    "   y= {-b\\over 2a}, &\\text{Если D = 0.}\n",
    " \\end{cases}\n",
    "\\end{equation*}\n",
    "$$"
   ]
  },
  {
   "cell_type": "code",
   "execution_count": 5,
   "id": "88dd8aa2",
   "metadata": {},
   "outputs": [],
   "source": [
    "D = b**2 - 4*a*c\n",
    "y_1 = (-b+sqrt(D))/(2*a)\n",
    "y_2 = (-b-sqrt(D))/(2*a)"
   ]
  },
  {
   "cell_type": "markdown",
   "id": "727653e9",
   "metadata": {},
   "source": [
    "Из (1):\n",
    "$$z_{1,2}=\\sqrt{R^2-y^2}.$$"
   ]
  },
  {
   "cell_type": "code",
   "execution_count": 6,
   "id": "e0927f8e",
   "metadata": {},
   "outputs": [],
   "source": [
    "z_1 = sqrt(R**2-y_1**2)\n",
    "z_2 = sqrt(R**2-y_2**2)"
   ]
  },
  {
   "cell_type": "markdown",
   "id": "c64eff04",
   "metadata": {},
   "source": [
    "$$y_{1,2}=R\\cos(t)=>t = \\arccos({y_{1,2}\\over R})$$"
   ]
  },
  {
   "cell_type": "code",
   "execution_count": 7,
   "id": "ae01a474",
   "metadata": {},
   "outputs": [],
   "source": [
    "t_1 = arccos(y_1/R)*180/pi\n",
    "t_2 = arccos(y_2/R)*180/pi"
   ]
  },
  {
   "cell_type": "markdown",
   "id": "8b5f18ce",
   "metadata": {},
   "source": [
    "### График при X≠0"
   ]
  },
  {
   "cell_type": "code",
   "execution_count": 8,
   "id": "0027e743",
   "metadata": {},
   "outputs": [
    {
     "data": {
      "application/vnd.plotly.v1+json": {
       "config": {
        "plotlyServerURL": "https://plot.ly"
       },
       "data": [
        {
         "legendgroup": "group1",
         "marker": {
          "color": "blue",
          "colorscale": [
           [
            0,
            "#440154"
           ],
           [
            0.1111111111111111,
            "#482878"
           ],
           [
            0.2222222222222222,
            "#3e4989"
           ],
           [
            0.3333333333333333,
            "#31688e"
           ],
           [
            0.4444444444444444,
            "#26828e"
           ],
           [
            0.5555555555555556,
            "#1f9e89"
           ],
           [
            0.6666666666666666,
            "#35b779"
           ],
           [
            0.7777777777777778,
            "#6ece58"
           ],
           [
            0.8888888888888888,
            "#b5de2b"
           ],
           [
            1,
            "#fde725"
           ]
          ],
          "size": 5
         },
         "name": "Рычаг-Тяга (6.78, град)",
         "opacity": 1,
         "showlegend": true,
         "type": "scatter3d",
         "x": [
          0,
          0
         ],
         "y": [
          0,
          1.4895006561676507
         ],
         "z": [
          0,
          0.17716601049901723
         ]
        },
        {
         "legendgroup": "group1",
         "line": {
          "dash": "dot"
         },
         "marker": {
          "color": "blue",
          "colorscale": [
           [
            0,
            "#440154"
           ],
           [
            0.1111111111111111,
            "#482878"
           ],
           [
            0.2222222222222222,
            "#3e4989"
           ],
           [
            0.3333333333333333,
            "#31688e"
           ],
           [
            0.4444444444444444,
            "#26828e"
           ],
           [
            0.5555555555555556,
            "#1f9e89"
           ],
           [
            0.6666666666666666,
            "#35b779"
           ],
           [
            0.7777777777777778,
            "#6ece58"
           ],
           [
            0.8888888888888888,
            "#b5de2b"
           ],
           [
            1,
            "#fde725"
           ]
          ],
          "size": 5
         },
         "opacity": 1,
         "showlegend": false,
         "type": "scatter3d",
         "x": [
          0,
          1.5
         ],
         "y": [
          1.4895006561676507,
          1.5
         ],
         "z": [
          0.17716601049901723,
          1.5
         ]
        },
        {
         "legendgroup": "group2",
         "marker": {
          "color": "red",
          "colorscale": [
           [
            0,
            "#440154"
           ],
           [
            0.1111111111111111,
            "#482878"
           ],
           [
            0.2222222222222222,
            "#3e4989"
           ],
           [
            0.3333333333333333,
            "#31688e"
           ],
           [
            0.4444444444444444,
            "#26828e"
           ],
           [
            0.5555555555555556,
            "#1f9e89"
           ],
           [
            0.6666666666666666,
            "#35b779"
           ],
           [
            0.7777777777777778,
            "#6ece58"
           ],
           [
            0.8888888888888888,
            "#b5de2b"
           ],
           [
            1,
            "#fde725"
           ]
          ],
          "size": 5
         },
         "name": "Рычаг-Тяга (83.22, град)",
         "opacity": 1,
         "showlegend": true,
         "type": "scatter3d",
         "x": [
          0,
          0
         ],
         "y": [
          0,
          0.17716601049901579
         ],
         "z": [
          0,
          1.489500656167651
         ]
        },
        {
         "legendgroup": "group2",
         "line": {
          "dash": "dot"
         },
         "marker": {
          "color": "red",
          "colorscale": [
           [
            0,
            "#440154"
           ],
           [
            0.1111111111111111,
            "#482878"
           ],
           [
            0.2222222222222222,
            "#3e4989"
           ],
           [
            0.3333333333333333,
            "#31688e"
           ],
           [
            0.4444444444444444,
            "#26828e"
           ],
           [
            0.5555555555555556,
            "#1f9e89"
           ],
           [
            0.6666666666666666,
            "#35b779"
           ],
           [
            0.7777777777777778,
            "#6ece58"
           ],
           [
            0.8888888888888888,
            "#b5de2b"
           ],
           [
            1,
            "#fde725"
           ]
          ],
          "size": 5
         },
         "opacity": 1,
         "showlegend": false,
         "type": "scatter3d",
         "x": [
          0,
          1.5
         ],
         "y": [
          0.17716601049901579,
          1.5
         ],
         "z": [
          1.489500656167651,
          1.5
         ]
        }
       ],
       "layout": {
        "autosize": false,
        "height": 500,
        "legend": {
         "x": 0.7,
         "xanchor": "left",
         "y": 0.99,
         "yanchor": "top"
        },
        "margin": {
         "b": 10,
         "l": 10,
         "r": 0,
         "t": 50
        },
        "scene": {
         "aspectratio": {
          "x": 1,
          "y": 1,
          "z": 1
         },
         "camera": {
          "center": {
           "x": 0,
           "y": 0,
           "z": 0
          },
          "eye": {
           "x": -2,
           "y": 2,
           "z": 1.65
          },
          "projection": {
           "type": "orthographic"
          }
         },
         "xaxis": {
          "backgroundcolor": "rgb(200, 200, 230)",
          "gridcolor": "white",
          "showbackground": true,
          "showspikes": false,
          "tickfont": {
           "size": 12
          },
          "title": {
           "text": "X"
          },
          "zerolinecolor": "white"
         },
         "yaxis": {
          "backgroundcolor": "rgb(230, 200,230)",
          "gridcolor": "white",
          "showbackground": true,
          "showspikes": false,
          "tickfont": {
           "size": 12
          },
          "title": {
           "text": "Y"
          },
          "zerolinecolor": "white"
         },
         "zaxis": {
          "backgroundcolor": "rgb(200, 200,200)",
          "gridcolor": "white",
          "showbackground": true,
          "tickfont": {
           "size": 12
          },
          "title": {
           "text": "Z"
          },
          "zerolinecolor": "white"
         }
        },
        "template": {
         "data": {
          "bar": [
           {
            "error_x": {
             "color": "#2a3f5f"
            },
            "error_y": {
             "color": "#2a3f5f"
            },
            "marker": {
             "line": {
              "color": "#E5ECF6",
              "width": 0.5
             },
             "pattern": {
              "fillmode": "overlay",
              "size": 10,
              "solidity": 0.2
             }
            },
            "type": "bar"
           }
          ],
          "barpolar": [
           {
            "marker": {
             "line": {
              "color": "#E5ECF6",
              "width": 0.5
             },
             "pattern": {
              "fillmode": "overlay",
              "size": 10,
              "solidity": 0.2
             }
            },
            "type": "barpolar"
           }
          ],
          "carpet": [
           {
            "aaxis": {
             "endlinecolor": "#2a3f5f",
             "gridcolor": "white",
             "linecolor": "white",
             "minorgridcolor": "white",
             "startlinecolor": "#2a3f5f"
            },
            "baxis": {
             "endlinecolor": "#2a3f5f",
             "gridcolor": "white",
             "linecolor": "white",
             "minorgridcolor": "white",
             "startlinecolor": "#2a3f5f"
            },
            "type": "carpet"
           }
          ],
          "choropleth": [
           {
            "colorbar": {
             "outlinewidth": 0,
             "ticks": ""
            },
            "type": "choropleth"
           }
          ],
          "contour": [
           {
            "colorbar": {
             "outlinewidth": 0,
             "ticks": ""
            },
            "colorscale": [
             [
              0,
              "#0d0887"
             ],
             [
              0.1111111111111111,
              "#46039f"
             ],
             [
              0.2222222222222222,
              "#7201a8"
             ],
             [
              0.3333333333333333,
              "#9c179e"
             ],
             [
              0.4444444444444444,
              "#bd3786"
             ],
             [
              0.5555555555555556,
              "#d8576b"
             ],
             [
              0.6666666666666666,
              "#ed7953"
             ],
             [
              0.7777777777777778,
              "#fb9f3a"
             ],
             [
              0.8888888888888888,
              "#fdca26"
             ],
             [
              1,
              "#f0f921"
             ]
            ],
            "type": "contour"
           }
          ],
          "contourcarpet": [
           {
            "colorbar": {
             "outlinewidth": 0,
             "ticks": ""
            },
            "type": "contourcarpet"
           }
          ],
          "heatmap": [
           {
            "colorbar": {
             "outlinewidth": 0,
             "ticks": ""
            },
            "colorscale": [
             [
              0,
              "#0d0887"
             ],
             [
              0.1111111111111111,
              "#46039f"
             ],
             [
              0.2222222222222222,
              "#7201a8"
             ],
             [
              0.3333333333333333,
              "#9c179e"
             ],
             [
              0.4444444444444444,
              "#bd3786"
             ],
             [
              0.5555555555555556,
              "#d8576b"
             ],
             [
              0.6666666666666666,
              "#ed7953"
             ],
             [
              0.7777777777777778,
              "#fb9f3a"
             ],
             [
              0.8888888888888888,
              "#fdca26"
             ],
             [
              1,
              "#f0f921"
             ]
            ],
            "type": "heatmap"
           }
          ],
          "heatmapgl": [
           {
            "colorbar": {
             "outlinewidth": 0,
             "ticks": ""
            },
            "colorscale": [
             [
              0,
              "#0d0887"
             ],
             [
              0.1111111111111111,
              "#46039f"
             ],
             [
              0.2222222222222222,
              "#7201a8"
             ],
             [
              0.3333333333333333,
              "#9c179e"
             ],
             [
              0.4444444444444444,
              "#bd3786"
             ],
             [
              0.5555555555555556,
              "#d8576b"
             ],
             [
              0.6666666666666666,
              "#ed7953"
             ],
             [
              0.7777777777777778,
              "#fb9f3a"
             ],
             [
              0.8888888888888888,
              "#fdca26"
             ],
             [
              1,
              "#f0f921"
             ]
            ],
            "type": "heatmapgl"
           }
          ],
          "histogram": [
           {
            "marker": {
             "pattern": {
              "fillmode": "overlay",
              "size": 10,
              "solidity": 0.2
             }
            },
            "type": "histogram"
           }
          ],
          "histogram2d": [
           {
            "colorbar": {
             "outlinewidth": 0,
             "ticks": ""
            },
            "colorscale": [
             [
              0,
              "#0d0887"
             ],
             [
              0.1111111111111111,
              "#46039f"
             ],
             [
              0.2222222222222222,
              "#7201a8"
             ],
             [
              0.3333333333333333,
              "#9c179e"
             ],
             [
              0.4444444444444444,
              "#bd3786"
             ],
             [
              0.5555555555555556,
              "#d8576b"
             ],
             [
              0.6666666666666666,
              "#ed7953"
             ],
             [
              0.7777777777777778,
              "#fb9f3a"
             ],
             [
              0.8888888888888888,
              "#fdca26"
             ],
             [
              1,
              "#f0f921"
             ]
            ],
            "type": "histogram2d"
           }
          ],
          "histogram2dcontour": [
           {
            "colorbar": {
             "outlinewidth": 0,
             "ticks": ""
            },
            "colorscale": [
             [
              0,
              "#0d0887"
             ],
             [
              0.1111111111111111,
              "#46039f"
             ],
             [
              0.2222222222222222,
              "#7201a8"
             ],
             [
              0.3333333333333333,
              "#9c179e"
             ],
             [
              0.4444444444444444,
              "#bd3786"
             ],
             [
              0.5555555555555556,
              "#d8576b"
             ],
             [
              0.6666666666666666,
              "#ed7953"
             ],
             [
              0.7777777777777778,
              "#fb9f3a"
             ],
             [
              0.8888888888888888,
              "#fdca26"
             ],
             [
              1,
              "#f0f921"
             ]
            ],
            "type": "histogram2dcontour"
           }
          ],
          "mesh3d": [
           {
            "colorbar": {
             "outlinewidth": 0,
             "ticks": ""
            },
            "type": "mesh3d"
           }
          ],
          "parcoords": [
           {
            "line": {
             "colorbar": {
              "outlinewidth": 0,
              "ticks": ""
             }
            },
            "type": "parcoords"
           }
          ],
          "pie": [
           {
            "automargin": true,
            "type": "pie"
           }
          ],
          "scatter": [
           {
            "fillpattern": {
             "fillmode": "overlay",
             "size": 10,
             "solidity": 0.2
            },
            "type": "scatter"
           }
          ],
          "scatter3d": [
           {
            "line": {
             "colorbar": {
              "outlinewidth": 0,
              "ticks": ""
             }
            },
            "marker": {
             "colorbar": {
              "outlinewidth": 0,
              "ticks": ""
             }
            },
            "type": "scatter3d"
           }
          ],
          "scattercarpet": [
           {
            "marker": {
             "colorbar": {
              "outlinewidth": 0,
              "ticks": ""
             }
            },
            "type": "scattercarpet"
           }
          ],
          "scattergeo": [
           {
            "marker": {
             "colorbar": {
              "outlinewidth": 0,
              "ticks": ""
             }
            },
            "type": "scattergeo"
           }
          ],
          "scattergl": [
           {
            "marker": {
             "colorbar": {
              "outlinewidth": 0,
              "ticks": ""
             }
            },
            "type": "scattergl"
           }
          ],
          "scattermapbox": [
           {
            "marker": {
             "colorbar": {
              "outlinewidth": 0,
              "ticks": ""
             }
            },
            "type": "scattermapbox"
           }
          ],
          "scatterpolar": [
           {
            "marker": {
             "colorbar": {
              "outlinewidth": 0,
              "ticks": ""
             }
            },
            "type": "scatterpolar"
           }
          ],
          "scatterpolargl": [
           {
            "marker": {
             "colorbar": {
              "outlinewidth": 0,
              "ticks": ""
             }
            },
            "type": "scatterpolargl"
           }
          ],
          "scatterternary": [
           {
            "marker": {
             "colorbar": {
              "outlinewidth": 0,
              "ticks": ""
             }
            },
            "type": "scatterternary"
           }
          ],
          "surface": [
           {
            "colorbar": {
             "outlinewidth": 0,
             "ticks": ""
            },
            "colorscale": [
             [
              0,
              "#0d0887"
             ],
             [
              0.1111111111111111,
              "#46039f"
             ],
             [
              0.2222222222222222,
              "#7201a8"
             ],
             [
              0.3333333333333333,
              "#9c179e"
             ],
             [
              0.4444444444444444,
              "#bd3786"
             ],
             [
              0.5555555555555556,
              "#d8576b"
             ],
             [
              0.6666666666666666,
              "#ed7953"
             ],
             [
              0.7777777777777778,
              "#fb9f3a"
             ],
             [
              0.8888888888888888,
              "#fdca26"
             ],
             [
              1,
              "#f0f921"
             ]
            ],
            "type": "surface"
           }
          ],
          "table": [
           {
            "cells": {
             "fill": {
              "color": "#EBF0F8"
             },
             "line": {
              "color": "white"
             }
            },
            "header": {
             "fill": {
              "color": "#C8D4E3"
             },
             "line": {
              "color": "white"
             }
            },
            "type": "table"
           }
          ]
         },
         "layout": {
          "annotationdefaults": {
           "arrowcolor": "#2a3f5f",
           "arrowhead": 0,
           "arrowwidth": 1
          },
          "autotypenumbers": "strict",
          "coloraxis": {
           "colorbar": {
            "outlinewidth": 0,
            "ticks": ""
           }
          },
          "colorscale": {
           "diverging": [
            [
             0,
             "#8e0152"
            ],
            [
             0.1,
             "#c51b7d"
            ],
            [
             0.2,
             "#de77ae"
            ],
            [
             0.3,
             "#f1b6da"
            ],
            [
             0.4,
             "#fde0ef"
            ],
            [
             0.5,
             "#f7f7f7"
            ],
            [
             0.6,
             "#e6f5d0"
            ],
            [
             0.7,
             "#b8e186"
            ],
            [
             0.8,
             "#7fbc41"
            ],
            [
             0.9,
             "#4d9221"
            ],
            [
             1,
             "#276419"
            ]
           ],
           "sequential": [
            [
             0,
             "#0d0887"
            ],
            [
             0.1111111111111111,
             "#46039f"
            ],
            [
             0.2222222222222222,
             "#7201a8"
            ],
            [
             0.3333333333333333,
             "#9c179e"
            ],
            [
             0.4444444444444444,
             "#bd3786"
            ],
            [
             0.5555555555555556,
             "#d8576b"
            ],
            [
             0.6666666666666666,
             "#ed7953"
            ],
            [
             0.7777777777777778,
             "#fb9f3a"
            ],
            [
             0.8888888888888888,
             "#fdca26"
            ],
            [
             1,
             "#f0f921"
            ]
           ],
           "sequentialminus": [
            [
             0,
             "#0d0887"
            ],
            [
             0.1111111111111111,
             "#46039f"
            ],
            [
             0.2222222222222222,
             "#7201a8"
            ],
            [
             0.3333333333333333,
             "#9c179e"
            ],
            [
             0.4444444444444444,
             "#bd3786"
            ],
            [
             0.5555555555555556,
             "#d8576b"
            ],
            [
             0.6666666666666666,
             "#ed7953"
            ],
            [
             0.7777777777777778,
             "#fb9f3a"
            ],
            [
             0.8888888888888888,
             "#fdca26"
            ],
            [
             1,
             "#f0f921"
            ]
           ]
          },
          "colorway": [
           "#636efa",
           "#EF553B",
           "#00cc96",
           "#ab63fa",
           "#FFA15A",
           "#19d3f3",
           "#FF6692",
           "#B6E880",
           "#FF97FF",
           "#FECB52"
          ],
          "font": {
           "color": "#2a3f5f"
          },
          "geo": {
           "bgcolor": "white",
           "lakecolor": "white",
           "landcolor": "#E5ECF6",
           "showlakes": true,
           "showland": true,
           "subunitcolor": "white"
          },
          "hoverlabel": {
           "align": "left"
          },
          "hovermode": "closest",
          "mapbox": {
           "style": "light"
          },
          "paper_bgcolor": "white",
          "plot_bgcolor": "#E5ECF6",
          "polar": {
           "angularaxis": {
            "gridcolor": "white",
            "linecolor": "white",
            "ticks": ""
           },
           "bgcolor": "#E5ECF6",
           "radialaxis": {
            "gridcolor": "white",
            "linecolor": "white",
            "ticks": ""
           }
          },
          "scene": {
           "xaxis": {
            "backgroundcolor": "#E5ECF6",
            "gridcolor": "white",
            "gridwidth": 2,
            "linecolor": "white",
            "showbackground": true,
            "ticks": "",
            "zerolinecolor": "white"
           },
           "yaxis": {
            "backgroundcolor": "#E5ECF6",
            "gridcolor": "white",
            "gridwidth": 2,
            "linecolor": "white",
            "showbackground": true,
            "ticks": "",
            "zerolinecolor": "white"
           },
           "zaxis": {
            "backgroundcolor": "#E5ECF6",
            "gridcolor": "white",
            "gridwidth": 2,
            "linecolor": "white",
            "showbackground": true,
            "ticks": "",
            "zerolinecolor": "white"
           }
          },
          "shapedefaults": {
           "line": {
            "color": "#2a3f5f"
           }
          },
          "ternary": {
           "aaxis": {
            "gridcolor": "white",
            "linecolor": "white",
            "ticks": ""
           },
           "baxis": {
            "gridcolor": "white",
            "linecolor": "white",
            "ticks": ""
           },
           "bgcolor": "#E5ECF6",
           "caxis": {
            "gridcolor": "white",
            "linecolor": "white",
            "ticks": ""
           }
          },
          "title": {
           "x": 0.05
          },
          "xaxis": {
           "automargin": true,
           "gridcolor": "white",
           "linecolor": "white",
           "ticks": "",
           "title": {
            "standoff": 15
           },
           "zerolinecolor": "white",
           "zerolinewidth": 2
          },
          "yaxis": {
           "automargin": true,
           "gridcolor": "white",
           "linecolor": "white",
           "ticks": "",
           "title": {
            "standoff": 15
           },
           "zerolinecolor": "white",
           "zerolinewidth": 2
          }
         }
        },
        "title": {
         "text": "2023-04-24",
         "x": 0.5,
         "xanchor": "center",
         "y": 0.97,
         "yanchor": "top"
        },
        "width": 950
       }
      }
     },
     "metadata": {},
     "output_type": "display_data"
    }
   ],
   "source": [
    "fig = go.Figure()\n",
    "\n",
    "fig.add_trace(go.Scatter3d(x=[0, 0], y=[0, y_1], z=[0, z_1],  \n",
    "                showlegend=True, name = f'Рычаг-Тяга ({round(t_1, 2)}, град)', opacity=1, legendgroup=\"group1\",marker=dict(size=5, color='blue', colorscale='Viridis',)))\n",
    "fig.add_trace(go.Scatter3d(x=[0, 1.5], y=[y_1, 1.5], z=[z_1, 1.5],  \n",
    "                showlegend=False, opacity=1, legendgroup=\"group1\",marker=dict(size=5, color='blue', colorscale='Viridis'), line = dict(dash = 'dot')))  \n",
    "\n",
    "fig.add_trace(go.Scatter3d(x=[0, 0], y=[0, y_2], z=[0, z_2],  \n",
    "                showlegend=True, name = f'Рычаг-Тяга ({round(t_2, 2)}, град)', opacity=1, legendgroup=\"group2\",marker=dict(size=5, color='red', colorscale='Viridis')))\n",
    "fig.add_trace(go.Scatter3d(x=[0, 1.5], y=[y_2, 1.5], z=[z_2, 1.5],  \n",
    "                showlegend=False, opacity=1, legendgroup=\"group2\",marker=dict(size=5, color='red', colorscale='Viridis'), line = dict(dash = 'dot')))                               \n",
    "\n",
    "#_________________________________________________________________________________________________________________________    \n",
    "\n",
    "fig.update_layout(title={'text': f\"{date.today()}\",\n",
    "                  'y':0.97,'x':0.5,'xanchor': 'center','yanchor': 'top'})\n",
    "\n",
    "                                             #Оформление\n",
    "fig.update_layout(legend=dict(yanchor=\"top\", y=0.99,\n",
    "                  xanchor=\"left\", x=0.7))\n",
    "\n",
    "tickf = 12\n",
    "fig.update_layout(autosize=False, scene = {\"aspectratio\": {\"x\": 1, \"y\": 1, \"z\": 1}, 'camera_eye': {\"x\": -2, \"y\": 2, \"z\":1.65},'camera_center' : {\"x\": 0, \"y\": 0, \"z\":0},}, \n",
    "                  width=950, height=500, margin=dict(l=10, r=0, b=10, t=50))\n",
    "\n",
    "fig.update_layout(scene=dict(xaxis=dict( title=\"X\",backgroundcolor=\"rgb(200, 200, 230)\",gridcolor=\"white\",\n",
    "                         showbackground=True,zerolinecolor=\"white\", tickfont=dict(size=tickf)),\n",
    "                  yaxis=dict(title=\"Y\", backgroundcolor=\"rgb(230, 200,230)\",gridcolor=\"white\",\n",
    "                        showbackground=True,tickfont=dict(size=tickf),zerolinecolor=\"white\"),\n",
    "                  zaxis=dict(title= \"Z\", backgroundcolor=\"rgb(200, 200,200)\",gridcolor=\"white\",\n",
    "                         showbackground=True,tickfont=dict(size=tickf),zerolinecolor=\"white\",)))\n",
    "\n",
    "fig.update_layout(scene=dict(xaxis_showspikes=False, yaxis_showspikes=False),)\n",
    "fig.update_scenes(camera_projection_type=\"orthographic\")\n",
    "\n",
    "fig.show()             "
   ]
  },
  {
   "cell_type": "code",
   "execution_count": null,
   "id": "22113bfd",
   "metadata": {},
   "outputs": [],
   "source": []
  }
 ],
 "metadata": {
  "kernelspec": {
   "display_name": "Python 3.9.12 ('base')",
   "language": "python",
   "name": "python3"
  },
  "language_info": {
   "codemirror_mode": {
    "name": "ipython",
    "version": 3
   },
   "file_extension": ".py",
   "mimetype": "text/x-python",
   "name": "python",
   "nbconvert_exporter": "python",
   "pygments_lexer": "ipython3",
   "version": "3.10.6"
  },
  "toc": {
   "base_numbering": 1,
   "nav_menu": {},
   "number_sections": true,
   "sideBar": true,
   "skip_h1_title": false,
   "title_cell": "Table of Contents",
   "title_sidebar": "Contents",
   "toc_cell": false,
   "toc_position": {},
   "toc_section_display": true,
   "toc_window_display": false
  },
  "vscode": {
   "interpreter": {
    "hash": "3de8278a9739f65375f6d4e452969ca8b7a4b393d8488686070d12c8faf929f1"
   }
  }
 },
 "nbformat": 4,
 "nbformat_minor": 5
}
