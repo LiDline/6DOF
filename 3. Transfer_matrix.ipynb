{
 "cells": [
  {
   "cell_type": "code",
   "execution_count": 1,
   "metadata": {},
   "outputs": [],
   "source": [
    "import plotly.graph_objects as go\n",
    "import numpy as np\n",
    "from numpy import pi, radians\n",
    "from datetime import date\n",
    "\n",
    "\n",
    "from func.rotation_z import R_z\n",
    "from func.transition_matrix import transition_matrix\n",
    "from func.rotate_matrix import rotate_matrix\n",
    "from func.init_points import init_points\n",
    "from func.cross_point import cross_point"
   ]
  },
  {
   "attachments": {},
   "cell_type": "markdown",
   "metadata": {},
   "source": [
    "# Нахождение точки пересечения тяги и рычага тренажёра"
   ]
  },
  {
   "attachments": {},
   "cell_type": "markdown",
   "metadata": {},
   "source": [
    "## 1 Общая запись матричных преобразований\n",
    "\n",
    "\n",
    "**С помощью ниже представленного матричного вычисления мы перемещаем И точку, И её локальную систему координат.**\n",
    "$$\n",
    "\n",
    "\\Bigg(\n",
    "  \\begin{vmatrix}\n",
    "  \\ 1& \\ 0& \\ 0& \\ Δx \\\\\n",
    "  \\ 0& \\ 1& \\ 0& \\ Δy \\\\\n",
    "  \\ 0& \\ 0& \\ 1& \\ Δz \\\\\n",
    "  \\ 0& \\ 0& \\ 0& \\ 1 \\\\\n",
    "\\end{vmatrix}\n",
    "\\times\n",
    "\\begin{vmatrix}\n",
    "  \\ cos(ψ)& \\ -sin(ψ)& \\ 0& \\ 0 \\\\\n",
    "  \\ sin(ψ)& \\ cos(ψ)& \\ 0& \\ 0 \\\\\n",
    "  \\ 0& \\ 0& \\ 1& \\ 0 \\\\\n",
    "  \\ 0& \\ 0& \\ 0& \\ 1 \\\\\n",
    "\\end{vmatrix}\\Bigg)\n",
    "\\times\n",
    "\\begin{vmatrix}\n",
    "  \\ x_0\\\\\n",
    "  \\ y_0\\\\\n",
    "  \\ z_0\\\\\n",
    "  \\ 0\\\\\n",
    "\\end{vmatrix}\n",
    "= (A \\times B) \\times С = D,\n",
    "$$\n",
    "\n",
    "где A - матрица перемещения, B - матрица поворота, C - начальные координаты точки."
   ]
  },
  {
   "attachments": {},
   "cell_type": "markdown",
   "metadata": {},
   "source": [
    "## 2 Начальные координаты точки \n",
    "$$\n",
    "\\begin{vmatrix}\n",
    "  \\ x_0\\\\\n",
    "  \\ y_0\\\\\n",
    "  \\ z_0\\\\\n",
    "  \\ 0\\\\\n",
    "\\end{vmatrix} = C\n",
    "$$"
   ]
  },
  {
   "attachments": {},
   "cell_type": "markdown",
   "metadata": {},
   "source": [
    "Найдём точку пересечения 1-ой группы тяга-рычаг. Пусть крепление рычага (нижняя платформа) изначально находится в центре глобальной СК, тогда $(x_0, y_0, z_0)$ = (0, 0, 0)"
   ]
  },
  {
   "cell_type": "code",
   "execution_count": 2,
   "metadata": {},
   "outputs": [],
   "source": [
    "first_lower_point = init_points(0, 0, 0)\n",
    "# Важно уточнить, что тут могут быть абсолютно любые координаты"
   ]
  },
  {
   "attachments": {},
   "cell_type": "markdown",
   "metadata": {},
   "source": [
    "## 3 Создадим матрицу переноса точки крепления рычага (нижняя платформа)\n",
    "\n",
    "$$\n",
    "\\begin{vmatrix}\n",
    "  \\ 1& \\ 0& \\ 0& \\ Δx \\\\\n",
    "  \\ 0& \\ 1& \\ 0& \\ Δy \\\\\n",
    "  \\ 0& \\ 0& \\ 1& \\ Δz \\\\\n",
    "  \\ 0& \\ 0& \\ 0& \\ 1 \\\\\n",
    "\\end{vmatrix}\n",
    "\\times\n",
    "\\begin{vmatrix}\n",
    "  \\ cos(ψ)& \\ -sin(ψ)& \\ 0& \\ 0 \\\\\n",
    "  \\ sin(ψ)& \\ cos(ψ)& \\ 0& \\ 0 \\\\\n",
    "  \\ 0& \\ 0& \\ 1& \\ 0 \\\\\n",
    "  \\ 0& \\ 0& \\ 0& \\ 1 \\\\\n",
    "\\end{vmatrix}= A \\times B\n",
    "$$\n",
    "\n",
    "Угол ψ (в нашем случае) - это угол OZ на который мы хотим повернуть локальную СК ДО перемещения. Если Вы хотите сначала переместиться, а затем повернуть СК, то измените порядок умножения матриц. (Δx, Δy, Δz) - это линейные координаты, на которые необходимо сместить точку. "
   ]
  },
  {
   "attachments": {},
   "cell_type": "markdown",
   "metadata": {},
   "source": [
    "В plotly OZ направленна вверх. Мы будем считать, что в нашей локальной СК OZ - это ось поворота рычага, а OY вертикальна. Для этого сначала мы перемещаем точку, а затем поворачиваем её СК.\n"
   ]
  },
  {
   "cell_type": "code",
   "execution_count": 3,
   "metadata": {},
   "outputs": [],
   "source": [
    "from_base_CS_to_lower_CS = transition_matrix(35, 8.66 , 0).dot(rotate_matrix(0, 0, radians(60))) "
   ]
  },
  {
   "attachments": {},
   "cell_type": "markdown",
   "metadata": {},
   "source": [
    "Если у Вас несколько поворотов, просто перемножьте матрицы этих поворотов, т.е.:\n",
    "$$\n",
    "A \\times (B_1 \\times B_2 \\times ...)\n",
    "$$"
   ]
  },
  {
   "attachments": {},
   "cell_type": "markdown",
   "metadata": {},
   "source": [
    "## 4 Нахождение точки нижней платформы через полученную матрицу переноса"
   ]
  },
  {
   "attachments": {},
   "cell_type": "markdown",
   "metadata": {},
   "source": [
    "Умножив матрицу перемещения на начальные координаты найдём координаты после переноса. Мы выбрали за начало (0, 0, 0), но могли выбрать любые другие координаты."
   ]
  },
  {
   "cell_type": "code",
   "execution_count": 4,
   "metadata": {},
   "outputs": [
    {
     "name": "stdout",
     "output_type": "stream",
     "text": [
      "[[35.  ]\n",
      " [ 8.66]\n",
      " [ 0.  ]\n",
      " [ 1.  ]]\n"
     ]
    }
   ],
   "source": [
    "new_position_lower_CS = from_base_CS_to_lower_CS.dot(first_lower_point)  \n",
    "\n",
    "print(new_position_lower_CS)    # Нашли координаты нижней 4-ой точки"
   ]
  },
  {
   "attachments": {},
   "cell_type": "markdown",
   "metadata": {},
   "source": [
    "## 5 Найдём координаты верхней точки крепления тяги\n",
    "\n",
    "Мы выбрали 4-ую точку нижней платформы, она должна соединяться с 4-ой точкой верхней платформы.\n",
    "\n",
    "Найдём матрицу перемещения верхней точки. Мы считаем, что верхняя точка получается за счёт смещения 3-ей точки нижней платформы Δz = 50 и поворота по OZ = 60 град. 3-я точка платформы симметрична 4-ой относительно ZX => имеет полученные координаты со знаком \"-\" у координаты Y."
   ]
  },
  {
   "cell_type": "code",
   "execution_count": 5,
   "metadata": {},
   "outputs": [],
   "source": [
    "new_position_3_lower_CS = new_position_4_lower_CS\n",
    "new_position_3_lower_CS[1][0] *= -1\n",
    "\n",
    "from_base_CS_to_4_upper_CS = transition_matrix(0, 0, 50).dot(rotate_matrix(0, 0, radians(60)))"
   ]
  },
  {
   "attachments": {},
   "cell_type": "markdown",
   "metadata": {},
   "source": [
    "Перемножаем полученную матрицу на координаты точки нижней платформы"
   ]
  },
  {
   "cell_type": "code",
   "execution_count": 6,
   "metadata": {},
   "outputs": [
    {
     "name": "stdout",
     "output_type": "stream",
     "text": [
      "[[24.99978   ]\n",
      " [25.98088913]\n",
      " [50.        ]\n",
      " [ 1.        ]]\n"
     ]
    }
   ],
   "source": [
    "new_position_4_upper_CS = from_base_CS_to_4_upper_CS.dot(new_position_4_lower_CS)  \n",
    "\n",
    "print(new_position_4_upper_CS)"
   ]
  },
  {
   "attachments": {},
   "cell_type": "markdown",
   "metadata": {},
   "source": [
    "## Определим координаты верхней точки, относительно нижней"
   ]
  },
  {
   "cell_type": "code",
   "execution_count": 7,
   "metadata": {},
   "outputs": [
    {
     "name": "stdout",
     "output_type": "stream",
     "text": [
      "[[10.00022   ]\n",
      " [17.32088913]\n",
      " [50.        ]\n",
      " [ 1.        ]]\n"
     ]
    }
   ],
   "source": [
    "position_upper_CS_from_lower_CS = np.linalg.inv(from_base_CS_to_4_lower_CS).dot(new_position_4_upper_CS)\n",
    "\n",
    "print(position_upper_CS_from_lower_CS)"
   ]
  },
  {
   "attachments": {},
   "cell_type": "markdown",
   "metadata": {},
   "source": [
    "### Найдём точку пересечения тяги и окружности рычага (подробно это было расписано в 2. Sphere&circle.ipynb):"
   ]
  },
  {
   "cell_type": "code",
   "execution_count": 8,
   "metadata": {},
   "outputs": [],
   "source": [
    "R = 20    # Радиус окружности\n",
    "r = 40   # Радиус сферы"
   ]
  },
  {
   "cell_type": "code",
   "execution_count": 10,
   "metadata": {},
   "outputs": [
    {
     "name": "stdout",
     "output_type": "stream",
     "text": [
      "[[ 0.        ]\n",
      " [-6.00015332]\n",
      " [19.07873581]\n",
      " [ 1.        ]]\n"
     ]
    }
   ],
   "source": [
    "cross_matrix = cross_point(position_upper_CS_from_lower_CS, R, r)\n",
    "\n",
    "cross_sphere_and_circle = init_points(cross_matrix[1][0], cross_matrix[1][1], cross_matrix[1][2])\n",
    "\n",
    "print(cross_sphere_and_circle)"
   ]
  },
  {
   "cell_type": "markdown",
   "metadata": {},
   "source": [
    "Получив координаты пересечения тяги и рычага в локальной системе координат переведём их в глобальную:"
   ]
  },
  {
   "cell_type": "code",
   "execution_count": 11,
   "metadata": {},
   "outputs": [
    {
     "name": "stdout",
     "output_type": "stream",
     "text": [
      "[[40.1962852 ]\n",
      " [ 5.65992334]\n",
      " [19.07873581]\n",
      " [ 1.        ]]\n"
     ]
    }
   ],
   "source": [
    "# Эти локальные координаты являются частью объекта, который мы и переносим\n",
    "position_leg_4 = from_base_CS_to_4_lower_CS.dot(cross_sphere_and_circle)\n",
    "print(position_leg_4)"
   ]
  },
  {
   "attachments": {},
   "cell_type": "markdown",
   "metadata": {},
   "source": [
    "## Отрисовка"
   ]
  },
  {
   "cell_type": "code",
   "execution_count": 12,
   "metadata": {},
   "outputs": [],
   "source": [
    "lower_plate = np.array([[-25, -10, 35, 35, -10, -25, -25], # Координаты вершин нижней плиты \n",
    "                [-25.98, -34.64, -8.66, 8.66, 34.64, 25.98, -25.98],\n",
    "                [0, 0, 0, 0, 0, 0, 0]]) \n",
    "\n",
    "# Центр верхней плиты\n",
    "xyz_0 = np.array([[0], [0], [50]])      \n",
    "\n",
    "# Положение координат углов верхней плиты относительно её центра\n",
    "upper_plate = np.array([[float(xyz_0[0])+-25, float(xyz_0[0])+-10, float(xyz_0[0])+35, float(xyz_0[0])+35, float(xyz_0[0])+-10, float(xyz_0[0])+-25, float(xyz_0[0])+-25], # Координаты вершин нижней плиты\n",
    "                [float(xyz_0[1])+-25.98, float(xyz_0[1])+-34.64, float(xyz_0[1])+-8.66, float(xyz_0[1])+8.66, float(xyz_0[1])+34.64, float(xyz_0[1])+25.98, float(xyz_0[1])+-25.98],\n",
    "                [float(xyz_0[2])+0, float(xyz_0[2])+0, float(xyz_0[2])+0, float(xyz_0[2])+0, float(xyz_0[2])+0, float(xyz_0[2])+0, float(xyz_0[2])+0]])\n",
    "                  \n",
    "upper_plate = R_z(60, upper_plate) # Поворот верхней плиты на 60 град  "
   ]
  },
  {
   "cell_type": "code",
   "execution_count": 13,
   "metadata": {},
   "outputs": [
    {
     "data": {
      "application/vnd.plotly.v1+json": {
       "config": {
        "plotlyServerURL": "https://plot.ly"
       },
       "data": [
        {
         "legendgroup": "group1",
         "marker": {
          "color": "red",
          "colorscale": [
           [
            0,
            "#440154"
           ],
           [
            0.1111111111111111,
            "#482878"
           ],
           [
            0.2222222222222222,
            "#3e4989"
           ],
           [
            0.3333333333333333,
            "#31688e"
           ],
           [
            0.4444444444444444,
            "#26828e"
           ],
           [
            0.5555555555555556,
            "#1f9e89"
           ],
           [
            0.6666666666666666,
            "#35b779"
           ],
           [
            0.7777777777777778,
            "#6ece58"
           ],
           [
            0.8888888888888888,
            "#b5de2b"
           ],
           [
            1,
            "#fde725"
           ]
          ],
          "size": 5
         },
         "opacity": 1,
         "showlegend": false,
         "surfaceaxis": -1,
         "type": "scatter3d",
         "x": [
          0
         ],
         "y": [
          0
         ],
         "z": [
          0
         ]
        },
        {
         "legendgroup": "group1",
         "marker": {
          "color": "red",
          "colorscale": [
           [
            0,
            "#440154"
           ],
           [
            0.1111111111111111,
            "#482878"
           ],
           [
            0.2222222222222222,
            "#3e4989"
           ],
           [
            0.3333333333333333,
            "#31688e"
           ],
           [
            0.4444444444444444,
            "#26828e"
           ],
           [
            0.5555555555555556,
            "#1f9e89"
           ],
           [
            0.6666666666666666,
            "#35b779"
           ],
           [
            0.7777777777777778,
            "#6ece58"
           ],
           [
            0.8888888888888888,
            "#b5de2b"
           ],
           [
            1,
            "#fde725"
           ]
          ],
          "size": 1
         },
         "name": "Нижняя плита",
         "opacity": 0.3,
         "showlegend": true,
         "surfaceaxis": 2,
         "type": "scatter3d",
         "x": [
          -25,
          -10,
          35,
          35,
          -10,
          -25,
          -25
         ],
         "y": [
          -25.98,
          -34.64,
          -8.66,
          8.66,
          34.64,
          25.98,
          -25.98
         ],
         "z": [
          0,
          0,
          0,
          0,
          0,
          0,
          0
         ]
        },
        {
         "legendgroup": "group1",
         "marker": {
          "color": "black",
          "colorscale": [
           [
            0,
            "#440154"
           ],
           [
            0.1111111111111111,
            "#482878"
           ],
           [
            0.2222222222222222,
            "#3e4989"
           ],
           [
            0.3333333333333333,
            "#31688e"
           ],
           [
            0.4444444444444444,
            "#26828e"
           ],
           [
            0.5555555555555556,
            "#1f9e89"
           ],
           [
            0.6666666666666666,
            "#35b779"
           ],
           [
            0.7777777777777778,
            "#6ece58"
           ],
           [
            0.8888888888888888,
            "#b5de2b"
           ],
           [
            1,
            "#fde725"
           ]
          ],
          "size": 1
         },
         "opacity": 1,
         "showlegend": false,
         "surfaceaxis": -1,
         "type": "scatter3d",
         "x": [
          -25,
          -10,
          35,
          35,
          -10,
          -25,
          -25
         ],
         "y": [
          -25.98,
          -34.64,
          -8.66,
          8.66,
          34.64,
          25.98,
          -25.98
         ],
         "z": [
          0,
          0,
          0,
          0,
          0,
          0,
          0
         ]
        },
        {
         "legendgroup": "group2",
         "marker": {
          "color": "blue",
          "colorscale": [
           [
            0,
            "#440154"
           ],
           [
            0.1111111111111111,
            "#482878"
           ],
           [
            0.2222222222222222,
            "#3e4989"
           ],
           [
            0.3333333333333333,
            "#31688e"
           ],
           [
            0.4444444444444444,
            "#26828e"
           ],
           [
            0.5555555555555556,
            "#1f9e89"
           ],
           [
            0.6666666666666666,
            "#35b779"
           ],
           [
            0.7777777777777778,
            "#6ece58"
           ],
           [
            0.8888888888888888,
            "#b5de2b"
           ],
           [
            1,
            "#fde725"
           ]
          ],
          "size": 5
         },
         "opacity": 1,
         "showlegend": false,
         "surfaceaxis": -1,
         "type": "scatter3d",
         "x": [
          0
         ],
         "y": [
          0
         ],
         "z": [
          50
         ]
        },
        {
         "legendgroup": "group2",
         "marker": {
          "color": "royalblue",
          "colorscale": [
           [
            0,
            "#440154"
           ],
           [
            0.1111111111111111,
            "#482878"
           ],
           [
            0.2222222222222222,
            "#3e4989"
           ],
           [
            0.3333333333333333,
            "#31688e"
           ],
           [
            0.4444444444444444,
            "#26828e"
           ],
           [
            0.5555555555555556,
            "#1f9e89"
           ],
           [
            0.6666666666666666,
            "#35b779"
           ],
           [
            0.7777777777777778,
            "#6ece58"
           ],
           [
            0.8888888888888888,
            "#b5de2b"
           ],
           [
            1,
            "#fde725"
           ]
          ],
          "size": 1
         },
         "name": "Верхняя плита",
         "opacity": 0.3,
         "showlegend": true,
         "surfaceaxis": 2,
         "type": "scatter3d",
         "x": [
          9.999339990319712,
          24.999119987092953,
          24.999779996773242,
          10.000220003226765,
          -34.99911998709295,
          -34.99933999031972,
          9.999339990319712
         ],
         "y": [
          -34.64063509461097,
          -25.98025403784439,
          25.98088913245535,
          34.64088913245535,
          8.659745962155618,
          -8.660635094610962,
          -34.64063509461097
         ],
         "z": [
          50,
          50,
          50,
          50,
          50,
          50,
          50
         ]
        },
        {
         "legendgroup": "group2",
         "marker": {
          "color": "black",
          "colorscale": [
           [
            0,
            "#440154"
           ],
           [
            0.1111111111111111,
            "#482878"
           ],
           [
            0.2222222222222222,
            "#3e4989"
           ],
           [
            0.3333333333333333,
            "#31688e"
           ],
           [
            0.4444444444444444,
            "#26828e"
           ],
           [
            0.5555555555555556,
            "#1f9e89"
           ],
           [
            0.6666666666666666,
            "#35b779"
           ],
           [
            0.7777777777777778,
            "#6ece58"
           ],
           [
            0.8888888888888888,
            "#b5de2b"
           ],
           [
            1,
            "#fde725"
           ]
          ],
          "size": 1
         },
         "opacity": 1,
         "showlegend": false,
         "surfaceaxis": -1,
         "type": "scatter3d",
         "x": [
          9.999339990319712,
          24.999119987092953,
          24.999779996773242,
          10.000220003226765,
          -34.99911998709295,
          -34.99933999031972,
          9.999339990319712
         ],
         "y": [
          -34.64063509461097,
          -25.98025403784439,
          25.98088913245535,
          34.64088913245535,
          8.659745962155618,
          -8.660635094610962,
          -34.64063509461097
         ],
         "z": [
          50,
          50,
          50,
          50,
          50,
          50,
          50
         ]
        },
        {
         "legendgroup": "group6",
         "marker": {
          "color": "orange",
          "colorscale": [
           [
            0,
            "#440154"
           ],
           [
            0.1111111111111111,
            "#482878"
           ],
           [
            0.2222222222222222,
            "#3e4989"
           ],
           [
            0.3333333333333333,
            "#31688e"
           ],
           [
            0.4444444444444444,
            "#26828e"
           ],
           [
            0.5555555555555556,
            "#1f9e89"
           ],
           [
            0.6666666666666666,
            "#35b779"
           ],
           [
            0.7777777777777778,
            "#6ece58"
           ],
           [
            0.8888888888888888,
            "#b5de2b"
           ],
           [
            1,
            "#fde725"
           ]
          ],
          "size": 5
         },
         "name": "Рычаг-Тяга 4 (107.46, град)",
         "opacity": 1,
         "showlegend": true,
         "type": "scatter3d",
         "x": [
          35,
          40.1962851985322
         ],
         "y": [
          8.66,
          5.659923341841363
         ],
         "z": [
          0,
          19.07873581191078
         ]
        },
        {
         "legendgroup": "group6",
         "marker": {
          "color": "orange",
          "colorscale": [
           [
            0,
            "#440154"
           ],
           [
            0.1111111111111111,
            "#482878"
           ],
           [
            0.2222222222222222,
            "#3e4989"
           ],
           [
            0.3333333333333333,
            "#31688e"
           ],
           [
            0.4444444444444444,
            "#26828e"
           ],
           [
            0.5555555555555556,
            "#1f9e89"
           ],
           [
            0.6666666666666666,
            "#35b779"
           ],
           [
            0.7777777777777778,
            "#6ece58"
           ],
           [
            0.8888888888888888,
            "#b5de2b"
           ],
           [
            1,
            "#fde725"
           ]
          ],
          "size": 5
         },
         "opacity": 1,
         "showlegend": false,
         "type": "scatter3d",
         "x": [
          40.1962851985322,
          24.999779996773242
         ],
         "y": [
          5.659923341841363,
          25.98088913245535
         ],
         "z": [
          19.07873581191078,
          50
         ]
        }
       ],
       "layout": {
        "autosize": true,
        "height": 500,
        "legend": {
         "x": 0.7,
         "xanchor": "left",
         "y": 0.99,
         "yanchor": "top"
        },
        "margin": {
         "b": 10,
         "l": 10,
         "r": 0,
         "t": 50
        },
        "scene": {
         "camera": {
          "center": {
           "x": 0,
           "y": 0,
           "z": 0
          },
          "eye": {
           "x": -2,
           "y": 2,
           "z": 1.65
          },
          "projection": {
           "type": "orthographic"
          }
         },
         "xaxis": {
          "backgroundcolor": "rgb(200, 200, 230)",
          "gridcolor": "white",
          "showbackground": true,
          "showspikes": false,
          "tickfont": {
           "size": 12
          },
          "title": {
           "text": "X"
          },
          "zerolinecolor": "white"
         },
         "yaxis": {
          "backgroundcolor": "rgb(230, 200,230)",
          "gridcolor": "white",
          "showbackground": true,
          "showspikes": false,
          "tickfont": {
           "size": 12
          },
          "title": {
           "text": "Y"
          },
          "zerolinecolor": "white"
         },
         "zaxis": {
          "backgroundcolor": "rgb(200, 200,200)",
          "gridcolor": "white",
          "showbackground": true,
          "tickfont": {
           "size": 12
          },
          "title": {
           "text": "Z"
          },
          "zerolinecolor": "white"
         }
        },
        "template": {
         "data": {
          "bar": [
           {
            "error_x": {
             "color": "#2a3f5f"
            },
            "error_y": {
             "color": "#2a3f5f"
            },
            "marker": {
             "line": {
              "color": "#E5ECF6",
              "width": 0.5
             },
             "pattern": {
              "fillmode": "overlay",
              "size": 10,
              "solidity": 0.2
             }
            },
            "type": "bar"
           }
          ],
          "barpolar": [
           {
            "marker": {
             "line": {
              "color": "#E5ECF6",
              "width": 0.5
             },
             "pattern": {
              "fillmode": "overlay",
              "size": 10,
              "solidity": 0.2
             }
            },
            "type": "barpolar"
           }
          ],
          "carpet": [
           {
            "aaxis": {
             "endlinecolor": "#2a3f5f",
             "gridcolor": "white",
             "linecolor": "white",
             "minorgridcolor": "white",
             "startlinecolor": "#2a3f5f"
            },
            "baxis": {
             "endlinecolor": "#2a3f5f",
             "gridcolor": "white",
             "linecolor": "white",
             "minorgridcolor": "white",
             "startlinecolor": "#2a3f5f"
            },
            "type": "carpet"
           }
          ],
          "choropleth": [
           {
            "colorbar": {
             "outlinewidth": 0,
             "ticks": ""
            },
            "type": "choropleth"
           }
          ],
          "contour": [
           {
            "colorbar": {
             "outlinewidth": 0,
             "ticks": ""
            },
            "colorscale": [
             [
              0,
              "#0d0887"
             ],
             [
              0.1111111111111111,
              "#46039f"
             ],
             [
              0.2222222222222222,
              "#7201a8"
             ],
             [
              0.3333333333333333,
              "#9c179e"
             ],
             [
              0.4444444444444444,
              "#bd3786"
             ],
             [
              0.5555555555555556,
              "#d8576b"
             ],
             [
              0.6666666666666666,
              "#ed7953"
             ],
             [
              0.7777777777777778,
              "#fb9f3a"
             ],
             [
              0.8888888888888888,
              "#fdca26"
             ],
             [
              1,
              "#f0f921"
             ]
            ],
            "type": "contour"
           }
          ],
          "contourcarpet": [
           {
            "colorbar": {
             "outlinewidth": 0,
             "ticks": ""
            },
            "type": "contourcarpet"
           }
          ],
          "heatmap": [
           {
            "colorbar": {
             "outlinewidth": 0,
             "ticks": ""
            },
            "colorscale": [
             [
              0,
              "#0d0887"
             ],
             [
              0.1111111111111111,
              "#46039f"
             ],
             [
              0.2222222222222222,
              "#7201a8"
             ],
             [
              0.3333333333333333,
              "#9c179e"
             ],
             [
              0.4444444444444444,
              "#bd3786"
             ],
             [
              0.5555555555555556,
              "#d8576b"
             ],
             [
              0.6666666666666666,
              "#ed7953"
             ],
             [
              0.7777777777777778,
              "#fb9f3a"
             ],
             [
              0.8888888888888888,
              "#fdca26"
             ],
             [
              1,
              "#f0f921"
             ]
            ],
            "type": "heatmap"
           }
          ],
          "heatmapgl": [
           {
            "colorbar": {
             "outlinewidth": 0,
             "ticks": ""
            },
            "colorscale": [
             [
              0,
              "#0d0887"
             ],
             [
              0.1111111111111111,
              "#46039f"
             ],
             [
              0.2222222222222222,
              "#7201a8"
             ],
             [
              0.3333333333333333,
              "#9c179e"
             ],
             [
              0.4444444444444444,
              "#bd3786"
             ],
             [
              0.5555555555555556,
              "#d8576b"
             ],
             [
              0.6666666666666666,
              "#ed7953"
             ],
             [
              0.7777777777777778,
              "#fb9f3a"
             ],
             [
              0.8888888888888888,
              "#fdca26"
             ],
             [
              1,
              "#f0f921"
             ]
            ],
            "type": "heatmapgl"
           }
          ],
          "histogram": [
           {
            "marker": {
             "pattern": {
              "fillmode": "overlay",
              "size": 10,
              "solidity": 0.2
             }
            },
            "type": "histogram"
           }
          ],
          "histogram2d": [
           {
            "colorbar": {
             "outlinewidth": 0,
             "ticks": ""
            },
            "colorscale": [
             [
              0,
              "#0d0887"
             ],
             [
              0.1111111111111111,
              "#46039f"
             ],
             [
              0.2222222222222222,
              "#7201a8"
             ],
             [
              0.3333333333333333,
              "#9c179e"
             ],
             [
              0.4444444444444444,
              "#bd3786"
             ],
             [
              0.5555555555555556,
              "#d8576b"
             ],
             [
              0.6666666666666666,
              "#ed7953"
             ],
             [
              0.7777777777777778,
              "#fb9f3a"
             ],
             [
              0.8888888888888888,
              "#fdca26"
             ],
             [
              1,
              "#f0f921"
             ]
            ],
            "type": "histogram2d"
           }
          ],
          "histogram2dcontour": [
           {
            "colorbar": {
             "outlinewidth": 0,
             "ticks": ""
            },
            "colorscale": [
             [
              0,
              "#0d0887"
             ],
             [
              0.1111111111111111,
              "#46039f"
             ],
             [
              0.2222222222222222,
              "#7201a8"
             ],
             [
              0.3333333333333333,
              "#9c179e"
             ],
             [
              0.4444444444444444,
              "#bd3786"
             ],
             [
              0.5555555555555556,
              "#d8576b"
             ],
             [
              0.6666666666666666,
              "#ed7953"
             ],
             [
              0.7777777777777778,
              "#fb9f3a"
             ],
             [
              0.8888888888888888,
              "#fdca26"
             ],
             [
              1,
              "#f0f921"
             ]
            ],
            "type": "histogram2dcontour"
           }
          ],
          "mesh3d": [
           {
            "colorbar": {
             "outlinewidth": 0,
             "ticks": ""
            },
            "type": "mesh3d"
           }
          ],
          "parcoords": [
           {
            "line": {
             "colorbar": {
              "outlinewidth": 0,
              "ticks": ""
             }
            },
            "type": "parcoords"
           }
          ],
          "pie": [
           {
            "automargin": true,
            "type": "pie"
           }
          ],
          "scatter": [
           {
            "fillpattern": {
             "fillmode": "overlay",
             "size": 10,
             "solidity": 0.2
            },
            "type": "scatter"
           }
          ],
          "scatter3d": [
           {
            "line": {
             "colorbar": {
              "outlinewidth": 0,
              "ticks": ""
             }
            },
            "marker": {
             "colorbar": {
              "outlinewidth": 0,
              "ticks": ""
             }
            },
            "type": "scatter3d"
           }
          ],
          "scattercarpet": [
           {
            "marker": {
             "colorbar": {
              "outlinewidth": 0,
              "ticks": ""
             }
            },
            "type": "scattercarpet"
           }
          ],
          "scattergeo": [
           {
            "marker": {
             "colorbar": {
              "outlinewidth": 0,
              "ticks": ""
             }
            },
            "type": "scattergeo"
           }
          ],
          "scattergl": [
           {
            "marker": {
             "colorbar": {
              "outlinewidth": 0,
              "ticks": ""
             }
            },
            "type": "scattergl"
           }
          ],
          "scattermapbox": [
           {
            "marker": {
             "colorbar": {
              "outlinewidth": 0,
              "ticks": ""
             }
            },
            "type": "scattermapbox"
           }
          ],
          "scatterpolar": [
           {
            "marker": {
             "colorbar": {
              "outlinewidth": 0,
              "ticks": ""
             }
            },
            "type": "scatterpolar"
           }
          ],
          "scatterpolargl": [
           {
            "marker": {
             "colorbar": {
              "outlinewidth": 0,
              "ticks": ""
             }
            },
            "type": "scatterpolargl"
           }
          ],
          "scatterternary": [
           {
            "marker": {
             "colorbar": {
              "outlinewidth": 0,
              "ticks": ""
             }
            },
            "type": "scatterternary"
           }
          ],
          "surface": [
           {
            "colorbar": {
             "outlinewidth": 0,
             "ticks": ""
            },
            "colorscale": [
             [
              0,
              "#0d0887"
             ],
             [
              0.1111111111111111,
              "#46039f"
             ],
             [
              0.2222222222222222,
              "#7201a8"
             ],
             [
              0.3333333333333333,
              "#9c179e"
             ],
             [
              0.4444444444444444,
              "#bd3786"
             ],
             [
              0.5555555555555556,
              "#d8576b"
             ],
             [
              0.6666666666666666,
              "#ed7953"
             ],
             [
              0.7777777777777778,
              "#fb9f3a"
             ],
             [
              0.8888888888888888,
              "#fdca26"
             ],
             [
              1,
              "#f0f921"
             ]
            ],
            "type": "surface"
           }
          ],
          "table": [
           {
            "cells": {
             "fill": {
              "color": "#EBF0F8"
             },
             "line": {
              "color": "white"
             }
            },
            "header": {
             "fill": {
              "color": "#C8D4E3"
             },
             "line": {
              "color": "white"
             }
            },
            "type": "table"
           }
          ]
         },
         "layout": {
          "annotationdefaults": {
           "arrowcolor": "#2a3f5f",
           "arrowhead": 0,
           "arrowwidth": 1
          },
          "autotypenumbers": "strict",
          "coloraxis": {
           "colorbar": {
            "outlinewidth": 0,
            "ticks": ""
           }
          },
          "colorscale": {
           "diverging": [
            [
             0,
             "#8e0152"
            ],
            [
             0.1,
             "#c51b7d"
            ],
            [
             0.2,
             "#de77ae"
            ],
            [
             0.3,
             "#f1b6da"
            ],
            [
             0.4,
             "#fde0ef"
            ],
            [
             0.5,
             "#f7f7f7"
            ],
            [
             0.6,
             "#e6f5d0"
            ],
            [
             0.7,
             "#b8e186"
            ],
            [
             0.8,
             "#7fbc41"
            ],
            [
             0.9,
             "#4d9221"
            ],
            [
             1,
             "#276419"
            ]
           ],
           "sequential": [
            [
             0,
             "#0d0887"
            ],
            [
             0.1111111111111111,
             "#46039f"
            ],
            [
             0.2222222222222222,
             "#7201a8"
            ],
            [
             0.3333333333333333,
             "#9c179e"
            ],
            [
             0.4444444444444444,
             "#bd3786"
            ],
            [
             0.5555555555555556,
             "#d8576b"
            ],
            [
             0.6666666666666666,
             "#ed7953"
            ],
            [
             0.7777777777777778,
             "#fb9f3a"
            ],
            [
             0.8888888888888888,
             "#fdca26"
            ],
            [
             1,
             "#f0f921"
            ]
           ],
           "sequentialminus": [
            [
             0,
             "#0d0887"
            ],
            [
             0.1111111111111111,
             "#46039f"
            ],
            [
             0.2222222222222222,
             "#7201a8"
            ],
            [
             0.3333333333333333,
             "#9c179e"
            ],
            [
             0.4444444444444444,
             "#bd3786"
            ],
            [
             0.5555555555555556,
             "#d8576b"
            ],
            [
             0.6666666666666666,
             "#ed7953"
            ],
            [
             0.7777777777777778,
             "#fb9f3a"
            ],
            [
             0.8888888888888888,
             "#fdca26"
            ],
            [
             1,
             "#f0f921"
            ]
           ]
          },
          "colorway": [
           "#636efa",
           "#EF553B",
           "#00cc96",
           "#ab63fa",
           "#FFA15A",
           "#19d3f3",
           "#FF6692",
           "#B6E880",
           "#FF97FF",
           "#FECB52"
          ],
          "font": {
           "color": "#2a3f5f"
          },
          "geo": {
           "bgcolor": "white",
           "lakecolor": "white",
           "landcolor": "#E5ECF6",
           "showlakes": true,
           "showland": true,
           "subunitcolor": "white"
          },
          "hoverlabel": {
           "align": "left"
          },
          "hovermode": "closest",
          "mapbox": {
           "style": "light"
          },
          "paper_bgcolor": "white",
          "plot_bgcolor": "#E5ECF6",
          "polar": {
           "angularaxis": {
            "gridcolor": "white",
            "linecolor": "white",
            "ticks": ""
           },
           "bgcolor": "#E5ECF6",
           "radialaxis": {
            "gridcolor": "white",
            "linecolor": "white",
            "ticks": ""
           }
          },
          "scene": {
           "xaxis": {
            "backgroundcolor": "#E5ECF6",
            "gridcolor": "white",
            "gridwidth": 2,
            "linecolor": "white",
            "showbackground": true,
            "ticks": "",
            "zerolinecolor": "white"
           },
           "yaxis": {
            "backgroundcolor": "#E5ECF6",
            "gridcolor": "white",
            "gridwidth": 2,
            "linecolor": "white",
            "showbackground": true,
            "ticks": "",
            "zerolinecolor": "white"
           },
           "zaxis": {
            "backgroundcolor": "#E5ECF6",
            "gridcolor": "white",
            "gridwidth": 2,
            "linecolor": "white",
            "showbackground": true,
            "ticks": "",
            "zerolinecolor": "white"
           }
          },
          "shapedefaults": {
           "line": {
            "color": "#2a3f5f"
           }
          },
          "ternary": {
           "aaxis": {
            "gridcolor": "white",
            "linecolor": "white",
            "ticks": ""
           },
           "baxis": {
            "gridcolor": "white",
            "linecolor": "white",
            "ticks": ""
           },
           "bgcolor": "#E5ECF6",
           "caxis": {
            "gridcolor": "white",
            "linecolor": "white",
            "ticks": ""
           }
          },
          "title": {
           "x": 0.05
          },
          "xaxis": {
           "automargin": true,
           "gridcolor": "white",
           "linecolor": "white",
           "ticks": "",
           "title": {
            "standoff": 15
           },
           "zerolinecolor": "white",
           "zerolinewidth": 2
          },
          "yaxis": {
           "automargin": true,
           "gridcolor": "white",
           "linecolor": "white",
           "ticks": "",
           "title": {
            "standoff": 15
           },
           "zerolinecolor": "white",
           "zerolinewidth": 2
          }
         }
        },
        "title": {
         "text": "2023-04-24",
         "x": 0.5,
         "xanchor": "center",
         "y": 0.97,
         "yanchor": "top"
        },
        "width": 950
       }
      }
     },
     "metadata": {},
     "output_type": "display_data"
    }
   ],
   "source": [
    "fig = go.Figure()\n",
    "      # Нижняя плита\n",
    "fig.add_trace(go.Scatter3d(x=[0], y=[0], z=[0],  \n",
    "                showlegend=False, surfaceaxis=-1, opacity=1, legendgroup=\"group1\",marker=dict(size=5, color='red', colorscale='Viridis',)))\n",
    "fig.add_trace(go.Scatter3d(x=lower_plate[0], y=lower_plate[1], z=lower_plate[2],    \n",
    "                showlegend=True, name = 'Нижняя плита', surfaceaxis=2,  opacity=0.3, legendgroup=\"group1\",marker=dict(size=1, color='red', colorscale='Viridis',)))\n",
    "fig.add_trace(go.Scatter3d(x=lower_plate[0], y=lower_plate[1], z=lower_plate[2],\n",
    "                showlegend=False, surfaceaxis=-1, opacity=1, legendgroup=\"group1\",marker=dict(size=1, color='black', colorscale='Viridis',)))     \n",
    "#_____________\n",
    "\n",
    "# Верхняя плита\n",
    "fig.add_trace(go.Scatter3d(x=xyz_0[0], y=xyz_0[1], z=xyz_0[2], \n",
    "                showlegend=False, surfaceaxis=-1, opacity=1, legendgroup=\"group2\",marker=dict(size=5, color='blue', colorscale='Viridis',))) \n",
    "fig.add_trace(go.Scatter3d(x=upper_plate[0], y=upper_plate[1], z=upper_plate[2],    \n",
    "                showlegend=True, name = 'Верхняя плита', surfaceaxis=2,  opacity=0.3, legendgroup=\"group2\",marker=dict(size=1, color='royalblue', colorscale='Viridis',)))\n",
    "fig.add_trace(go.Scatter3d(x=upper_plate[0], y=upper_plate[1], z=upper_plate[2],\n",
    "                showlegend=False, surfaceaxis=-1, opacity=1, legendgroup=\"group2\",marker=dict(size=1, color='black', colorscale='Viridis',)))      \n",
    "#_____________\n",
    "\n",
    "# Нога 4              \n",
    "fig.add_trace(go.Scatter3d(x=[lower_plate[0][3], position_leg_4[0][0]], y=[lower_plate[1][3], position_leg_4[1][0]], z=[lower_plate[2][3], position_leg_4[2][0]],  \n",
    "                showlegend=True, name = f'Рычаг-Тяга 4 ({round(cross_matrix[1][3]*180/pi, 2)}, град)', opacity=1, legendgroup=\"group6\",marker=dict(size=5, color='orange', colorscale='Viridis',)))\n",
    "fig.add_trace(go.Scatter3d(x=[position_leg_4[0][0], upper_plate[0][2]], y=[position_leg_4[1][0], upper_plate[1][2]], z=[position_leg_4[2][0], upper_plate[2][2]],  \n",
    "                showlegend=False, opacity=1, legendgroup=\"group6\",marker=dict(size=5, color='orange', colorscale='Viridis')))  \n",
    "  \n",
    "#_____________ \n",
    "\n",
    "fig.update_layout(title={'text': f\"{date.today()}\",\n",
    "                  'y':0.97,'x':0.5,'xanchor': 'center','yanchor': 'top'})\n",
    "\n",
    "                                             #Оформление\n",
    "fig.update_layout(legend=dict(yanchor=\"top\", y=0.99,\n",
    "                  xanchor=\"left\", x=0.7))\n",
    "\n",
    "tickf = 12\n",
    "fig.update_layout(autosize=True, scene = {'camera_eye': {\"x\": -2, \"y\": 2, \"z\":1.65},'camera_center' : {\"x\": 0, \"y\": 0, \"z\":0},}, \n",
    "                  width=950, height=500, margin=dict(l=10, r=0, b=10, t=50))\n",
    "\n",
    "fig.update_layout(scene=dict(xaxis=dict( title=\"X\",backgroundcolor=\"rgb(200, 200, 230)\",gridcolor=\"white\",\n",
    "                         showbackground=True,zerolinecolor=\"white\", tickfont=dict(size=tickf)),\n",
    "                  yaxis=dict(title=\"Y\", backgroundcolor=\"rgb(230, 200,230)\",gridcolor=\"white\",\n",
    "                        showbackground=True,tickfont=dict(size=tickf),zerolinecolor=\"white\"),\n",
    "                  zaxis=dict(title= \"Z\", backgroundcolor=\"rgb(200, 200,200)\",gridcolor=\"white\",\n",
    "                         showbackground=True,tickfont=dict(size=tickf),zerolinecolor=\"white\",)))\n",
    "\n",
    "fig.update_layout(scene=dict(xaxis_showspikes=False, yaxis_showspikes=False),)\n",
    "fig.update_scenes(camera_projection_type=\"orthographic\")\n",
    "\n",
    "fig.show()"
   ]
  },
  {
   "cell_type": "code",
   "execution_count": null,
   "metadata": {},
   "outputs": [],
   "source": []
  }
 ],
 "metadata": {
  "kernelspec": {
   "display_name": "Python 3.9.12 ('base')",
   "language": "python",
   "name": "python3"
  },
  "language_info": {
   "codemirror_mode": {
    "name": "ipython",
    "version": 3
   },
   "file_extension": ".py",
   "mimetype": "text/x-python",
   "name": "python",
   "nbconvert_exporter": "python",
   "pygments_lexer": "ipython3",
   "version": "3.10.6"
  },
  "orig_nbformat": 4,
  "vscode": {
   "interpreter": {
    "hash": "3de8278a9739f65375f6d4e452969ca8b7a4b393d8488686070d12c8faf929f1"
   }
  }
 },
 "nbformat": 4,
 "nbformat_minor": 2
}
