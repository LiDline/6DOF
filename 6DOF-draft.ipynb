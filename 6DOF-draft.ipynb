{
 "cells": [
  {
   "cell_type": "code",
   "execution_count": 28,
   "metadata": {},
   "outputs": [],
   "source": [
    "import plotly.graph_objects as go\n",
    "from datetime import date\n",
    "from numpy import array, zeros, linalg, pi, arange, sin, pi\n",
    "from math import atan2\n",
    "\n",
    "from func.matrix_1_4 import matrix_1_4\n",
    "from func.deg_to_rad import deg_to_rad\n",
    "from func.rotation_matrix import rotation_matrix\n",
    "from func.transition_matrix import transition_matrix\n",
    "from func.cross_normal_to_oz import cross_normal_to_oz\n",
    "from func.added_first_number import a_f_n\n",
    "from arms_degrees_with_angular_limit_on_joint_and_arm import solve\n",
    "from func.zero_matrix import zero_matrix"
   ]
  },
  {
   "cell_type": "markdown",
   "metadata": {},
   "source": [
    "### Объявим размеры используемых матриц:"
   ]
  },
  {
   "cell_type": "code",
   "execution_count": 2,
   "metadata": {},
   "outputs": [],
   "source": [
    "matrix_move_lower_plate = zero_matrix(1) # Нижняя плита\n",
    "lower_points = zero_matrix(2) \n",
    "\n",
    "matrix_move_upper_plate = zero_matrix(1) # Верхняя плита\n",
    "upper_points = zero_matrix(2)\n",
    "\n",
    "position_upper_from_lower = array([zeros((4,1)), zeros((4,1)), zeros((4,1)), zeros((4,1)), zeros((4,1)), zeros((4,1))]) # Пересечение\n",
    "coordinates_cross_matrix = array([zeros((4,1)), zeros((4,1)), zeros((4,1)), zeros((4,1)), zeros((4,1)), zeros((4,1))]) \n",
    "global_cross_coordinates = array([zeros((4,1)), zeros((4,1)), zeros((4,1)), zeros((4,1)), zeros((4,1)), zeros((4,1))]) \n",
    "degrees_cross_matrix = zeros(6) \n",
    "\n",
    "coordinate_system_lower_plate = array([zeros((4,1)), zeros((4,1)), zeros((4,1)), zeros((4,1))]) # Для Системы координат\n",
    "coordinate_system_upper_plate = array([zeros((4,1)), zeros((4,1)), zeros((4,1)), zeros((4,1))])\n",
    "coordinate_system_lower_point = array([[array([zeros((4,1)), zeros((4,1)), zeros((4,1)), zeros((4,1))])], # Для каждой нижней точки записываю локальную СК\n",
    "                                    [array([zeros((4,1)), zeros((4,1)), zeros((4,1)), zeros((4,1))])],\n",
    "                                    [array([zeros((4,1)), zeros((4,1)), zeros((4,1)), zeros((4,1))])],\n",
    "                                    [array([zeros((4,1)), zeros((4,1)), zeros((4,1)), zeros((4,1))])],\n",
    "                                    [array([zeros((4,1)), zeros((4,1)), zeros((4,1)), zeros((4,1))])],\n",
    "                                    [array([zeros((4,1)), zeros((4,1)), zeros((4,1)), zeros((4,1))])],])\n",
    "coordinate_system_upper_point = array([[array([zeros((4,1)), zeros((4,1)), zeros((4,1)), zeros((4,1))])],\n",
    "                                    [array([zeros((4,1)), zeros((4,1)), zeros((4,1)), zeros((4,1))])],\n",
    "                                    [array([zeros((4,1)), zeros((4,1)), zeros((4,1)), zeros((4,1))])],\n",
    "                                    [array([zeros((4,1)), zeros((4,1)), zeros((4,1)), zeros((4,1))])],\n",
    "                                    [array([zeros((4,1)), zeros((4,1)), zeros((4,1)), zeros((4,1))])],\n",
    "                                    [array([zeros((4,1)), zeros((4,1)), zeros((4,1)), zeros((4,1))])],])                                    \n",
    "matrix_move_crosspoints_cs = array([zeros((4,4)), zeros((4,4)), zeros((4,4)), zeros((4,4)), zeros((4,4)), zeros((4,4))])\n",
    "coordinate_system_crosspoints = array([[array([zeros((4,1)), zeros((4,1)), zeros((4,1)), zeros((4,1))])],\n",
    "                                    [array([zeros((4,1)), zeros((4,1)), zeros((4,1)), zeros((4,1))])],\n",
    "                                    [array([zeros((4,1)), zeros((4,1)), zeros((4,1)), zeros((4,1))])],\n",
    "                                    [array([zeros((4,1)), zeros((4,1)), zeros((4,1)), zeros((4,1))])],\n",
    "                                    [array([zeros((4,1)), zeros((4,1)), zeros((4,1)), zeros((4,1))])],\n",
    "                                    [array([zeros((4,1)), zeros((4,1)), zeros((4,1)), zeros((4,1))])]])\n",
    "# Коорд. верхней точки относительно пересечения\n",
    "coordinates_upperPoints_from_crosspoints = array([zeros((4,1)), zeros((4,1)), zeros((4,1)), zeros((4,1)), zeros((4,1)), zeros((4,1))])  \n",
    "angle_upper_points_from_crosspoints_on_ZX = zeros(6)\n",
    "angle_upper_points_from_crosspoints_on_XY = zeros(6)\n",
    "# Поворот СК в (.) пересечения\n",
    "matrix_rotate_angle_upperPoints_from_crosspoints_on_ZX = array([zeros((4,4)), zeros((4,4)), zeros((4,4)), zeros((4,4)), zeros((4,4)), zeros((4,4))])    \n",
    "matrix_move_crosspoints_cs_2 = array([zeros((4,4)), zeros((4,4)), zeros((4,4)), zeros((4,4)), zeros((4,4)), zeros((4,4))]) \n",
    "coordinates_upperPoints_from_crosspoints_in_new_planes = array([zeros((4,1)), zeros((4,1)), zeros((4,1)), zeros((4,1)), zeros((4,1)), zeros((4,1))])\n",
    "angle_joint_lower = zeros(6) \n",
    "coordinate_system_crosspoints_after_rotate = array([[array([zeros((4,1)), zeros((4,1)), zeros((4,1)), zeros((4,1))])],\n",
    "                                    [array([zeros((4,1)), zeros((4,1)), zeros((4,1)), zeros((4,1))])],\n",
    "                                    [array([zeros((4,1)), zeros((4,1)), zeros((4,1)), zeros((4,1))])],\n",
    "                                    [array([zeros((4,1)), zeros((4,1)), zeros((4,1)), zeros((4,1))])],\n",
    "                                    [array([zeros((4,1)), zeros((4,1)), zeros((4,1)), zeros((4,1))])],\n",
    "                                    [array([zeros((4,1)), zeros((4,1)), zeros((4,1)), zeros((4,1))])]])\n",
    "coordinates_crosspoints_from_lower_points = array([zeros((4,1)), zeros((4,1)), zeros((4,1)), zeros((4,1)), zeros((4,1)), zeros((4,1))])\n",
    "angle_crosspoints_from_lower_points_on_XY = zeros(6)\n",
    "matrix_rotate_angle_crosspoints_from_lower_points_on_XZ = array([zeros((4,4)), zeros((4,4)), zeros((4,4)), zeros((4,4)), zeros((4,4)), zeros((4,4))])\n",
    "matrix_move_crosspoints_cs_3 = array([zeros((4,4)), zeros((4,4)), zeros((4,4)), zeros((4,4)), zeros((4,4)), zeros((4,4))])\n",
    "coordinates_crosspoints_from_lower_points_new_planes = array([zeros((4,1)), zeros((4,1)), zeros((4,1)), zeros((4,1)), zeros((4,1)), zeros((4,1))])\n",
    "angle_joint_upper = zeros(6) \n",
    "\n",
    "# Расчёт нижнего шарнира пружины\n",
    "coordinates_upper_joint_of_gas_spring_from_lower = array([zeros((4,1)), zeros((4,1)), zeros((4,1))])\n",
    "angles_between_spring_and_ZY_of_lower_joint = zeros(3) \n",
    "matrix_rotate_cs_lower_joint_of_gas_spring =  array([zeros((4,4)), zeros((4,4)), zeros((4,4))])\n",
    "matrix_move_to_new_cs_of_lower_joint_of_gas_spring = array([zeros((4,4)), zeros((4,4)), zeros((4,4))])\n",
    "coordinates_upper_joint_gas_spring_from_lower_in_new_planes = array([zeros((4,1)), zeros((4,1)), zeros((4,1))])\n",
    "angle_lower_joint_of_gas_spring = zeros(3) \n",
    "coordinate_system_cs_lower_joint_of_gas_spring = array([[array([zeros((4,1)), zeros((4,1)), zeros((4,1)), zeros((4,1))])],\n",
    "                                                    [array([zeros((4,1)), zeros((4,1)), zeros((4,1)), zeros((4,1))])],\n",
    "                                                    [array([zeros((4,1)), zeros((4,1)), zeros((4,1)), zeros((4,1))])]])\n",
    "# Расчёт верхнего шарнира пружины\n",
    "coordinates_lower_joint_of_gas_spring_from_upper = array([zeros((4,1)), zeros((4,1)), zeros((4,1))])\n",
    "angles_between_spring_and_ZY_of_upper_joint = zeros(3) \n",
    "matrix_rotate_cs_upper_joint_of_gas_spring = array([zeros((4,4)), zeros((4,4)), zeros((4,4))])\n",
    "matrix_move_to_new_cs_of_upper_joint_of_gas_spring = array([zeros((4,4)), zeros((4,4)), zeros((4,4))])\n",
    "coordinates_lower_joint_gas_spring_from_upper_in_new_planes = array([zeros((4,1)), zeros((4,1)), zeros((4,1))])\n",
    "angle_upper_joint_of_gas_spring = zeros(3) \n",
    "coordinate_system_cs_upper_joint_of_gas_spring = array([[array([zeros((4,1)), zeros((4,1)), zeros((4,1)), zeros((4,1))])],\n",
    "                                                    [array([zeros((4,1)), zeros((4,1)), zeros((4,1)), zeros((4,1))])],\n",
    "                                                    [array([zeros((4,1)), zeros((4,1)), zeros((4,1)), zeros((4,1))])]])"
   ]
  },
  {
   "cell_type": "markdown",
   "metadata": {},
   "source": [
    "# 1. Координаты плит"
   ]
  },
  {
   "cell_type": "markdown",
   "metadata": {},
   "source": [
    "## Нижняя плита"
   ]
  },
  {
   "cell_type": "code",
   "execution_count": 3,
   "metadata": {},
   "outputs": [],
   "source": [
    "\"\"\"Смещения нижней плиты\"\"\"\n",
    "\n",
    "offset_lower = array([[-307, -125 , 0, 0, 0, 0], # Угол gamma подбирался так, чтобы OY лежащих на одной прямой точек были направлены друг на друга\n",
    "                    [45.25,  -328.37, 0, 0, 0, -60],\n",
    "                    [261.75,  -203.37, 0, 0, 0, 120], \n",
    "                    [261.75,  203.37, 0, 0, 0, 60],   # X, Y, Z, alpha, beta, gamma\n",
    "                    [45.25,  328.37, 0, 0, 0, -120], \n",
    "                    [-307,  125, 0, 0, 0, 180],\n",
    "                    [-359, 0, -292, 0, 0, 0], # Координаты крепления пружин на нижней плите\n",
    "                    [179.5, -310.9, -292, 0, 0, 120],\n",
    "                    [179.5, 310.9, -292, 0, 0, -120]])  \n",
    "\n",
    "# offset_lower = array([[125, -307 , 0, 0, 0, 0], \n",
    "#                     [328.37, 45.25, 0, 0, 0, -60],\n",
    "#                     [203.37, 261.75, 0, 0, 0, 120], \n",
    "#                     [-203.37, 261.75, 0, 0, 0, 60],   \n",
    "#                     [-328.37, 45.25, 0, 0, 0, -120], \n",
    "#                     [-125, -307, 0, 0, 0, 180],\n",
    "#                     [0, -359, -292, 0, 0, 0], \n",
    "#                     [310.9, 179.5, -292, 0, 0, 120],\n",
    "#                     [-310.9, 179.5, -292, 0, 0, -120]]) \n",
    "\n",
    "rotate_lower_local_cs = array([0, 0, 0, 0, 90, 90]) # Поворачиваю нижние локальные СК так, чтобы ось вращения стала OZ\n",
    "\n",
    "rotate_main_cs = array([0, 0, 0, 0, 0, 0])    # Поворот главной нижней оси"
   ]
  },
  {
   "cell_type": "code",
   "execution_count": 4,
   "metadata": {},
   "outputs": [],
   "source": [
    "\"\"\"Запишем матрицы перемещений для каждого центра тяги в один массив\"\"\"\n",
    "\n",
    "matrix_rotate_lower_local_cs = rotation_matrix(deg_to_rad(rotate_lower_local_cs[3]), deg_to_rad(rotate_lower_local_cs[4]), deg_to_rad(rotate_lower_local_cs[5]))\n",
    "\n",
    "matrix_rotate_main_cs = rotation_matrix(deg_to_rad(rotate_main_cs[3]), deg_to_rad(rotate_main_cs[4]), deg_to_rad(rotate_main_cs[5]))\n",
    "\n",
    "for i in range(len(offset_lower)):\n",
    "    matrix_move_lower_plate[i] = matrix_rotate_main_cs.dot((transition_matrix(offset_lower[i][0], offset_lower[i][1], offset_lower[i][2]).dot(\n",
    "                                rotation_matrix(deg_to_rad(offset_lower[i][3]), deg_to_rad(offset_lower[i][4]), deg_to_rad(offset_lower[i][5])))).dot(matrix_rotate_lower_local_cs))"
   ]
  },
  {
   "cell_type": "code",
   "execution_count": 5,
   "metadata": {},
   "outputs": [],
   "source": [
    "local_lower_CS = matrix_1_4(0, 0, 0)   # Пусть центр тяги находится в (0, 0, 0) в локальных координатах"
   ]
  },
  {
   "cell_type": "code",
   "execution_count": 6,
   "metadata": {},
   "outputs": [],
   "source": [
    "\"\"\"Координаты нижней плиты находим через перемножение матрицы перемещения на локальную СК\"\"\"\n",
    "\n",
    "for i in range(len(offset_lower)):\n",
    "    lower_points[i] = matrix_move_lower_plate[i].dot(local_lower_CS)"
   ]
  },
  {
   "cell_type": "markdown",
   "metadata": {},
   "source": [
    "## Верхняя плита"
   ]
  },
  {
   "cell_type": "code",
   "execution_count": 7,
   "metadata": {},
   "outputs": [],
   "source": [
    "move_upper_CS = array([0, 0, 300, 0, 0, 0])   # Смещение центра верхней плиты    25, 25, 300, 5, 5, 5\n",
    "\n",
    "# Координаты отсутпа верхней плиты (в нулевом положении)\n",
    "offset_upper = array([[-307,  -60, 0, 0, 0, 0],  # X, Y, Z, alpha, beta, gamma \n",
    "                    [101.54,  -295.87, 0, 0, 0, -60],\n",
    "                    [205.46,  -235.87, 0, 0, 0, 120], \n",
    "                    [205.46,  235.87, 0, 0, 0, 60], \n",
    "                    [101.54,  295.87, 0, 0, 0, -120],\n",
    "                    [-307,  60, 0, 0, 0, -180],\n",
    "                    [-307, 0, 0, 0, 0, 0], # Координаты крепления пружин на верхней плите\n",
    "                    [153.5, -265.87, 0, 0, 0, 120],\n",
    "                    [153.5, 265.87, 0, 0, 0, -120]])\n",
    "\n",
    "# offset_upper = array([[60, -307, 0, 0, 0, 0],\n",
    "#                     [295.87, 101.54, 0, 0, 0, -60],\n",
    "#                     [235.87, 205.46, 0, 0, 0, 120], \n",
    "#                     [-235.87, 205.46, 0, 0, 0, 60], \n",
    "#                     [-295.87, 101.54, 0, 0, 0, -120],\n",
    "#                     [-60, -307, 0, 0, 0, -180],\n",
    "#                     [0, -307, 0, 0, 0, 0],\n",
    "#                     [265.87, 153.57, 0, 0, 0, 120],\n",
    "#                     [-265.87, 153.5, 0, 0, 0, -120]])"
   ]
  },
  {
   "cell_type": "code",
   "execution_count": 8,
   "metadata": {},
   "outputs": [],
   "source": [
    "local_upper_CS = matrix_1_4(0, 0, 0)"
   ]
  },
  {
   "cell_type": "code",
   "execution_count": 9,
   "metadata": {},
   "outputs": [],
   "source": [
    "\"\"\"Перемещение и поворот верхней плиты\"\"\"\n",
    "# Сначала смещаем верхнюю центральную точку, затем поворачиваем\n",
    "matrix_move_upper_CS = matrix_rotate_main_cs.dot(transition_matrix(move_upper_CS[0], move_upper_CS[1], move_upper_CS[2]).dot(\n",
    "                     rotation_matrix(deg_to_rad(move_upper_CS[3]), deg_to_rad(move_upper_CS[4]), deg_to_rad(move_upper_CS[5])))) \n",
    "                        \n",
    "# Умножаю матрицу смещения верхней точки на матрицу смещения точек плиты\n",
    "for i in range(len(offset_upper)):\n",
    "   matrix_move_upper_plate[i] = matrix_move_upper_CS.dot((transition_matrix(offset_upper[i][0], offset_upper[i][1], offset_upper[i][2]).dot(    \n",
    "                                rotation_matrix(deg_to_rad(offset_upper[i][3]), deg_to_rad(offset_upper[i][4]), deg_to_rad(offset_upper[i][5])))).dot(\n",
    "                                matrix_rotate_lower_local_cs))"
   ]
  },
  {
   "cell_type": "code",
   "execution_count": 10,
   "metadata": {},
   "outputs": [],
   "source": [
    "local_upper_CS_after_move = matrix_move_upper_CS.dot(local_upper_CS)   \n",
    "\n",
    "for i in range(len(offset_upper)):\n",
    "    upper_points[i] = matrix_move_upper_plate[i].dot(local_upper_CS) # Перемещение и поворот верхней плиты "
   ]
  },
  {
   "cell_type": "markdown",
   "metadata": {},
   "source": [
    "# 2. Точки пересечения"
   ]
  },
  {
   "cell_type": "code",
   "execution_count": 11,
   "metadata": {},
   "outputs": [],
   "source": [
    "for i in range(6):\n",
    "    position_upper_from_lower[i] = linalg.inv(matrix_move_lower_plate[i]).dot(upper_points[i])"
   ]
  },
  {
   "cell_type": "code",
   "execution_count": 12,
   "metadata": {},
   "outputs": [],
   "source": [
    "R = 130   # Радиус окружности (рычага)\n",
    "r = 300   # Радиус сферы"
   ]
  },
  {
   "cell_type": "markdown",
   "metadata": {},
   "source": [
    "Результат пересечения в локальных координатах с отдельной матрицей для углов:"
   ]
  },
  {
   "cell_type": "code",
   "execution_count": 13,
   "metadata": {},
   "outputs": [],
   "source": [
    "for i in range(len(coordinates_cross_matrix)):\n",
    "    cross_matrix = cross_normal_to_oz(position_upper_from_lower[i], R, r)\n",
    "    coordinates_cross_matrix[i] = matrix_1_4(cross_matrix[0], cross_matrix[1], cross_matrix[2])\n",
    "\n",
    "    degrees_cross_matrix[i] = cross_normal_to_oz(position_upper_from_lower[i], R, r)[3]"
   ]
  },
  {
   "cell_type": "code",
   "execution_count": 14,
   "metadata": {},
   "outputs": [
    {
     "data": {
      "text/plain": [
       "array([[129.80687143],\n",
       "       [  7.08351119],\n",
       "       [  0.        ],\n",
       "       [  1.        ]])"
      ]
     },
     "execution_count": 14,
     "metadata": {},
     "output_type": "execute_result"
    }
   ],
   "source": [
    "coordinates_cross_matrix[0]"
   ]
  },
  {
   "cell_type": "markdown",
   "metadata": {},
   "source": [
    "Получив координаты пересечения тяги и рычага в локальной системе координат переведём их в глобальную:"
   ]
  },
  {
   "cell_type": "code",
   "execution_count": 15,
   "metadata": {},
   "outputs": [],
   "source": [
    "for i in range(len(global_cross_coordinates)):\n",
    "    global_cross_coordinates[i] =  matrix_move_lower_plate[i].dot(coordinates_cross_matrix[i])   # Эти локальные координаты являются частью объекта, который мы и переносим"
   ]
  },
  {
   "cell_type": "markdown",
   "metadata": {},
   "source": [
    "# 3. Угол шаровой (и системы координат)"
   ]
  },
  {
   "cell_type": "markdown",
   "metadata": {},
   "source": [
    "### Отрисуем системы координат на плитах"
   ]
  },
  {
   "cell_type": "code",
   "execution_count": 16,
   "metadata": {},
   "outputs": [],
   "source": [
    "global_coordinate_system = array([[80, 0, 0],  # OX\n",
    "                            [0, 80, 0], # OY\n",
    "                            [0, 0, 80],# OZ \n",
    "                            [0, 0, 0]]) # 0, 0                         "
   ]
  },
  {
   "cell_type": "code",
   "execution_count": 17,
   "metadata": {},
   "outputs": [],
   "source": [
    "for j in range(6):\n",
    "    for i in range(len(global_coordinate_system)): \n",
    "        coordinate_system_upper_plate[i] = (matrix_move_upper_CS.dot(matrix_1_4(global_coordinate_system[i][0], \n",
    "                                            global_coordinate_system[i][1], global_coordinate_system[i][2])))   # СК центра верхней плиты\n",
    "        coordinate_system_lower_point[j][0][i] = matrix_move_lower_plate[j].dot(matrix_1_4(global_coordinate_system[i][0], \n",
    "                                                                global_coordinate_system[i][1], global_coordinate_system[i][2]))   # Локальные СК нижней плиты                                                          \n",
    "        # Матрица перемещения для СК точек пересечения\n",
    "        matrix_move_crosspoints_cs[j] = matrix_move_lower_plate[j].dot(transition_matrix(coordinates_cross_matrix[j][0][0], coordinates_cross_matrix[j][1][0], coordinates_cross_matrix[j][2][0]))\n",
    "        coordinate_system_crosspoints[j][0][i] = matrix_move_crosspoints_cs[j].dot(matrix_1_4(global_coordinate_system[i][0],   # Локальные СК точек пересечения\n",
    "                                                                global_coordinate_system[i][1], global_coordinate_system[i][2]))"
   ]
  },
  {
   "cell_type": "markdown",
   "metadata": {},
   "source": [
    "### Поиск угла нижних шарниров на рычагах"
   ]
  },
  {
   "cell_type": "code",
   "execution_count": 18,
   "metadata": {},
   "outputs": [],
   "source": [
    "for i in range(6):\n",
    "    # Находим координаты верхней шаровой относительно нижней (конца рычага)\n",
    "    coordinates_upperPoints_from_crosspoints[i] = linalg.inv(matrix_move_crosspoints_cs[i]).dot(upper_points[i])\n",
    "    # Найдём угол между проекцией тяги (на XY) и ZX, чтобы повернуть XY на полученный угол \n",
    "    # (тяга няходится в 1-ей четверти)\n",
    "    angle_upper_points_from_crosspoints_on_XY[i] = atan2(coordinates_upperPoints_from_crosspoints[i][1][0], coordinates_upperPoints_from_crosspoints[i][0][0])\n",
    "    matrix_rotate_angle_upperPoints_from_crosspoints_on_ZX[i] = rotation_matrix(0, 0, angle_upper_points_from_crosspoints_on_XY[i])\n",
    "    # Создадим матрицу перемещения до точки пересечения с последующим поворотом до XZ\n",
    "    matrix_move_crosspoints_cs_2[i] = matrix_move_crosspoints_cs[i].dot(matrix_rotate_angle_upperPoints_from_crosspoints_on_ZX[i])  \n",
    "    # Узнаем координаты верхнего шарнира относительно нижнего в новой СК\n",
    "    coordinates_upperPoints_from_crosspoints_in_new_planes[i] = linalg.inv(matrix_move_crosspoints_cs_2[i]).dot(upper_points[i])\n",
    "    # Найдём углы\n",
    "    angle_joint_lower[i] = atan2(coordinates_upperPoints_from_crosspoints_in_new_planes[i][2][0], coordinates_upperPoints_from_crosspoints_in_new_planes[i][0][0])\n",
    "\n",
    "for i in range(6):\n",
    "    for j in range(len(global_coordinate_system)): \n",
    "        coordinate_system_crosspoints_after_rotate[i][0][j] = matrix_move_crosspoints_cs_2[i].dot(matrix_1_4(global_coordinate_system[j][0],   # Локальные СК точек пересечения\n",
    "                                                            global_coordinate_system[j][1], global_coordinate_system[j][2]))    "
   ]
  },
  {
   "cell_type": "markdown",
   "metadata": {},
   "source": [
    "### Поиск угла верхнего шарнира"
   ]
  },
  {
   "cell_type": "code",
   "execution_count": 19,
   "metadata": {},
   "outputs": [],
   "source": [
    "for i in range(6):\n",
    "    # Находим координаты нижней шаровой относительно верхней\n",
    "    coordinates_crosspoints_from_lower_points[i] = linalg.inv(matrix_move_upper_plate[i]).dot(global_cross_coordinates[i])\n",
    "    # Найдём угол между тягой и XY, чтобы повернуть YZ на полученный угол (хотим, чтобы тяга лежала в плоскости ZY,\n",
    "    # (тяга няходится в 3-ей четверти, поэтому проще повернуть плоскость YZ, а не XZ - так ближе)\n",
    "    angle_crosspoints_from_lower_points_on_XY[i] = atan2(coordinates_crosspoints_from_lower_points[i][0][0], coordinates_crosspoints_from_lower_points[i][1][0])\n",
    "    matrix_rotate_angle_crosspoints_from_lower_points_on_XZ[i] = rotation_matrix(0, 0, -angle_crosspoints_from_lower_points_on_XY[i])\n",
    "    # Создадим матрицу перемещения до точки пересечения с последующим поворотом до XZ\n",
    "    matrix_move_crosspoints_cs_3[i] = matrix_move_upper_plate[i].dot(matrix_rotate_angle_crosspoints_from_lower_points_on_XZ[i])  \n",
    "    # Узнаем координаты нижнего шарнира относительно верхнего в новой СК\n",
    "    coordinates_crosspoints_from_lower_points_new_planes[i] = linalg.inv(matrix_move_crosspoints_cs_3[i]).dot(global_cross_coordinates[i])\n",
    "    # Найдём углы\n",
    "    angle_joint_upper[i] = atan2(coordinates_crosspoints_from_lower_points_new_planes[i][2][0], coordinates_crosspoints_from_lower_points_new_planes[i][1][0])\n",
    "\n",
    "for i in range(6):\n",
    "    for j in range(len(global_coordinate_system)): \n",
    "        coordinate_system_upper_point[i][0][j] = matrix_move_crosspoints_cs_3[i].dot(matrix_1_4(global_coordinate_system[j][0], \n",
    "                                                                global_coordinate_system[j][1], global_coordinate_system[j][2]))    # Локальные СК верхней плиты    "
   ]
  },
  {
   "cell_type": "markdown",
   "metadata": {},
   "source": [
    "### Поиск углов шарниров пружин"
   ]
  },
  {
   "cell_type": "code",
   "execution_count": 20,
   "metadata": {},
   "outputs": [
    {
     "name": "stdout",
     "output_type": "stream",
     "text": [
      "5.019853642019552\n"
     ]
    }
   ],
   "source": [
    "# Находим координаты верхней шаровой относительно нижней\n",
    "for i in range(3):\n",
    "    coordinates_upper_joint_of_gas_spring_from_lower[i] = linalg.inv(matrix_move_lower_plate[i+6]).dot(upper_points[i+6])\n",
    "    # Найдём угол между проекцией пружины (на YX) и ZY, чтобы повернуть XY на полученный угол по OZ\n",
    "    # (пружина няходится в 1-ей четверти)\n",
    "    angles_between_spring_and_ZY_of_lower_joint[i] = atan2(coordinates_upper_joint_of_gas_spring_from_lower[i][0][0], coordinates_upper_joint_of_gas_spring_from_lower[i][1][0])\n",
    "    # Матрицы поворота СК (чтобы пружина лежала в плоскости ZY)\n",
    "    matrix_rotate_cs_lower_joint_of_gas_spring[i] = rotation_matrix(0, 0, -angles_between_spring_and_ZY_of_lower_joint[i])\n",
    "    # Создадим общую матрицу перемещения с последующим поворотом\n",
    "    matrix_move_to_new_cs_of_lower_joint_of_gas_spring[i] = matrix_move_lower_plate[i+6].dot(matrix_rotate_cs_lower_joint_of_gas_spring[i])\n",
    "    # Узнаем координаты верхнего шарнира точки пересечения в новой СК\n",
    "    coordinates_upper_joint_gas_spring_from_lower_in_new_planes[i] = linalg.inv(matrix_move_to_new_cs_of_lower_joint_of_gas_spring[i]).dot(upper_points[i+6])\n",
    "    # # Найдём углы\n",
    "    angle_lower_joint_of_gas_spring[i] = atan2(coordinates_upper_joint_gas_spring_from_lower_in_new_planes[i][2][0], coordinates_upper_joint_gas_spring_from_lower_in_new_planes[i][1][0])\n",
    "\n",
    "for i in range(3):\n",
    "    for j in range(len(global_coordinate_system)): \n",
    "        coordinate_system_cs_lower_joint_of_gas_spring[i][0][j] = matrix_move_to_new_cs_of_lower_joint_of_gas_spring[i].dot(matrix_1_4(global_coordinate_system[j][0],\n",
    "                                                            global_coordinate_system[j][1], global_coordinate_system[j][2]))        \n",
    "print(angle_lower_joint_of_gas_spring[0]*180/pi)"
   ]
  },
  {
   "cell_type": "code",
   "execution_count": 21,
   "metadata": {},
   "outputs": [
    {
     "name": "stdout",
     "output_type": "stream",
     "text": [
      "-5.019853642019552\n"
     ]
    }
   ],
   "source": [
    "# Находим координаты нижней шаровой относительно верхней\n",
    "for i in range(3):\n",
    "  coordinates_lower_joint_of_gas_spring_from_upper[i] = linalg.inv(matrix_move_upper_plate[i+6]).dot(lower_points[i+6])\n",
    "      # (пружина няходится в 3-ей четверти)\n",
    "  angles_between_spring_and_ZY_of_upper_joint[i] = atan2(coordinates_lower_joint_of_gas_spring_from_upper[i][0][0], coordinates_lower_joint_of_gas_spring_from_upper[i][1][0])\n",
    "  # Матрицы поворота СК (чтобы пружина лежала в плоскости ZX)\n",
    "  matrix_rotate_cs_upper_joint_of_gas_spring[i] = rotation_matrix(0, 0, -angles_between_spring_and_ZY_of_upper_joint[i])\n",
    "  # Создадим общую матрицу перемещения с последующим поворотом\n",
    "  matrix_move_to_new_cs_of_upper_joint_of_gas_spring[i] = matrix_move_upper_plate[i+6].dot(matrix_rotate_cs_upper_joint_of_gas_spring[i]) \n",
    "  # Узнаем координаты нижнего шарнира точки пересечения в новой СК\n",
    "  coordinates_lower_joint_gas_spring_from_upper_in_new_planes[i] = linalg.inv(matrix_move_to_new_cs_of_upper_joint_of_gas_spring[i]).dot(lower_points[i+6])\n",
    "  angle_upper_joint_of_gas_spring[i] = atan2(coordinates_lower_joint_gas_spring_from_upper_in_new_planes[i][2][0], coordinates_lower_joint_gas_spring_from_upper_in_new_planes[i][1][0])\n",
    "\n",
    "  for i in range(3):\n",
    "    for j in range(len(global_coordinate_system)): \n",
    "      coordinate_system_cs_upper_joint_of_gas_spring[i][0][j] = matrix_move_to_new_cs_of_upper_joint_of_gas_spring[i].dot(matrix_1_4(global_coordinate_system[j][0],\n",
    "                                                            global_coordinate_system[j][1], global_coordinate_system[j][2]))   \n",
    "print(angle_upper_joint_of_gas_spring[0]*180/pi)"
   ]
  },
  {
   "cell_type": "markdown",
   "metadata": {},
   "source": [
    "# 4. Отрисовка"
   ]
  },
  {
   "cell_type": "markdown",
   "metadata": {},
   "source": [
    "### Ноги"
   ]
  },
  {
   "cell_type": "code",
   "execution_count": 22,
   "metadata": {},
   "outputs": [],
   "source": [
    "def grapg_leg(lower_points, global_cross_coordinates, upper_points, i, group, color):\n",
    "\n",
    "    fig.add_trace(go.Scatter3d(x=[a_f_n(lower_points, 0)[i], a_f_n(global_cross_coordinates, 0)[i]], \n",
    "                        y=[a_f_n(lower_points, 1)[i], a_f_n(global_cross_coordinates, 1)[i]], \n",
    "                        z=[a_f_n(lower_points, 2)[i], a_f_n(global_cross_coordinates, 2)[i]],  \n",
    "                        showlegend=True, name = f'Рычаг ({round(degrees_cross_matrix[i]*180/pi, 2)}) - Тяга {i+1} ({round(angle_joint_lower[i]*180/pi, 2)}; {round(angle_joint_upper[i]*180/pi, 2)})',\n",
    "                        opacity=1, legendgroup=group, marker=dict(size=5, color=color, colorscale='Viridis'), line = dict(width = 2)))\n",
    "    fig.add_trace(go.Scatter3d(x=[a_f_n(global_cross_coordinates, 0)[i], a_f_n(upper_points, 0)[i]], \n",
    "                        y=[a_f_n(global_cross_coordinates, 1)[i], a_f_n(upper_points, 1)[i]], \n",
    "                        z=[a_f_n(global_cross_coordinates, 2)[i], a_f_n(upper_points, 2)[i]],  \n",
    "                        showlegend=False, opacity=1, legendgroup=group,marker=dict(size=5, color=color, colorscale='Viridis'), line = dict(width = 2)))                    "
   ]
  },
  {
   "cell_type": "markdown",
   "metadata": {},
   "source": [
    "### Система координат"
   ]
  },
  {
   "cell_type": "code",
   "execution_count": 23,
   "metadata": {},
   "outputs": [],
   "source": [
    "def coordinate_system(coordinate_system, i, base = None):\n",
    "\n",
    "  width = 4\n",
    "  opacity = 1\n",
    "  \n",
    "  if base:\n",
    "    width = 8\n",
    "\n",
    "  fig.add_trace(go.Scatter3d(x = [a_f_n(coordinate_system, 0)[3]],\n",
    "                            y = [a_f_n(coordinate_system, 1)[3]],\n",
    "                            z = [a_f_n(coordinate_system, 2)[3]],\n",
    "                            showlegend=False, opacity=1, legendgroup=f\"group{i}\", marker=dict(size=width-1, color='gray', colorscale='Viridis',)))\n",
    "\n",
    "  fig.add_trace(go.Scatter3d(x = [a_f_n(coordinate_system, 0)[3], a_f_n(coordinate_system, 0)[0]],\n",
    "                            y = [a_f_n(coordinate_system, 1)[3], a_f_n(coordinate_system, 1)[0]],\n",
    "                            z = [a_f_n(coordinate_system, 2)[3], a_f_n(coordinate_system, 2)[0]],\n",
    "                showlegend=False, opacity=opacity, legendgroup=f\"group{i}\", marker=dict(size=1, color='red', colorscale='Viridis',), line = dict(width = width))) \n",
    "  fig.add_trace(go.Scatter3d(x = [a_f_n(coordinate_system, 0)[3], a_f_n(coordinate_system, 0)[1]],\n",
    "                            y = [a_f_n(coordinate_system, 1)[3], a_f_n(coordinate_system, 1)[1]],\n",
    "                            z = [a_f_n(coordinate_system, 2)[3], a_f_n(coordinate_system, 2)[1]],\n",
    "                showlegend=False, opacity=opacity, legendgroup=f\"group{i}\", marker=dict(size=1, color='green', colorscale='Viridis',), line = dict(width = width))) \n",
    "  fig.add_trace(go.Scatter3d(x = [a_f_n(coordinate_system, 0)[3], a_f_n(coordinate_system, 0)[2]],\n",
    "                            y = [a_f_n(coordinate_system, 1)[3], a_f_n(coordinate_system, 1)[2]],\n",
    "                            z = [a_f_n(coordinate_system, 2)[3], a_f_n(coordinate_system, 2)[2]],\n",
    "                showlegend=False, opacity=opacity, legendgroup=f\"group{i}\", marker=dict(size=1, color='blue', colorscale='Viridis',), line = dict(width = width)))                                      "
   ]
  },
  {
   "cell_type": "markdown",
   "metadata": {},
   "source": [
    "### График"
   ]
  },
  {
   "cell_type": "code",
   "execution_count": 24,
   "metadata": {},
   "outputs": [
    {
     "data": {
      "application/vnd.plotly.v1+json": {
       "config": {
        "plotlyServerURL": "https://plot.ly"
       },
       "data": [
        {
         "legendgroup": "group7",
         "marker": {
          "color": "royalblue",
          "colorscale": [
           [
            0,
            "#440154"
           ],
           [
            0.1111111111111111,
            "#482878"
           ],
           [
            0.2222222222222222,
            "#3e4989"
           ],
           [
            0.3333333333333333,
            "#31688e"
           ],
           [
            0.4444444444444444,
            "#26828e"
           ],
           [
            0.5555555555555556,
            "#1f9e89"
           ],
           [
            0.6666666666666666,
            "#35b779"
           ],
           [
            0.7777777777777778,
            "#6ece58"
           ],
           [
            0.8888888888888888,
            "#b5de2b"
           ],
           [
            1,
            "#fde725"
           ]
          ],
          "size": 1
         },
         "name": "Верхняя плита",
         "opacity": 0.3,
         "showlegend": true,
         "surfaceaxis": 2,
         "type": "scatter3d",
         "x": [
          -307,
          101.54,
          205.46,
          205.46,
          101.54,
          -307,
          -307
         ],
         "y": [
          -60,
          -295.87,
          -235.87,
          235.87,
          295.87,
          60,
          -60
         ],
         "z": [
          300,
          300,
          300,
          300,
          300,
          300,
          300
         ]
        },
        {
         "legendgroup": "group7",
         "marker": {
          "color": "black",
          "colorscale": [
           [
            0,
            "#440154"
           ],
           [
            0.1111111111111111,
            "#482878"
           ],
           [
            0.2222222222222222,
            "#3e4989"
           ],
           [
            0.3333333333333333,
            "#31688e"
           ],
           [
            0.4444444444444444,
            "#26828e"
           ],
           [
            0.5555555555555556,
            "#1f9e89"
           ],
           [
            0.6666666666666666,
            "#35b779"
           ],
           [
            0.7777777777777778,
            "#6ece58"
           ],
           [
            0.8888888888888888,
            "#b5de2b"
           ],
           [
            1,
            "#fde725"
           ]
          ],
          "size": 1
         },
         "opacity": 0.8,
         "showlegend": false,
         "surfaceaxis": -1,
         "type": "scatter3d",
         "x": [
          -307,
          101.54,
          205.46,
          205.46,
          101.54,
          -307,
          -307
         ],
         "y": [
          -60,
          -295.87,
          -235.87,
          235.87,
          295.87,
          60,
          -60
         ],
         "z": [
          300,
          300,
          300,
          300,
          300,
          300,
          300
         ]
        },
        {
         "legendgroup": "group8",
         "marker": {
          "color": "red",
          "colorscale": [
           [
            0,
            "#440154"
           ],
           [
            0.1111111111111111,
            "#482878"
           ],
           [
            0.2222222222222222,
            "#3e4989"
           ],
           [
            0.3333333333333333,
            "#31688e"
           ],
           [
            0.4444444444444444,
            "#26828e"
           ],
           [
            0.5555555555555556,
            "#1f9e89"
           ],
           [
            0.6666666666666666,
            "#35b779"
           ],
           [
            0.7777777777777778,
            "#6ece58"
           ],
           [
            0.8888888888888888,
            "#b5de2b"
           ],
           [
            1,
            "#fde725"
           ]
          ],
          "size": 1
         },
         "name": "Нижняя плита",
         "opacity": 0.3,
         "showlegend": true,
         "surfaceaxis": 2,
         "type": "scatter3d",
         "x": [
          -307,
          45.25,
          261.75,
          261.75,
          45.25,
          -307,
          -307
         ],
         "y": [
          -125,
          -328.37,
          -203.37,
          203.37,
          328.37,
          125,
          -125
         ],
         "z": [
          0,
          0,
          0,
          0,
          0,
          0,
          0
         ]
        },
        {
         "legendgroup": "group8",
         "marker": {
          "color": "black",
          "colorscale": [
           [
            0,
            "#440154"
           ],
           [
            0.1111111111111111,
            "#482878"
           ],
           [
            0.2222222222222222,
            "#3e4989"
           ],
           [
            0.3333333333333333,
            "#31688e"
           ],
           [
            0.4444444444444444,
            "#26828e"
           ],
           [
            0.5555555555555556,
            "#1f9e89"
           ],
           [
            0.6666666666666666,
            "#35b779"
           ],
           [
            0.7777777777777778,
            "#6ece58"
           ],
           [
            0.8888888888888888,
            "#b5de2b"
           ],
           [
            1,
            "#fde725"
           ]
          ],
          "size": 1
         },
         "opacity": 0.8,
         "showlegend": false,
         "surfaceaxis": -1,
         "type": "scatter3d",
         "x": [
          -307,
          45.25,
          261.75,
          261.75,
          45.25,
          -307,
          -307
         ],
         "y": [
          -125,
          -328.37,
          -203.37,
          203.37,
          328.37,
          125,
          -125
         ],
         "z": [
          0,
          0,
          0,
          0,
          0,
          0,
          0
         ]
        },
        {
         "legendgroup": "group0",
         "line": {
          "width": 2
         },
         "marker": {
          "color": "black",
          "colorscale": [
           [
            0,
            "#440154"
           ],
           [
            0.1111111111111111,
            "#482878"
           ],
           [
            0.2222222222222222,
            "#3e4989"
           ],
           [
            0.3333333333333333,
            "#31688e"
           ],
           [
            0.4444444444444444,
            "#26828e"
           ],
           [
            0.5555555555555556,
            "#1f9e89"
           ],
           [
            0.6666666666666666,
            "#35b779"
           ],
           [
            0.7777777777777778,
            "#6ece58"
           ],
           [
            0.8888888888888888,
            "#b5de2b"
           ],
           [
            1,
            "#fde725"
           ]
          ],
          "size": 5
         },
         "name": "Рычаг (81.96) - Тяга 1 (0.0; 0.0)",
         "opacity": 1,
         "showlegend": true,
         "type": "scatter3d",
         "x": [
          -307,
          -307
         ],
         "y": [
          -125,
          4.806871425221999
         ],
         "z": [
          0,
          7.0835111912018975
         ]
        },
        {
         "legendgroup": "group0",
         "line": {
          "width": 2
         },
         "marker": {
          "color": "black",
          "colorscale": [
           [
            0,
            "#440154"
           ],
           [
            0.1111111111111111,
            "#482878"
           ],
           [
            0.2222222222222222,
            "#3e4989"
           ],
           [
            0.3333333333333333,
            "#31688e"
           ],
           [
            0.4444444444444444,
            "#26828e"
           ],
           [
            0.5555555555555556,
            "#1f9e89"
           ],
           [
            0.6666666666666666,
            "#35b779"
           ],
           [
            0.7777777777777778,
            "#6ece58"
           ],
           [
            0.8888888888888888,
            "#b5de2b"
           ],
           [
            1,
            "#fde725"
           ]
          ],
          "size": 5
         },
         "opacity": 1,
         "showlegend": false,
         "type": "scatter3d",
         "x": [
          -307,
          -307
         ],
         "y": [
          4.806871425221999,
          -60
         ],
         "z": [
          7.0835111912018975,
          300
         ]
        },
        {
         "legendgroup": "group0",
         "marker": {
          "color": "gray",
          "colorscale": [
           [
            0,
            "#440154"
           ],
           [
            0.1111111111111111,
            "#482878"
           ],
           [
            0.2222222222222222,
            "#3e4989"
           ],
           [
            0.3333333333333333,
            "#31688e"
           ],
           [
            0.4444444444444444,
            "#26828e"
           ],
           [
            0.5555555555555556,
            "#1f9e89"
           ],
           [
            0.6666666666666666,
            "#35b779"
           ],
           [
            0.7777777777777778,
            "#6ece58"
           ],
           [
            0.8888888888888888,
            "#b5de2b"
           ],
           [
            1,
            "#fde725"
           ]
          ],
          "size": 3
         },
         "opacity": 1,
         "showlegend": false,
         "type": "scatter3d",
         "x": [
          -307
         ],
         "y": [
          -125
         ],
         "z": [
          0
         ]
        },
        {
         "legendgroup": "group0",
         "line": {
          "width": 4
         },
         "marker": {
          "color": "red",
          "colorscale": [
           [
            0,
            "#440154"
           ],
           [
            0.1111111111111111,
            "#482878"
           ],
           [
            0.2222222222222222,
            "#3e4989"
           ],
           [
            0.3333333333333333,
            "#31688e"
           ],
           [
            0.4444444444444444,
            "#26828e"
           ],
           [
            0.5555555555555556,
            "#1f9e89"
           ],
           [
            0.6666666666666666,
            "#35b779"
           ],
           [
            0.7777777777777778,
            "#6ece58"
           ],
           [
            0.8888888888888888,
            "#b5de2b"
           ],
           [
            1,
            "#fde725"
           ]
          ],
          "size": 1
         },
         "opacity": 1,
         "showlegend": false,
         "type": "scatter3d",
         "x": [
          -307,
          -307
         ],
         "y": [
          -125,
          -45
         ],
         "z": [
          0,
          -4.898587196589413e-15
         ]
        },
        {
         "legendgroup": "group0",
         "line": {
          "width": 4
         },
         "marker": {
          "color": "green",
          "colorscale": [
           [
            0,
            "#440154"
           ],
           [
            0.1111111111111111,
            "#482878"
           ],
           [
            0.2222222222222222,
            "#3e4989"
           ],
           [
            0.3333333333333333,
            "#31688e"
           ],
           [
            0.4444444444444444,
            "#26828e"
           ],
           [
            0.5555555555555556,
            "#1f9e89"
           ],
           [
            0.6666666666666666,
            "#35b779"
           ],
           [
            0.7777777777777778,
            "#6ece58"
           ],
           [
            0.8888888888888888,
            "#b5de2b"
           ],
           [
            1,
            "#fde725"
           ]
          ],
          "size": 1
         },
         "opacity": 1,
         "showlegend": false,
         "type": "scatter3d",
         "x": [
          -307,
          -307
         ],
         "y": [
          -125,
          -125
         ],
         "z": [
          0,
          80
         ]
        },
        {
         "legendgroup": "group0",
         "line": {
          "width": 4
         },
         "marker": {
          "color": "blue",
          "colorscale": [
           [
            0,
            "#440154"
           ],
           [
            0.1111111111111111,
            "#482878"
           ],
           [
            0.2222222222222222,
            "#3e4989"
           ],
           [
            0.3333333333333333,
            "#31688e"
           ],
           [
            0.4444444444444444,
            "#26828e"
           ],
           [
            0.5555555555555556,
            "#1f9e89"
           ],
           [
            0.6666666666666666,
            "#35b779"
           ],
           [
            0.7777777777777778,
            "#6ece58"
           ],
           [
            0.8888888888888888,
            "#b5de2b"
           ],
           [
            1,
            "#fde725"
           ]
          ],
          "size": 1
         },
         "opacity": 1,
         "showlegend": false,
         "type": "scatter3d",
         "x": [
          -307,
          -227
         ],
         "y": [
          -125,
          -125
         ],
         "z": [
          0,
          4.898587196589413e-15
         ]
        },
        {
         "legendgroup": "group0",
         "marker": {
          "color": "gray",
          "colorscale": [
           [
            0,
            "#440154"
           ],
           [
            0.1111111111111111,
            "#482878"
           ],
           [
            0.2222222222222222,
            "#3e4989"
           ],
           [
            0.3333333333333333,
            "#31688e"
           ],
           [
            0.4444444444444444,
            "#26828e"
           ],
           [
            0.5555555555555556,
            "#1f9e89"
           ],
           [
            0.6666666666666666,
            "#35b779"
           ],
           [
            0.7777777777777778,
            "#6ece58"
           ],
           [
            0.8888888888888888,
            "#b5de2b"
           ],
           [
            1,
            "#fde725"
           ]
          ],
          "size": 3
         },
         "opacity": 1,
         "showlegend": false,
         "type": "scatter3d",
         "x": [
          -307
         ],
         "y": [
          -60
         ],
         "z": [
          300
         ]
        },
        {
         "legendgroup": "group0",
         "line": {
          "width": 4
         },
         "marker": {
          "color": "red",
          "colorscale": [
           [
            0,
            "#440154"
           ],
           [
            0.1111111111111111,
            "#482878"
           ],
           [
            0.2222222222222222,
            "#3e4989"
           ],
           [
            0.3333333333333333,
            "#31688e"
           ],
           [
            0.4444444444444444,
            "#26828e"
           ],
           [
            0.5555555555555556,
            "#1f9e89"
           ],
           [
            0.6666666666666666,
            "#35b779"
           ],
           [
            0.7777777777777778,
            "#6ece58"
           ],
           [
            0.8888888888888888,
            "#b5de2b"
           ],
           [
            1,
            "#fde725"
           ]
          ],
          "size": 1
         },
         "opacity": 1,
         "showlegend": false,
         "type": "scatter3d",
         "x": [
          -307,
          -307
         ],
         "y": [
          -60,
          -138.11106368234616
         ],
         "z": [
          300,
          282.7181676199408
         ]
        },
        {
         "legendgroup": "group0",
         "line": {
          "width": 4
         },
         "marker": {
          "color": "green",
          "colorscale": [
           [
            0,
            "#440154"
           ],
           [
            0.1111111111111111,
            "#482878"
           ],
           [
            0.2222222222222222,
            "#3e4989"
           ],
           [
            0.3333333333333333,
            "#31688e"
           ],
           [
            0.4444444444444444,
            "#26828e"
           ],
           [
            0.5555555555555556,
            "#1f9e89"
           ],
           [
            0.6666666666666666,
            "#35b779"
           ],
           [
            0.7777777777777778,
            "#6ece58"
           ],
           [
            0.8888888888888888,
            "#b5de2b"
           ],
           [
            1,
            "#fde725"
           ]
          ],
          "size": 1
         },
         "opacity": 1,
         "showlegend": false,
         "type": "scatter3d",
         "x": [
          -307,
          -307
         ],
         "y": [
          -60,
          -42.718167619940786
         ],
         "z": [
          300,
          221.88893631765384
         ]
        },
        {
         "legendgroup": "group0",
         "line": {
          "width": 4
         },
         "marker": {
          "color": "blue",
          "colorscale": [
           [
            0,
            "#440154"
           ],
           [
            0.1111111111111111,
            "#482878"
           ],
           [
            0.2222222222222222,
            "#3e4989"
           ],
           [
            0.3333333333333333,
            "#31688e"
           ],
           [
            0.4444444444444444,
            "#26828e"
           ],
           [
            0.5555555555555556,
            "#1f9e89"
           ],
           [
            0.6666666666666666,
            "#35b779"
           ],
           [
            0.7777777777777778,
            "#6ece58"
           ],
           [
            0.8888888888888888,
            "#b5de2b"
           ],
           [
            1,
            "#fde725"
           ]
          ],
          "size": 1
         },
         "opacity": 1,
         "showlegend": false,
         "type": "scatter3d",
         "x": [
          -307,
          -227
         ],
         "y": [
          -60,
          -60
         ],
         "z": [
          300,
          300
         ]
        },
        {
         "legendgroup": "group0",
         "marker": {
          "color": "gray",
          "colorscale": [
           [
            0,
            "#440154"
           ],
           [
            0.1111111111111111,
            "#482878"
           ],
           [
            0.2222222222222222,
            "#3e4989"
           ],
           [
            0.3333333333333333,
            "#31688e"
           ],
           [
            0.4444444444444444,
            "#26828e"
           ],
           [
            0.5555555555555556,
            "#1f9e89"
           ],
           [
            0.6666666666666666,
            "#35b779"
           ],
           [
            0.7777777777777778,
            "#6ece58"
           ],
           [
            0.8888888888888888,
            "#b5de2b"
           ],
           [
            1,
            "#fde725"
           ]
          ],
          "size": 3
         },
         "opacity": 1,
         "showlegend": false,
         "type": "scatter3d",
         "x": [
          -307
         ],
         "y": [
          4.806871425221999
         ],
         "z": [
          7.0835111912018975
         ]
        },
        {
         "legendgroup": "group0",
         "line": {
          "width": 4
         },
         "marker": {
          "color": "red",
          "colorscale": [
           [
            0,
            "#440154"
           ],
           [
            0.1111111111111111,
            "#482878"
           ],
           [
            0.2222222222222222,
            "#3e4989"
           ],
           [
            0.3333333333333333,
            "#31688e"
           ],
           [
            0.4444444444444444,
            "#26828e"
           ],
           [
            0.5555555555555556,
            "#1f9e89"
           ],
           [
            0.6666666666666666,
            "#35b779"
           ],
           [
            0.7777777777777778,
            "#6ece58"
           ],
           [
            0.8888888888888888,
            "#b5de2b"
           ],
           [
            1,
            "#fde725"
           ]
          ],
          "size": 1
         },
         "opacity": 1,
         "showlegend": false,
         "type": "scatter3d",
         "x": [
          -307,
          -307
         ],
         "y": [
          4.806871425221999,
          -12.4749609548372
         ],
         "z": [
          7.0835111912018975,
          85.19457487354805
         ]
        },
        {
         "legendgroup": "group0",
         "line": {
          "width": 4
         },
         "marker": {
          "color": "green",
          "colorscale": [
           [
            0,
            "#440154"
           ],
           [
            0.1111111111111111,
            "#482878"
           ],
           [
            0.2222222222222222,
            "#3e4989"
           ],
           [
            0.3333333333333333,
            "#31688e"
           ],
           [
            0.4444444444444444,
            "#26828e"
           ],
           [
            0.5555555555555556,
            "#1f9e89"
           ],
           [
            0.6666666666666666,
            "#35b779"
           ],
           [
            0.7777777777777778,
            "#6ece58"
           ],
           [
            0.8888888888888888,
            "#b5de2b"
           ],
           [
            1,
            "#fde725"
           ]
          ],
          "size": 1
         },
         "opacity": 1,
         "showlegend": false,
         "type": "scatter3d",
         "x": [
          -307,
          -307
         ],
         "y": [
          4.806871425221999,
          -73.30419225712416
         ],
         "z": [
          7.0835111912018975,
          -10.198321188857303
         ]
        },
        {
         "legendgroup": "group0",
         "line": {
          "width": 4
         },
         "marker": {
          "color": "blue",
          "colorscale": [
           [
            0,
            "#440154"
           ],
           [
            0.1111111111111111,
            "#482878"
           ],
           [
            0.2222222222222222,
            "#3e4989"
           ],
           [
            0.3333333333333333,
            "#31688e"
           ],
           [
            0.4444444444444444,
            "#26828e"
           ],
           [
            0.5555555555555556,
            "#1f9e89"
           ],
           [
            0.6666666666666666,
            "#35b779"
           ],
           [
            0.7777777777777778,
            "#6ece58"
           ],
           [
            0.8888888888888888,
            "#b5de2b"
           ],
           [
            1,
            "#fde725"
           ]
          ],
          "size": 1
         },
         "opacity": 1,
         "showlegend": false,
         "type": "scatter3d",
         "x": [
          -307,
          -227
         ],
         "y": [
          4.806871425221999,
          4.806871425221999
         ],
         "z": [
          7.0835111912018975,
          7.083511191201903
         ]
        },
        {
         "legendgroup": "group1",
         "line": {
          "width": 2
         },
         "marker": {
          "color": "purple",
          "colorscale": [
           [
            0,
            "#440154"
           ],
           [
            0.1111111111111111,
            "#482878"
           ],
           [
            0.2222222222222222,
            "#3e4989"
           ],
           [
            0.3333333333333333,
            "#31688e"
           ],
           [
            0.4444444444444444,
            "#26828e"
           ],
           [
            0.5555555555555556,
            "#1f9e89"
           ],
           [
            0.6666666666666666,
            "#35b779"
           ],
           [
            0.7777777777777778,
            "#6ece58"
           ],
           [
            0.8888888888888888,
            "#b5de2b"
           ],
           [
            1,
            "#fde725"
           ]
          ],
          "size": 5
         },
         "name": "Рычаг (81.96) - Тяга 2 (-0.0; 0.0)",
         "opacity": 1,
         "showlegend": true,
         "type": "scatter3d",
         "x": [
          45.25,
          157.66603346578137
         ],
         "y": [
          -328.37,
          -263.46657281730114
         ],
         "z": [
          0,
          7.083823809244839
         ]
        },
        {
         "legendgroup": "group1",
         "line": {
          "width": 2
         },
         "marker": {
          "color": "purple",
          "colorscale": [
           [
            0,
            "#440154"
           ],
           [
            0.1111111111111111,
            "#482878"
           ],
           [
            0.2222222222222222,
            "#3e4989"
           ],
           [
            0.3333333333333333,
            "#31688e"
           ],
           [
            0.4444444444444444,
            "#26828e"
           ],
           [
            0.5555555555555556,
            "#1f9e89"
           ],
           [
            0.6666666666666666,
            "#35b779"
           ],
           [
            0.7777777777777778,
            "#6ece58"
           ],
           [
            0.8888888888888888,
            "#b5de2b"
           ],
           [
            1,
            "#fde725"
           ]
          ],
          "size": 5
         },
         "opacity": 1,
         "showlegend": false,
         "type": "scatter3d",
         "x": [
          157.66603346578137,
          101.54
         ],
         "y": [
          -263.46657281730114,
          -295.87
         ],
         "z": [
          7.083823809244839,
          300
         ]
        },
        {
         "legendgroup": "group1",
         "marker": {
          "color": "gray",
          "colorscale": [
           [
            0,
            "#440154"
           ],
           [
            0.1111111111111111,
            "#482878"
           ],
           [
            0.2222222222222222,
            "#3e4989"
           ],
           [
            0.3333333333333333,
            "#31688e"
           ],
           [
            0.4444444444444444,
            "#26828e"
           ],
           [
            0.5555555555555556,
            "#1f9e89"
           ],
           [
            0.6666666666666666,
            "#35b779"
           ],
           [
            0.7777777777777778,
            "#6ece58"
           ],
           [
            0.8888888888888888,
            "#b5de2b"
           ],
           [
            1,
            "#fde725"
           ]
          ],
          "size": 3
         },
         "opacity": 1,
         "showlegend": false,
         "type": "scatter3d",
         "x": [
          45.25
         ],
         "y": [
          -328.37
         ],
         "z": [
          0
         ]
        },
        {
         "legendgroup": "group1",
         "line": {
          "width": 4
         },
         "marker": {
          "color": "red",
          "colorscale": [
           [
            0,
            "#440154"
           ],
           [
            0.1111111111111111,
            "#482878"
           ],
           [
            0.2222222222222222,
            "#3e4989"
           ],
           [
            0.3333333333333333,
            "#31688e"
           ],
           [
            0.4444444444444444,
            "#26828e"
           ],
           [
            0.5555555555555556,
            "#1f9e89"
           ],
           [
            0.6666666666666666,
            "#35b779"
           ],
           [
            0.7777777777777778,
            "#6ece58"
           ],
           [
            0.8888888888888888,
            "#b5de2b"
           ],
           [
            1,
            "#fde725"
           ]
          ],
          "size": 1
         },
         "opacity": 1,
         "showlegend": false,
         "type": "scatter3d",
         "x": [
          45.25,
          114.53203230275508
         ],
         "y": [
          -328.37,
          -288.37
         ],
         "z": [
          0,
          -4.898587196589413e-15
         ]
        },
        {
         "legendgroup": "group1",
         "line": {
          "width": 4
         },
         "marker": {
          "color": "green",
          "colorscale": [
           [
            0,
            "#440154"
           ],
           [
            0.1111111111111111,
            "#482878"
           ],
           [
            0.2222222222222222,
            "#3e4989"
           ],
           [
            0.3333333333333333,
            "#31688e"
           ],
           [
            0.4444444444444444,
            "#26828e"
           ],
           [
            0.5555555555555556,
            "#1f9e89"
           ],
           [
            0.6666666666666666,
            "#35b779"
           ],
           [
            0.7777777777777778,
            "#6ece58"
           ],
           [
            0.8888888888888888,
            "#b5de2b"
           ],
           [
            1,
            "#fde725"
           ]
          ],
          "size": 1
         },
         "opacity": 1,
         "showlegend": false,
         "type": "scatter3d",
         "x": [
          45.25,
          45.25
         ],
         "y": [
          -328.37,
          -328.37
         ],
         "z": [
          0,
          80
         ]
        },
        {
         "legendgroup": "group1",
         "line": {
          "width": 4
         },
         "marker": {
          "color": "blue",
          "colorscale": [
           [
            0,
            "#440154"
           ],
           [
            0.1111111111111111,
            "#482878"
           ],
           [
            0.2222222222222222,
            "#3e4989"
           ],
           [
            0.3333333333333333,
            "#31688e"
           ],
           [
            0.4444444444444444,
            "#26828e"
           ],
           [
            0.5555555555555556,
            "#1f9e89"
           ],
           [
            0.6666666666666666,
            "#35b779"
           ],
           [
            0.7777777777777778,
            "#6ece58"
           ],
           [
            0.8888888888888888,
            "#b5de2b"
           ],
           [
            1,
            "#fde725"
           ]
          ],
          "size": 1
         },
         "opacity": 1,
         "showlegend": false,
         "type": "scatter3d",
         "x": [
          45.25,
          85.25
         ],
         "y": [
          -328.37,
          -397.65203230275506
         ],
         "z": [
          0,
          4.898587196589413e-15
         ]
        },
        {
         "legendgroup": "group1",
         "marker": {
          "color": "gray",
          "colorscale": [
           [
            0,
            "#440154"
           ],
           [
            0.1111111111111111,
            "#482878"
           ],
           [
            0.2222222222222222,
            "#3e4989"
           ],
           [
            0.3333333333333333,
            "#31688e"
           ],
           [
            0.4444444444444444,
            "#26828e"
           ],
           [
            0.5555555555555556,
            "#1f9e89"
           ],
           [
            0.6666666666666666,
            "#35b779"
           ],
           [
            0.7777777777777778,
            "#6ece58"
           ],
           [
            0.8888888888888888,
            "#b5de2b"
           ],
           [
            1,
            "#fde725"
           ]
          ],
          "size": 3
         },
         "opacity": 1,
         "showlegend": false,
         "type": "scatter3d",
         "x": [
          101.54
         ],
         "y": [
          -295.87
         ],
         "z": [
          300
         ]
        },
        {
         "legendgroup": "group1",
         "line": {
          "width": 4
         },
         "marker": {
          "color": "red",
          "colorscale": [
           [
            0,
            "#440154"
           ],
           [
            0.1111111111111111,
            "#482878"
           ],
           [
            0.2222222222222222,
            "#3e4989"
           ],
           [
            0.3333333333333333,
            "#31688e"
           ],
           [
            0.4444444444444444,
            "#26828e"
           ],
           [
            0.5555555555555556,
            "#1f9e89"
           ],
           [
            0.6666666666666666,
            "#35b779"
           ],
           [
            0.7777777777777778,
            "#6ece58"
           ],
           [
            0.8888888888888888,
            "#b5de2b"
           ],
           [
            1,
            "#fde725"
           ]
          ],
          "size": 1
         },
         "opacity": 1,
         "showlegend": false,
         "type": "scatter3d",
         "x": [
          101.54,
          33.893906730252496
         ],
         "y": [
          -295.87,
          -334.9254901589153
         ],
         "z": [
          300,
          282.71779083023546
         ]
        },
        {
         "legendgroup": "group1",
         "line": {
          "width": 4
         },
         "marker": {
          "color": "green",
          "colorscale": [
           [
            0,
            "#440154"
           ],
           [
            0.1111111111111111,
            "#482878"
           ],
           [
            0.2222222222222222,
            "#3e4989"
           ],
           [
            0.3333333333333333,
            "#31688e"
           ],
           [
            0.4444444444444444,
            "#26828e"
           ],
           [
            0.5555555555555556,
            "#1f9e89"
           ],
           [
            0.6666666666666666,
            "#35b779"
           ],
           [
            0.7777777777777778,
            "#6ece58"
           ],
           [
            0.8888888888888888,
            "#b5de2b"
           ],
           [
            1,
            "#fde725"
           ]
          ],
          "size": 1
         },
         "opacity": 1,
         "showlegend": false,
         "type": "scatter3d",
         "x": [
          101.54,
          116.50683217453246
         ],
         "y": [
          -295.87,
          -287.22889541511773
         ],
         "z": [
          300,
          221.88901968216948
         ]
        },
        {
         "legendgroup": "group1",
         "line": {
          "width": 4
         },
         "marker": {
          "color": "blue",
          "colorscale": [
           [
            0,
            "#440154"
           ],
           [
            0.1111111111111111,
            "#482878"
           ],
           [
            0.2222222222222222,
            "#3e4989"
           ],
           [
            0.3333333333333333,
            "#31688e"
           ],
           [
            0.4444444444444444,
            "#26828e"
           ],
           [
            0.5555555555555556,
            "#1f9e89"
           ],
           [
            0.6666666666666666,
            "#35b779"
           ],
           [
            0.7777777777777778,
            "#6ece58"
           ],
           [
            0.8888888888888888,
            "#b5de2b"
           ],
           [
            1,
            "#fde725"
           ]
          ],
          "size": 1
         },
         "opacity": 1,
         "showlegend": false,
         "type": "scatter3d",
         "x": [
          101.54,
          141.54000000000002
         ],
         "y": [
          -295.87,
          -365.15203230275506
         ],
         "z": [
          300,
          300
         ]
        },
        {
         "legendgroup": "group1",
         "marker": {
          "color": "gray",
          "colorscale": [
           [
            0,
            "#440154"
           ],
           [
            0.1111111111111111,
            "#482878"
           ],
           [
            0.2222222222222222,
            "#3e4989"
           ],
           [
            0.3333333333333333,
            "#31688e"
           ],
           [
            0.4444444444444444,
            "#26828e"
           ],
           [
            0.5555555555555556,
            "#1f9e89"
           ],
           [
            0.6666666666666666,
            "#35b779"
           ],
           [
            0.7777777777777778,
            "#6ece58"
           ],
           [
            0.8888888888888888,
            "#b5de2b"
           ],
           [
            1,
            "#fde725"
           ]
          ],
          "size": 3
         },
         "opacity": 1,
         "showlegend": false,
         "type": "scatter3d",
         "x": [
          157.66603346578137
         ],
         "y": [
          -263.46657281730114
         ],
         "z": [
          7.083823809244839
         ]
        },
        {
         "legendgroup": "group1",
         "line": {
          "width": 4
         },
         "marker": {
          "color": "red",
          "colorscale": [
           [
            0,
            "#440154"
           ],
           [
            0.1111111111111111,
            "#482878"
           ],
           [
            0.2222222222222222,
            "#3e4989"
           ],
           [
            0.3333333333333333,
            "#31688e"
           ],
           [
            0.4444444444444444,
            "#26828e"
           ],
           [
            0.5555555555555556,
            "#1f9e89"
           ],
           [
            0.6666666666666666,
            "#35b779"
           ],
           [
            0.7777777777777778,
            "#6ece58"
           ],
           [
            0.8888888888888888,
            "#b5de2b"
           ],
           [
            1,
            "#fde725"
           ]
          ],
          "size": 1
         },
         "opacity": 1,
         "showlegend": false,
         "type": "scatter3d",
         "x": [
          157.66603346578137,
          142.6992012912489
         ],
         "y": [
          -263.46657281730114,
          -272.1076774021834
         ],
         "z": [
          7.083823809244839,
          85.19480412707534
         ]
        },
        {
         "legendgroup": "group1",
         "line": {
          "width": 4
         },
         "marker": {
          "color": "green",
          "colorscale": [
           [
            0,
            "#440154"
           ],
           [
            0.1111111111111111,
            "#482878"
           ],
           [
            0.2222222222222222,
            "#3e4989"
           ],
           [
            0.3333333333333333,
            "#31688e"
           ],
           [
            0.4444444444444444,
            "#26828e"
           ],
           [
            0.5555555555555556,
            "#1f9e89"
           ],
           [
            0.6666666666666666,
            "#35b779"
           ],
           [
            0.7777777777777778,
            "#6ece58"
           ],
           [
            0.8888888888888888,
            "#b5de2b"
           ],
           [
            1,
            "#fde725"
           ]
          ],
          "size": 1
         },
         "opacity": 1,
         "showlegend": false,
         "type": "scatter3d",
         "x": [
          157.66603346578137,
          90.01994019603386
         ],
         "y": [
          -263.46657281730114,
          -302.5220629762164
         ],
         "z": [
          7.083823809244839,
          -10.198385360519717
         ]
        },
        {
         "legendgroup": "group1",
         "line": {
          "width": 4
         },
         "marker": {
          "color": "blue",
          "colorscale": [
           [
            0,
            "#440154"
           ],
           [
            0.1111111111111111,
            "#482878"
           ],
           [
            0.2222222222222222,
            "#3e4989"
           ],
           [
            0.3333333333333333,
            "#31688e"
           ],
           [
            0.4444444444444444,
            "#26828e"
           ],
           [
            0.5555555555555556,
            "#1f9e89"
           ],
           [
            0.6666666666666666,
            "#35b779"
           ],
           [
            0.7777777777777778,
            "#6ece58"
           ],
           [
            0.8888888888888888,
            "#b5de2b"
           ],
           [
            1,
            "#fde725"
           ]
          ],
          "size": 1
         },
         "opacity": 1,
         "showlegend": false,
         "type": "scatter3d",
         "x": [
          157.66603346578137,
          197.66603346578137
         ],
         "y": [
          -263.46657281730114,
          -332.74860512005625
         ],
         "z": [
          7.083823809244839,
          7.083823809244844
         ]
        },
        {
         "legendgroup": "group2",
         "line": {
          "width": 2
         },
         "marker": {
          "color": "brown",
          "colorscale": [
           [
            0,
            "#440154"
           ],
           [
            0.1111111111111111,
            "#482878"
           ],
           [
            0.2222222222222222,
            "#3e4989"
           ],
           [
            0.3333333333333333,
            "#31688e"
           ],
           [
            0.4444444444444444,
            "#26828e"
           ],
           [
            0.5555555555555556,
            "#1f9e89"
           ],
           [
            0.6666666666666666,
            "#35b779"
           ],
           [
            0.7777777777777778,
            "#6ece58"
           ],
           [
            0.8888888888888888,
            "#b5de2b"
           ],
           [
            1,
            "#fde725"
           ]
          ],
          "size": 5
         },
         "name": "Рычаг (81.96) - Тяга 3 (-0.0; 0.0)",
         "opacity": 1,
         "showlegend": true,
         "type": "scatter3d",
         "x": [
          261.75,
          149.3339665342186
         ],
         "y": [
          -203.37,
          -268.2734271826988
         ],
         "z": [
          0,
          7.083823809244845
         ]
        },
        {
         "legendgroup": "group2",
         "line": {
          "width": 2
         },
         "marker": {
          "color": "brown",
          "colorscale": [
           [
            0,
            "#440154"
           ],
           [
            0.1111111111111111,
            "#482878"
           ],
           [
            0.2222222222222222,
            "#3e4989"
           ],
           [
            0.3333333333333333,
            "#31688e"
           ],
           [
            0.4444444444444444,
            "#26828e"
           ],
           [
            0.5555555555555556,
            "#1f9e89"
           ],
           [
            0.6666666666666666,
            "#35b779"
           ],
           [
            0.7777777777777778,
            "#6ece58"
           ],
           [
            0.8888888888888888,
            "#b5de2b"
           ],
           [
            1,
            "#fde725"
           ]
          ],
          "size": 5
         },
         "opacity": 1,
         "showlegend": false,
         "type": "scatter3d",
         "x": [
          149.3339665342186,
          205.46
         ],
         "y": [
          -268.2734271826988,
          -235.87
         ],
         "z": [
          7.083823809244845,
          300
         ]
        },
        {
         "legendgroup": "group2",
         "marker": {
          "color": "gray",
          "colorscale": [
           [
            0,
            "#440154"
           ],
           [
            0.1111111111111111,
            "#482878"
           ],
           [
            0.2222222222222222,
            "#3e4989"
           ],
           [
            0.3333333333333333,
            "#31688e"
           ],
           [
            0.4444444444444444,
            "#26828e"
           ],
           [
            0.5555555555555556,
            "#1f9e89"
           ],
           [
            0.6666666666666666,
            "#35b779"
           ],
           [
            0.7777777777777778,
            "#6ece58"
           ],
           [
            0.8888888888888888,
            "#b5de2b"
           ],
           [
            1,
            "#fde725"
           ]
          ],
          "size": 3
         },
         "opacity": 1,
         "showlegend": false,
         "type": "scatter3d",
         "x": [
          261.75
         ],
         "y": [
          -203.37
         ],
         "z": [
          0
         ]
        },
        {
         "legendgroup": "group2",
         "line": {
          "width": 4
         },
         "marker": {
          "color": "red",
          "colorscale": [
           [
            0,
            "#440154"
           ],
           [
            0.1111111111111111,
            "#482878"
           ],
           [
            0.2222222222222222,
            "#3e4989"
           ],
           [
            0.3333333333333333,
            "#31688e"
           ],
           [
            0.4444444444444444,
            "#26828e"
           ],
           [
            0.5555555555555556,
            "#1f9e89"
           ],
           [
            0.6666666666666666,
            "#35b779"
           ],
           [
            0.7777777777777778,
            "#6ece58"
           ],
           [
            0.8888888888888888,
            "#b5de2b"
           ],
           [
            1,
            "#fde725"
           ]
          ],
          "size": 1
         },
         "opacity": 1,
         "showlegend": false,
         "type": "scatter3d",
         "x": [
          261.75,
          192.4679676972449
         ],
         "y": [
          -203.37,
          -243.37
         ],
         "z": [
          0,
          -4.898587196589413e-15
         ]
        },
        {
         "legendgroup": "group2",
         "line": {
          "width": 4
         },
         "marker": {
          "color": "green",
          "colorscale": [
           [
            0,
            "#440154"
           ],
           [
            0.1111111111111111,
            "#482878"
           ],
           [
            0.2222222222222222,
            "#3e4989"
           ],
           [
            0.3333333333333333,
            "#31688e"
           ],
           [
            0.4444444444444444,
            "#26828e"
           ],
           [
            0.5555555555555556,
            "#1f9e89"
           ],
           [
            0.6666666666666666,
            "#35b779"
           ],
           [
            0.7777777777777778,
            "#6ece58"
           ],
           [
            0.8888888888888888,
            "#b5de2b"
           ],
           [
            1,
            "#fde725"
           ]
          ],
          "size": 1
         },
         "opacity": 1,
         "showlegend": false,
         "type": "scatter3d",
         "x": [
          261.75,
          261.75
         ],
         "y": [
          -203.37,
          -203.37
         ],
         "z": [
          0,
          80
         ]
        },
        {
         "legendgroup": "group2",
         "line": {
          "width": 4
         },
         "marker": {
          "color": "blue",
          "colorscale": [
           [
            0,
            "#440154"
           ],
           [
            0.1111111111111111,
            "#482878"
           ],
           [
            0.2222222222222222,
            "#3e4989"
           ],
           [
            0.3333333333333333,
            "#31688e"
           ],
           [
            0.4444444444444444,
            "#26828e"
           ],
           [
            0.5555555555555556,
            "#1f9e89"
           ],
           [
            0.6666666666666666,
            "#35b779"
           ],
           [
            0.7777777777777778,
            "#6ece58"
           ],
           [
            0.8888888888888888,
            "#b5de2b"
           ],
           [
            1,
            "#fde725"
           ]
          ],
          "size": 1
         },
         "opacity": 1,
         "showlegend": false,
         "type": "scatter3d",
         "x": [
          261.75,
          221.75
         ],
         "y": [
          -203.37,
          -134.0879676972449
         ],
         "z": [
          0,
          4.898587196589413e-15
         ]
        },
        {
         "legendgroup": "group2",
         "marker": {
          "color": "gray",
          "colorscale": [
           [
            0,
            "#440154"
           ],
           [
            0.1111111111111111,
            "#482878"
           ],
           [
            0.2222222222222222,
            "#3e4989"
           ],
           [
            0.3333333333333333,
            "#31688e"
           ],
           [
            0.4444444444444444,
            "#26828e"
           ],
           [
            0.5555555555555556,
            "#1f9e89"
           ],
           [
            0.6666666666666666,
            "#35b779"
           ],
           [
            0.7777777777777778,
            "#6ece58"
           ],
           [
            0.8888888888888888,
            "#b5de2b"
           ],
           [
            1,
            "#fde725"
           ]
          ],
          "size": 3
         },
         "opacity": 1,
         "showlegend": false,
         "type": "scatter3d",
         "x": [
          205.46
         ],
         "y": [
          -235.87
         ],
         "z": [
          300
         ]
        },
        {
         "legendgroup": "group2",
         "line": {
          "width": 4
         },
         "marker": {
          "color": "red",
          "colorscale": [
           [
            0,
            "#440154"
           ],
           [
            0.1111111111111111,
            "#482878"
           ],
           [
            0.2222222222222222,
            "#3e4989"
           ],
           [
            0.3333333333333333,
            "#31688e"
           ],
           [
            0.4444444444444444,
            "#26828e"
           ],
           [
            0.5555555555555556,
            "#1f9e89"
           ],
           [
            0.6666666666666666,
            "#35b779"
           ],
           [
            0.7777777777777778,
            "#6ece58"
           ],
           [
            0.8888888888888888,
            "#b5de2b"
           ],
           [
            1,
            "#fde725"
           ]
          ],
          "size": 1
         },
         "opacity": 1,
         "showlegend": false,
         "type": "scatter3d",
         "x": [
          205.46,
          273.10609326974753
         ],
         "y": [
          -235.87,
          -196.81450984108477
         ],
         "z": [
          300,
          282.71779083023546
         ]
        },
        {
         "legendgroup": "group2",
         "line": {
          "width": 4
         },
         "marker": {
          "color": "green",
          "colorscale": [
           [
            0,
            "#440154"
           ],
           [
            0.1111111111111111,
            "#482878"
           ],
           [
            0.2222222222222222,
            "#3e4989"
           ],
           [
            0.3333333333333333,
            "#31688e"
           ],
           [
            0.4444444444444444,
            "#26828e"
           ],
           [
            0.5555555555555556,
            "#1f9e89"
           ],
           [
            0.6666666666666666,
            "#35b779"
           ],
           [
            0.7777777777777778,
            "#6ece58"
           ],
           [
            0.8888888888888888,
            "#b5de2b"
           ],
           [
            1,
            "#fde725"
           ]
          ],
          "size": 1
         },
         "opacity": 1,
         "showlegend": false,
         "type": "scatter3d",
         "x": [
          205.46,
          190.49316782546754
         ],
         "y": [
          -235.87,
          -244.51110458488228
         ],
         "z": [
          300,
          221.88901968216948
         ]
        },
        {
         "legendgroup": "group2",
         "line": {
          "width": 4
         },
         "marker": {
          "color": "blue",
          "colorscale": [
           [
            0,
            "#440154"
           ],
           [
            0.1111111111111111,
            "#482878"
           ],
           [
            0.2222222222222222,
            "#3e4989"
           ],
           [
            0.3333333333333333,
            "#31688e"
           ],
           [
            0.4444444444444444,
            "#26828e"
           ],
           [
            0.5555555555555556,
            "#1f9e89"
           ],
           [
            0.6666666666666666,
            "#35b779"
           ],
           [
            0.7777777777777778,
            "#6ece58"
           ],
           [
            0.8888888888888888,
            "#b5de2b"
           ],
           [
            1,
            "#fde725"
           ]
          ],
          "size": 1
         },
         "opacity": 1,
         "showlegend": false,
         "type": "scatter3d",
         "x": [
          205.46,
          165.46000000000004
         ],
         "y": [
          -235.87,
          -166.5879676972449
         ],
         "z": [
          300,
          300
         ]
        },
        {
         "legendgroup": "group2",
         "marker": {
          "color": "gray",
          "colorscale": [
           [
            0,
            "#440154"
           ],
           [
            0.1111111111111111,
            "#482878"
           ],
           [
            0.2222222222222222,
            "#3e4989"
           ],
           [
            0.3333333333333333,
            "#31688e"
           ],
           [
            0.4444444444444444,
            "#26828e"
           ],
           [
            0.5555555555555556,
            "#1f9e89"
           ],
           [
            0.6666666666666666,
            "#35b779"
           ],
           [
            0.7777777777777778,
            "#6ece58"
           ],
           [
            0.8888888888888888,
            "#b5de2b"
           ],
           [
            1,
            "#fde725"
           ]
          ],
          "size": 3
         },
         "opacity": 1,
         "showlegend": false,
         "type": "scatter3d",
         "x": [
          149.3339665342186
         ],
         "y": [
          -268.2734271826988
         ],
         "z": [
          7.083823809244845
         ]
        },
        {
         "legendgroup": "group2",
         "line": {
          "width": 4
         },
         "marker": {
          "color": "red",
          "colorscale": [
           [
            0,
            "#440154"
           ],
           [
            0.1111111111111111,
            "#482878"
           ],
           [
            0.2222222222222222,
            "#3e4989"
           ],
           [
            0.3333333333333333,
            "#31688e"
           ],
           [
            0.4444444444444444,
            "#26828e"
           ],
           [
            0.5555555555555556,
            "#1f9e89"
           ],
           [
            0.6666666666666666,
            "#35b779"
           ],
           [
            0.7777777777777778,
            "#6ece58"
           ],
           [
            0.8888888888888888,
            "#b5de2b"
           ],
           [
            1,
            "#fde725"
           ]
          ],
          "size": 1
         },
         "opacity": 1,
         "showlegend": false,
         "type": "scatter3d",
         "x": [
          149.3339665342186,
          164.30079870875107
         ],
         "y": [
          -268.2734271826988,
          -259.63232259781654
         ],
         "z": [
          7.083823809244845,
          85.19480412707536
         ]
        },
        {
         "legendgroup": "group2",
         "line": {
          "width": 4
         },
         "marker": {
          "color": "green",
          "colorscale": [
           [
            0,
            "#440154"
           ],
           [
            0.1111111111111111,
            "#482878"
           ],
           [
            0.2222222222222222,
            "#3e4989"
           ],
           [
            0.3333333333333333,
            "#31688e"
           ],
           [
            0.4444444444444444,
            "#26828e"
           ],
           [
            0.5555555555555556,
            "#1f9e89"
           ],
           [
            0.6666666666666666,
            "#35b779"
           ],
           [
            0.7777777777777778,
            "#6ece58"
           ],
           [
            0.8888888888888888,
            "#b5de2b"
           ],
           [
            1,
            "#fde725"
           ]
          ],
          "size": 1
         },
         "opacity": 1,
         "showlegend": false,
         "type": "scatter3d",
         "x": [
          149.3339665342186,
          216.98005980396613
         ],
         "y": [
          -268.2734271826988,
          -229.21793702378358
         ],
         "z": [
          7.083823809244845,
          -10.198385360519712
         ]
        },
        {
         "legendgroup": "group2",
         "line": {
          "width": 4
         },
         "marker": {
          "color": "blue",
          "colorscale": [
           [
            0,
            "#440154"
           ],
           [
            0.1111111111111111,
            "#482878"
           ],
           [
            0.2222222222222222,
            "#3e4989"
           ],
           [
            0.3333333333333333,
            "#31688e"
           ],
           [
            0.4444444444444444,
            "#26828e"
           ],
           [
            0.5555555555555556,
            "#1f9e89"
           ],
           [
            0.6666666666666666,
            "#35b779"
           ],
           [
            0.7777777777777778,
            "#6ece58"
           ],
           [
            0.8888888888888888,
            "#b5de2b"
           ],
           [
            1,
            "#fde725"
           ]
          ],
          "size": 1
         },
         "opacity": 1,
         "showlegend": false,
         "type": "scatter3d",
         "x": [
          149.3339665342186,
          109.33396653421862
         ],
         "y": [
          -268.2734271826988,
          -198.9913948799437
         ],
         "z": [
          7.083823809244845,
          7.0838238092448504
         ]
        },
        {
         "legendgroup": "group3",
         "line": {
          "width": 2
         },
         "marker": {
          "color": "green",
          "colorscale": [
           [
            0,
            "#440154"
           ],
           [
            0.1111111111111111,
            "#482878"
           ],
           [
            0.2222222222222222,
            "#3e4989"
           ],
           [
            0.3333333333333333,
            "#31688e"
           ],
           [
            0.4444444444444444,
            "#26828e"
           ],
           [
            0.5555555555555556,
            "#1f9e89"
           ],
           [
            0.6666666666666666,
            "#35b779"
           ],
           [
            0.7777777777777778,
            "#6ece58"
           ],
           [
            0.8888888888888888,
            "#b5de2b"
           ],
           [
            1,
            "#fde725"
           ]
          ],
          "size": 5
         },
         "name": "Рычаг (81.96) - Тяга 4 (0.0; -0.0)",
         "opacity": 1,
         "showlegend": true,
         "type": "scatter3d",
         "x": [
          261.75,
          149.33396653421863
         ],
         "y": [
          203.37,
          268.27342718269887
         ],
         "z": [
          0,
          7.083823809244839
         ]
        },
        {
         "legendgroup": "group3",
         "line": {
          "width": 2
         },
         "marker": {
          "color": "green",
          "colorscale": [
           [
            0,
            "#440154"
           ],
           [
            0.1111111111111111,
            "#482878"
           ],
           [
            0.2222222222222222,
            "#3e4989"
           ],
           [
            0.3333333333333333,
            "#31688e"
           ],
           [
            0.4444444444444444,
            "#26828e"
           ],
           [
            0.5555555555555556,
            "#1f9e89"
           ],
           [
            0.6666666666666666,
            "#35b779"
           ],
           [
            0.7777777777777778,
            "#6ece58"
           ],
           [
            0.8888888888888888,
            "#b5de2b"
           ],
           [
            1,
            "#fde725"
           ]
          ],
          "size": 5
         },
         "opacity": 1,
         "showlegend": false,
         "type": "scatter3d",
         "x": [
          149.33396653421863,
          205.46
         ],
         "y": [
          268.27342718269887,
          235.87
         ],
         "z": [
          7.083823809244839,
          300
         ]
        },
        {
         "legendgroup": "group3",
         "marker": {
          "color": "gray",
          "colorscale": [
           [
            0,
            "#440154"
           ],
           [
            0.1111111111111111,
            "#482878"
           ],
           [
            0.2222222222222222,
            "#3e4989"
           ],
           [
            0.3333333333333333,
            "#31688e"
           ],
           [
            0.4444444444444444,
            "#26828e"
           ],
           [
            0.5555555555555556,
            "#1f9e89"
           ],
           [
            0.6666666666666666,
            "#35b779"
           ],
           [
            0.7777777777777778,
            "#6ece58"
           ],
           [
            0.8888888888888888,
            "#b5de2b"
           ],
           [
            1,
            "#fde725"
           ]
          ],
          "size": 3
         },
         "opacity": 1,
         "showlegend": false,
         "type": "scatter3d",
         "x": [
          261.75
         ],
         "y": [
          203.37
         ],
         "z": [
          0
         ]
        },
        {
         "legendgroup": "group3",
         "line": {
          "width": 4
         },
         "marker": {
          "color": "red",
          "colorscale": [
           [
            0,
            "#440154"
           ],
           [
            0.1111111111111111,
            "#482878"
           ],
           [
            0.2222222222222222,
            "#3e4989"
           ],
           [
            0.3333333333333333,
            "#31688e"
           ],
           [
            0.4444444444444444,
            "#26828e"
           ],
           [
            0.5555555555555556,
            "#1f9e89"
           ],
           [
            0.6666666666666666,
            "#35b779"
           ],
           [
            0.7777777777777778,
            "#6ece58"
           ],
           [
            0.8888888888888888,
            "#b5de2b"
           ],
           [
            1,
            "#fde725"
           ]
          ],
          "size": 1
         },
         "opacity": 1,
         "showlegend": false,
         "type": "scatter3d",
         "x": [
          261.75,
          192.46796769724492
         ],
         "y": [
          203.37,
          243.37
         ],
         "z": [
          0,
          -4.898587196589413e-15
         ]
        },
        {
         "legendgroup": "group3",
         "line": {
          "width": 4
         },
         "marker": {
          "color": "green",
          "colorscale": [
           [
            0,
            "#440154"
           ],
           [
            0.1111111111111111,
            "#482878"
           ],
           [
            0.2222222222222222,
            "#3e4989"
           ],
           [
            0.3333333333333333,
            "#31688e"
           ],
           [
            0.4444444444444444,
            "#26828e"
           ],
           [
            0.5555555555555556,
            "#1f9e89"
           ],
           [
            0.6666666666666666,
            "#35b779"
           ],
           [
            0.7777777777777778,
            "#6ece58"
           ],
           [
            0.8888888888888888,
            "#b5de2b"
           ],
           [
            1,
            "#fde725"
           ]
          ],
          "size": 1
         },
         "opacity": 1,
         "showlegend": false,
         "type": "scatter3d",
         "x": [
          261.75,
          261.75
         ],
         "y": [
          203.37,
          203.37
         ],
         "z": [
          0,
          80
         ]
        },
        {
         "legendgroup": "group3",
         "line": {
          "width": 4
         },
         "marker": {
          "color": "blue",
          "colorscale": [
           [
            0,
            "#440154"
           ],
           [
            0.1111111111111111,
            "#482878"
           ],
           [
            0.2222222222222222,
            "#3e4989"
           ],
           [
            0.3333333333333333,
            "#31688e"
           ],
           [
            0.4444444444444444,
            "#26828e"
           ],
           [
            0.5555555555555556,
            "#1f9e89"
           ],
           [
            0.6666666666666666,
            "#35b779"
           ],
           [
            0.7777777777777778,
            "#6ece58"
           ],
           [
            0.8888888888888888,
            "#b5de2b"
           ],
           [
            1,
            "#fde725"
           ]
          ],
          "size": 1
         },
         "opacity": 1,
         "showlegend": false,
         "type": "scatter3d",
         "x": [
          261.75,
          301.75
         ],
         "y": [
          203.37,
          272.65203230275506
         ],
         "z": [
          0,
          4.898587196589413e-15
         ]
        },
        {
         "legendgroup": "group3",
         "marker": {
          "color": "gray",
          "colorscale": [
           [
            0,
            "#440154"
           ],
           [
            0.1111111111111111,
            "#482878"
           ],
           [
            0.2222222222222222,
            "#3e4989"
           ],
           [
            0.3333333333333333,
            "#31688e"
           ],
           [
            0.4444444444444444,
            "#26828e"
           ],
           [
            0.5555555555555556,
            "#1f9e89"
           ],
           [
            0.6666666666666666,
            "#35b779"
           ],
           [
            0.7777777777777778,
            "#6ece58"
           ],
           [
            0.8888888888888888,
            "#b5de2b"
           ],
           [
            1,
            "#fde725"
           ]
          ],
          "size": 3
         },
         "opacity": 1,
         "showlegend": false,
         "type": "scatter3d",
         "x": [
          205.46
         ],
         "y": [
          235.87
         ],
         "z": [
          300
         ]
        },
        {
         "legendgroup": "group3",
         "line": {
          "width": 4
         },
         "marker": {
          "color": "red",
          "colorscale": [
           [
            0,
            "#440154"
           ],
           [
            0.1111111111111111,
            "#482878"
           ],
           [
            0.2222222222222222,
            "#3e4989"
           ],
           [
            0.3333333333333333,
            "#31688e"
           ],
           [
            0.4444444444444444,
            "#26828e"
           ],
           [
            0.5555555555555556,
            "#1f9e89"
           ],
           [
            0.6666666666666666,
            "#35b779"
           ],
           [
            0.7777777777777778,
            "#6ece58"
           ],
           [
            0.8888888888888888,
            "#b5de2b"
           ],
           [
            1,
            "#fde725"
           ]
          ],
          "size": 1
         },
         "opacity": 1,
         "showlegend": false,
         "type": "scatter3d",
         "x": [
          205.46,
          273.10609326974753
         ],
         "y": [
          235.87,
          196.81450984108474
         ],
         "z": [
          300,
          282.71779083023546
         ]
        },
        {
         "legendgroup": "group3",
         "line": {
          "width": 4
         },
         "marker": {
          "color": "green",
          "colorscale": [
           [
            0,
            "#440154"
           ],
           [
            0.1111111111111111,
            "#482878"
           ],
           [
            0.2222222222222222,
            "#3e4989"
           ],
           [
            0.3333333333333333,
            "#31688e"
           ],
           [
            0.4444444444444444,
            "#26828e"
           ],
           [
            0.5555555555555556,
            "#1f9e89"
           ],
           [
            0.6666666666666666,
            "#35b779"
           ],
           [
            0.7777777777777778,
            "#6ece58"
           ],
           [
            0.8888888888888888,
            "#b5de2b"
           ],
           [
            1,
            "#fde725"
           ]
          ],
          "size": 1
         },
         "opacity": 1,
         "showlegend": false,
         "type": "scatter3d",
         "x": [
          205.46,
          190.4931678254675
         ],
         "y": [
          235.87,
          244.5111045848823
         ],
         "z": [
          300,
          221.88901968216948
         ]
        },
        {
         "legendgroup": "group3",
         "line": {
          "width": 4
         },
         "marker": {
          "color": "blue",
          "colorscale": [
           [
            0,
            "#440154"
           ],
           [
            0.1111111111111111,
            "#482878"
           ],
           [
            0.2222222222222222,
            "#3e4989"
           ],
           [
            0.3333333333333333,
            "#31688e"
           ],
           [
            0.4444444444444444,
            "#26828e"
           ],
           [
            0.5555555555555556,
            "#1f9e89"
           ],
           [
            0.6666666666666666,
            "#35b779"
           ],
           [
            0.7777777777777778,
            "#6ece58"
           ],
           [
            0.8888888888888888,
            "#b5de2b"
           ],
           [
            1,
            "#fde725"
           ]
          ],
          "size": 1
         },
         "opacity": 1,
         "showlegend": false,
         "type": "scatter3d",
         "x": [
          205.46,
          245.46
         ],
         "y": [
          235.87,
          305.15203230275506
         ],
         "z": [
          300,
          300
         ]
        },
        {
         "legendgroup": "group3",
         "marker": {
          "color": "gray",
          "colorscale": [
           [
            0,
            "#440154"
           ],
           [
            0.1111111111111111,
            "#482878"
           ],
           [
            0.2222222222222222,
            "#3e4989"
           ],
           [
            0.3333333333333333,
            "#31688e"
           ],
           [
            0.4444444444444444,
            "#26828e"
           ],
           [
            0.5555555555555556,
            "#1f9e89"
           ],
           [
            0.6666666666666666,
            "#35b779"
           ],
           [
            0.7777777777777778,
            "#6ece58"
           ],
           [
            0.8888888888888888,
            "#b5de2b"
           ],
           [
            1,
            "#fde725"
           ]
          ],
          "size": 3
         },
         "opacity": 1,
         "showlegend": false,
         "type": "scatter3d",
         "x": [
          149.33396653421863
         ],
         "y": [
          268.27342718269887
         ],
         "z": [
          7.083823809244839
         ]
        },
        {
         "legendgroup": "group3",
         "line": {
          "width": 4
         },
         "marker": {
          "color": "red",
          "colorscale": [
           [
            0,
            "#440154"
           ],
           [
            0.1111111111111111,
            "#482878"
           ],
           [
            0.2222222222222222,
            "#3e4989"
           ],
           [
            0.3333333333333333,
            "#31688e"
           ],
           [
            0.4444444444444444,
            "#26828e"
           ],
           [
            0.5555555555555556,
            "#1f9e89"
           ],
           [
            0.6666666666666666,
            "#35b779"
           ],
           [
            0.7777777777777778,
            "#6ece58"
           ],
           [
            0.8888888888888888,
            "#b5de2b"
           ],
           [
            1,
            "#fde725"
           ]
          ],
          "size": 1
         },
         "opacity": 1,
         "showlegend": false,
         "type": "scatter3d",
         "x": [
          149.33396653421863,
          164.3007987087511
         ],
         "y": [
          268.27342718269887,
          259.6323225978166
         ],
         "z": [
          7.083823809244839,
          85.19480412707534
         ]
        },
        {
         "legendgroup": "group3",
         "line": {
          "width": 4
         },
         "marker": {
          "color": "green",
          "colorscale": [
           [
            0,
            "#440154"
           ],
           [
            0.1111111111111111,
            "#482878"
           ],
           [
            0.2222222222222222,
            "#3e4989"
           ],
           [
            0.3333333333333333,
            "#31688e"
           ],
           [
            0.4444444444444444,
            "#26828e"
           ],
           [
            0.5555555555555556,
            "#1f9e89"
           ],
           [
            0.6666666666666666,
            "#35b779"
           ],
           [
            0.7777777777777778,
            "#6ece58"
           ],
           [
            0.8888888888888888,
            "#b5de2b"
           ],
           [
            1,
            "#fde725"
           ]
          ],
          "size": 1
         },
         "opacity": 1,
         "showlegend": false,
         "type": "scatter3d",
         "x": [
          149.33396653421863,
          216.98005980396613
         ],
         "y": [
          268.27342718269887,
          229.2179370237836
         ],
         "z": [
          7.083823809244839,
          -10.198385360519717
         ]
        },
        {
         "legendgroup": "group3",
         "line": {
          "width": 4
         },
         "marker": {
          "color": "blue",
          "colorscale": [
           [
            0,
            "#440154"
           ],
           [
            0.1111111111111111,
            "#482878"
           ],
           [
            0.2222222222222222,
            "#3e4989"
           ],
           [
            0.3333333333333333,
            "#31688e"
           ],
           [
            0.4444444444444444,
            "#26828e"
           ],
           [
            0.5555555555555556,
            "#1f9e89"
           ],
           [
            0.6666666666666666,
            "#35b779"
           ],
           [
            0.7777777777777778,
            "#6ece58"
           ],
           [
            0.8888888888888888,
            "#b5de2b"
           ],
           [
            1,
            "#fde725"
           ]
          ],
          "size": 1
         },
         "opacity": 1,
         "showlegend": false,
         "type": "scatter3d",
         "x": [
          149.33396653421863,
          189.33396653421863
         ],
         "y": [
          268.27342718269887,
          337.555459485454
         ],
         "z": [
          7.083823809244839,
          7.083823809244844
         ]
        },
        {
         "legendgroup": "group4",
         "line": {
          "width": 2
         },
         "marker": {
          "color": "orange",
          "colorscale": [
           [
            0,
            "#440154"
           ],
           [
            0.1111111111111111,
            "#482878"
           ],
           [
            0.2222222222222222,
            "#3e4989"
           ],
           [
            0.3333333333333333,
            "#31688e"
           ],
           [
            0.4444444444444444,
            "#26828e"
           ],
           [
            0.5555555555555556,
            "#1f9e89"
           ],
           [
            0.6666666666666666,
            "#35b779"
           ],
           [
            0.7777777777777778,
            "#6ece58"
           ],
           [
            0.8888888888888888,
            "#b5de2b"
           ],
           [
            1,
            "#fde725"
           ]
          ],
          "size": 5
         },
         "name": "Рычаг (81.96) - Тяга 5 (0.0; -0.0)",
         "opacity": 1,
         "showlegend": true,
         "type": "scatter3d",
         "x": [
          45.25,
          157.6660334657814
         ],
         "y": [
          328.37,
          263.4665728173012
         ],
         "z": [
          0,
          7.083823809244851
         ]
        },
        {
         "legendgroup": "group4",
         "line": {
          "width": 2
         },
         "marker": {
          "color": "orange",
          "colorscale": [
           [
            0,
            "#440154"
           ],
           [
            0.1111111111111111,
            "#482878"
           ],
           [
            0.2222222222222222,
            "#3e4989"
           ],
           [
            0.3333333333333333,
            "#31688e"
           ],
           [
            0.4444444444444444,
            "#26828e"
           ],
           [
            0.5555555555555556,
            "#1f9e89"
           ],
           [
            0.6666666666666666,
            "#35b779"
           ],
           [
            0.7777777777777778,
            "#6ece58"
           ],
           [
            0.8888888888888888,
            "#b5de2b"
           ],
           [
            1,
            "#fde725"
           ]
          ],
          "size": 5
         },
         "opacity": 1,
         "showlegend": false,
         "type": "scatter3d",
         "x": [
          157.6660334657814,
          101.54
         ],
         "y": [
          263.4665728173012,
          295.87
         ],
         "z": [
          7.083823809244851,
          300
         ]
        },
        {
         "legendgroup": "group4",
         "marker": {
          "color": "gray",
          "colorscale": [
           [
            0,
            "#440154"
           ],
           [
            0.1111111111111111,
            "#482878"
           ],
           [
            0.2222222222222222,
            "#3e4989"
           ],
           [
            0.3333333333333333,
            "#31688e"
           ],
           [
            0.4444444444444444,
            "#26828e"
           ],
           [
            0.5555555555555556,
            "#1f9e89"
           ],
           [
            0.6666666666666666,
            "#35b779"
           ],
           [
            0.7777777777777778,
            "#6ece58"
           ],
           [
            0.8888888888888888,
            "#b5de2b"
           ],
           [
            1,
            "#fde725"
           ]
          ],
          "size": 3
         },
         "opacity": 1,
         "showlegend": false,
         "type": "scatter3d",
         "x": [
          45.25
         ],
         "y": [
          328.37
         ],
         "z": [
          0
         ]
        },
        {
         "legendgroup": "group4",
         "line": {
          "width": 4
         },
         "marker": {
          "color": "red",
          "colorscale": [
           [
            0,
            "#440154"
           ],
           [
            0.1111111111111111,
            "#482878"
           ],
           [
            0.2222222222222222,
            "#3e4989"
           ],
           [
            0.3333333333333333,
            "#31688e"
           ],
           [
            0.4444444444444444,
            "#26828e"
           ],
           [
            0.5555555555555556,
            "#1f9e89"
           ],
           [
            0.6666666666666666,
            "#35b779"
           ],
           [
            0.7777777777777778,
            "#6ece58"
           ],
           [
            0.8888888888888888,
            "#b5de2b"
           ],
           [
            1,
            "#fde725"
           ]
          ],
          "size": 1
         },
         "opacity": 1,
         "showlegend": false,
         "type": "scatter3d",
         "x": [
          45.25,
          114.5320323027551
         ],
         "y": [
          328.37,
          288.37
         ],
         "z": [
          0,
          -4.898587196589413e-15
         ]
        },
        {
         "legendgroup": "group4",
         "line": {
          "width": 4
         },
         "marker": {
          "color": "green",
          "colorscale": [
           [
            0,
            "#440154"
           ],
           [
            0.1111111111111111,
            "#482878"
           ],
           [
            0.2222222222222222,
            "#3e4989"
           ],
           [
            0.3333333333333333,
            "#31688e"
           ],
           [
            0.4444444444444444,
            "#26828e"
           ],
           [
            0.5555555555555556,
            "#1f9e89"
           ],
           [
            0.6666666666666666,
            "#35b779"
           ],
           [
            0.7777777777777778,
            "#6ece58"
           ],
           [
            0.8888888888888888,
            "#b5de2b"
           ],
           [
            1,
            "#fde725"
           ]
          ],
          "size": 1
         },
         "opacity": 1,
         "showlegend": false,
         "type": "scatter3d",
         "x": [
          45.25,
          45.25000000000001
         ],
         "y": [
          328.37,
          328.37
         ],
         "z": [
          0,
          80
         ]
        },
        {
         "legendgroup": "group4",
         "line": {
          "width": 4
         },
         "marker": {
          "color": "blue",
          "colorscale": [
           [
            0,
            "#440154"
           ],
           [
            0.1111111111111111,
            "#482878"
           ],
           [
            0.2222222222222222,
            "#3e4989"
           ],
           [
            0.3333333333333333,
            "#31688e"
           ],
           [
            0.4444444444444444,
            "#26828e"
           ],
           [
            0.5555555555555556,
            "#1f9e89"
           ],
           [
            0.6666666666666666,
            "#35b779"
           ],
           [
            0.7777777777777778,
            "#6ece58"
           ],
           [
            0.8888888888888888,
            "#b5de2b"
           ],
           [
            1,
            "#fde725"
           ]
          ],
          "size": 1
         },
         "opacity": 1,
         "showlegend": false,
         "type": "scatter3d",
         "x": [
          45.25,
          5.250000000000014
         ],
         "y": [
          328.37,
          259.0879676972449
         ],
         "z": [
          0,
          4.898587196589413e-15
         ]
        },
        {
         "legendgroup": "group4",
         "marker": {
          "color": "gray",
          "colorscale": [
           [
            0,
            "#440154"
           ],
           [
            0.1111111111111111,
            "#482878"
           ],
           [
            0.2222222222222222,
            "#3e4989"
           ],
           [
            0.3333333333333333,
            "#31688e"
           ],
           [
            0.4444444444444444,
            "#26828e"
           ],
           [
            0.5555555555555556,
            "#1f9e89"
           ],
           [
            0.6666666666666666,
            "#35b779"
           ],
           [
            0.7777777777777778,
            "#6ece58"
           ],
           [
            0.8888888888888888,
            "#b5de2b"
           ],
           [
            1,
            "#fde725"
           ]
          ],
          "size": 3
         },
         "opacity": 1,
         "showlegend": false,
         "type": "scatter3d",
         "x": [
          101.54
         ],
         "y": [
          295.87
         ],
         "z": [
          300
         ]
        },
        {
         "legendgroup": "group4",
         "line": {
          "width": 4
         },
         "marker": {
          "color": "red",
          "colorscale": [
           [
            0,
            "#440154"
           ],
           [
            0.1111111111111111,
            "#482878"
           ],
           [
            0.2222222222222222,
            "#3e4989"
           ],
           [
            0.3333333333333333,
            "#31688e"
           ],
           [
            0.4444444444444444,
            "#26828e"
           ],
           [
            0.5555555555555556,
            "#1f9e89"
           ],
           [
            0.6666666666666666,
            "#35b779"
           ],
           [
            0.7777777777777778,
            "#6ece58"
           ],
           [
            0.8888888888888888,
            "#b5de2b"
           ],
           [
            1,
            "#fde725"
           ]
          ],
          "size": 1
         },
         "opacity": 1,
         "showlegend": false,
         "type": "scatter3d",
         "x": [
          101.54,
          33.893906730252496
         ],
         "y": [
          295.87,
          334.92549015891524
         ],
         "z": [
          300,
          282.71779083023546
         ]
        },
        {
         "legendgroup": "group4",
         "line": {
          "width": 4
         },
         "marker": {
          "color": "green",
          "colorscale": [
           [
            0,
            "#440154"
           ],
           [
            0.1111111111111111,
            "#482878"
           ],
           [
            0.2222222222222222,
            "#3e4989"
           ],
           [
            0.3333333333333333,
            "#31688e"
           ],
           [
            0.4444444444444444,
            "#26828e"
           ],
           [
            0.5555555555555556,
            "#1f9e89"
           ],
           [
            0.6666666666666666,
            "#35b779"
           ],
           [
            0.7777777777777778,
            "#6ece58"
           ],
           [
            0.8888888888888888,
            "#b5de2b"
           ],
           [
            1,
            "#fde725"
           ]
          ],
          "size": 1
         },
         "opacity": 1,
         "showlegend": false,
         "type": "scatter3d",
         "x": [
          101.54,
          116.50683217453249
         ],
         "y": [
          295.87,
          287.22889541511773
         ],
         "z": [
          300,
          221.88901968216948
         ]
        },
        {
         "legendgroup": "group4",
         "line": {
          "width": 4
         },
         "marker": {
          "color": "blue",
          "colorscale": [
           [
            0,
            "#440154"
           ],
           [
            0.1111111111111111,
            "#482878"
           ],
           [
            0.2222222222222222,
            "#3e4989"
           ],
           [
            0.3333333333333333,
            "#31688e"
           ],
           [
            0.4444444444444444,
            "#26828e"
           ],
           [
            0.5555555555555556,
            "#1f9e89"
           ],
           [
            0.6666666666666666,
            "#35b779"
           ],
           [
            0.7777777777777778,
            "#6ece58"
           ],
           [
            0.8888888888888888,
            "#b5de2b"
           ],
           [
            1,
            "#fde725"
           ]
          ],
          "size": 1
         },
         "opacity": 1,
         "showlegend": false,
         "type": "scatter3d",
         "x": [
          101.54,
          61.54000000000002
         ],
         "y": [
          295.87,
          226.5879676972449
         ],
         "z": [
          300,
          300
         ]
        },
        {
         "legendgroup": "group4",
         "marker": {
          "color": "gray",
          "colorscale": [
           [
            0,
            "#440154"
           ],
           [
            0.1111111111111111,
            "#482878"
           ],
           [
            0.2222222222222222,
            "#3e4989"
           ],
           [
            0.3333333333333333,
            "#31688e"
           ],
           [
            0.4444444444444444,
            "#26828e"
           ],
           [
            0.5555555555555556,
            "#1f9e89"
           ],
           [
            0.6666666666666666,
            "#35b779"
           ],
           [
            0.7777777777777778,
            "#6ece58"
           ],
           [
            0.8888888888888888,
            "#b5de2b"
           ],
           [
            1,
            "#fde725"
           ]
          ],
          "size": 3
         },
         "opacity": 1,
         "showlegend": false,
         "type": "scatter3d",
         "x": [
          157.6660334657814
         ],
         "y": [
          263.4665728173012
         ],
         "z": [
          7.083823809244851
         ]
        },
        {
         "legendgroup": "group4",
         "line": {
          "width": 4
         },
         "marker": {
          "color": "red",
          "colorscale": [
           [
            0,
            "#440154"
           ],
           [
            0.1111111111111111,
            "#482878"
           ],
           [
            0.2222222222222222,
            "#3e4989"
           ],
           [
            0.3333333333333333,
            "#31688e"
           ],
           [
            0.4444444444444444,
            "#26828e"
           ],
           [
            0.5555555555555556,
            "#1f9e89"
           ],
           [
            0.6666666666666666,
            "#35b779"
           ],
           [
            0.7777777777777778,
            "#6ece58"
           ],
           [
            0.8888888888888888,
            "#b5de2b"
           ],
           [
            1,
            "#fde725"
           ]
          ],
          "size": 1
         },
         "opacity": 1,
         "showlegend": false,
         "type": "scatter3d",
         "x": [
          157.6660334657814,
          142.69920129124893
         ],
         "y": [
          263.4665728173012,
          272.10767740218347
         ],
         "z": [
          7.083823809244851,
          85.19480412707536
         ]
        },
        {
         "legendgroup": "group4",
         "line": {
          "width": 4
         },
         "marker": {
          "color": "green",
          "colorscale": [
           [
            0,
            "#440154"
           ],
           [
            0.1111111111111111,
            "#482878"
           ],
           [
            0.2222222222222222,
            "#3e4989"
           ],
           [
            0.3333333333333333,
            "#31688e"
           ],
           [
            0.4444444444444444,
            "#26828e"
           ],
           [
            0.5555555555555556,
            "#1f9e89"
           ],
           [
            0.6666666666666666,
            "#35b779"
           ],
           [
            0.7777777777777778,
            "#6ece58"
           ],
           [
            0.8888888888888888,
            "#b5de2b"
           ],
           [
            1,
            "#fde725"
           ]
          ],
          "size": 1
         },
         "opacity": 1,
         "showlegend": false,
         "type": "scatter3d",
         "x": [
          157.6660334657814,
          90.01994019603389
         ],
         "y": [
          263.4665728173012,
          302.52206297621643
         ],
         "z": [
          7.083823809244851,
          -10.198385360519705
         ]
        },
        {
         "legendgroup": "group4",
         "line": {
          "width": 4
         },
         "marker": {
          "color": "blue",
          "colorscale": [
           [
            0,
            "#440154"
           ],
           [
            0.1111111111111111,
            "#482878"
           ],
           [
            0.2222222222222222,
            "#3e4989"
           ],
           [
            0.3333333333333333,
            "#31688e"
           ],
           [
            0.4444444444444444,
            "#26828e"
           ],
           [
            0.5555555555555556,
            "#1f9e89"
           ],
           [
            0.6666666666666666,
            "#35b779"
           ],
           [
            0.7777777777777778,
            "#6ece58"
           ],
           [
            0.8888888888888888,
            "#b5de2b"
           ],
           [
            1,
            "#fde725"
           ]
          ],
          "size": 1
         },
         "opacity": 1,
         "showlegend": false,
         "type": "scatter3d",
         "x": [
          157.6660334657814,
          117.66603346578141
         ],
         "y": [
          263.4665728173012,
          194.1845405145461
         ],
         "z": [
          7.083823809244851,
          7.083823809244857
         ]
        },
        {
         "legendgroup": "group5",
         "line": {
          "width": 2
         },
         "marker": {
          "color": "wheat",
          "colorscale": [
           [
            0,
            "#440154"
           ],
           [
            0.1111111111111111,
            "#482878"
           ],
           [
            0.2222222222222222,
            "#3e4989"
           ],
           [
            0.3333333333333333,
            "#31688e"
           ],
           [
            0.4444444444444444,
            "#26828e"
           ],
           [
            0.5555555555555556,
            "#1f9e89"
           ],
           [
            0.6666666666666666,
            "#35b779"
           ],
           [
            0.7777777777777778,
            "#6ece58"
           ],
           [
            0.8888888888888888,
            "#b5de2b"
           ],
           [
            1,
            "#fde725"
           ]
          ],
          "size": 5
         },
         "name": "Рычаг (81.96) - Тяга 6 (0.0; 0.0)",
         "opacity": 1,
         "showlegend": true,
         "type": "scatter3d",
         "x": [
          -307,
          -307
         ],
         "y": [
          125,
          -4.806871425221999
         ],
         "z": [
          0,
          7.083511191201904
         ]
        },
        {
         "legendgroup": "group5",
         "line": {
          "width": 2
         },
         "marker": {
          "color": "wheat",
          "colorscale": [
           [
            0,
            "#440154"
           ],
           [
            0.1111111111111111,
            "#482878"
           ],
           [
            0.2222222222222222,
            "#3e4989"
           ],
           [
            0.3333333333333333,
            "#31688e"
           ],
           [
            0.4444444444444444,
            "#26828e"
           ],
           [
            0.5555555555555556,
            "#1f9e89"
           ],
           [
            0.6666666666666666,
            "#35b779"
           ],
           [
            0.7777777777777778,
            "#6ece58"
           ],
           [
            0.8888888888888888,
            "#b5de2b"
           ],
           [
            1,
            "#fde725"
           ]
          ],
          "size": 5
         },
         "opacity": 1,
         "showlegend": false,
         "type": "scatter3d",
         "x": [
          -307,
          -307
         ],
         "y": [
          -4.806871425221999,
          60
         ],
         "z": [
          7.083511191201904,
          300
         ]
        },
        {
         "legendgroup": "group5",
         "marker": {
          "color": "gray",
          "colorscale": [
           [
            0,
            "#440154"
           ],
           [
            0.1111111111111111,
            "#482878"
           ],
           [
            0.2222222222222222,
            "#3e4989"
           ],
           [
            0.3333333333333333,
            "#31688e"
           ],
           [
            0.4444444444444444,
            "#26828e"
           ],
           [
            0.5555555555555556,
            "#1f9e89"
           ],
           [
            0.6666666666666666,
            "#35b779"
           ],
           [
            0.7777777777777778,
            "#6ece58"
           ],
           [
            0.8888888888888888,
            "#b5de2b"
           ],
           [
            1,
            "#fde725"
           ]
          ],
          "size": 3
         },
         "opacity": 1,
         "showlegend": false,
         "type": "scatter3d",
         "x": [
          -307
         ],
         "y": [
          125
         ],
         "z": [
          0
         ]
        },
        {
         "legendgroup": "group5",
         "line": {
          "width": 4
         },
         "marker": {
          "color": "red",
          "colorscale": [
           [
            0,
            "#440154"
           ],
           [
            0.1111111111111111,
            "#482878"
           ],
           [
            0.2222222222222222,
            "#3e4989"
           ],
           [
            0.3333333333333333,
            "#31688e"
           ],
           [
            0.4444444444444444,
            "#26828e"
           ],
           [
            0.5555555555555556,
            "#1f9e89"
           ],
           [
            0.6666666666666666,
            "#35b779"
           ],
           [
            0.7777777777777778,
            "#6ece58"
           ],
           [
            0.8888888888888888,
            "#b5de2b"
           ],
           [
            1,
            "#fde725"
           ]
          ],
          "size": 1
         },
         "opacity": 1,
         "showlegend": false,
         "type": "scatter3d",
         "x": [
          -307,
          -307
         ],
         "y": [
          125,
          45
         ],
         "z": [
          0,
          -4.898587196589413e-15
         ]
        },
        {
         "legendgroup": "group5",
         "line": {
          "width": 4
         },
         "marker": {
          "color": "green",
          "colorscale": [
           [
            0,
            "#440154"
           ],
           [
            0.1111111111111111,
            "#482878"
           ],
           [
            0.2222222222222222,
            "#3e4989"
           ],
           [
            0.3333333333333333,
            "#31688e"
           ],
           [
            0.4444444444444444,
            "#26828e"
           ],
           [
            0.5555555555555556,
            "#1f9e89"
           ],
           [
            0.6666666666666666,
            "#35b779"
           ],
           [
            0.7777777777777778,
            "#6ece58"
           ],
           [
            0.8888888888888888,
            "#b5de2b"
           ],
           [
            1,
            "#fde725"
           ]
          ],
          "size": 1
         },
         "opacity": 1,
         "showlegend": false,
         "type": "scatter3d",
         "x": [
          -307,
          -307
         ],
         "y": [
          125,
          125
         ],
         "z": [
          0,
          80
         ]
        },
        {
         "legendgroup": "group5",
         "line": {
          "width": 4
         },
         "marker": {
          "color": "blue",
          "colorscale": [
           [
            0,
            "#440154"
           ],
           [
            0.1111111111111111,
            "#482878"
           ],
           [
            0.2222222222222222,
            "#3e4989"
           ],
           [
            0.3333333333333333,
            "#31688e"
           ],
           [
            0.4444444444444444,
            "#26828e"
           ],
           [
            0.5555555555555556,
            "#1f9e89"
           ],
           [
            0.6666666666666666,
            "#35b779"
           ],
           [
            0.7777777777777778,
            "#6ece58"
           ],
           [
            0.8888888888888888,
            "#b5de2b"
           ],
           [
            1,
            "#fde725"
           ]
          ],
          "size": 1
         },
         "opacity": 1,
         "showlegend": false,
         "type": "scatter3d",
         "x": [
          -307,
          -387
         ],
         "y": [
          125,
          125.00000000000001
         ],
         "z": [
          0,
          4.898587196589413e-15
         ]
        },
        {
         "legendgroup": "group5",
         "marker": {
          "color": "gray",
          "colorscale": [
           [
            0,
            "#440154"
           ],
           [
            0.1111111111111111,
            "#482878"
           ],
           [
            0.2222222222222222,
            "#3e4989"
           ],
           [
            0.3333333333333333,
            "#31688e"
           ],
           [
            0.4444444444444444,
            "#26828e"
           ],
           [
            0.5555555555555556,
            "#1f9e89"
           ],
           [
            0.6666666666666666,
            "#35b779"
           ],
           [
            0.7777777777777778,
            "#6ece58"
           ],
           [
            0.8888888888888888,
            "#b5de2b"
           ],
           [
            1,
            "#fde725"
           ]
          ],
          "size": 3
         },
         "opacity": 1,
         "showlegend": false,
         "type": "scatter3d",
         "x": [
          -307
         ],
         "y": [
          60
         ],
         "z": [
          300
         ]
        },
        {
         "legendgroup": "group5",
         "line": {
          "width": 4
         },
         "marker": {
          "color": "red",
          "colorscale": [
           [
            0,
            "#440154"
           ],
           [
            0.1111111111111111,
            "#482878"
           ],
           [
            0.2222222222222222,
            "#3e4989"
           ],
           [
            0.3333333333333333,
            "#31688e"
           ],
           [
            0.4444444444444444,
            "#26828e"
           ],
           [
            0.5555555555555556,
            "#1f9e89"
           ],
           [
            0.6666666666666666,
            "#35b779"
           ],
           [
            0.7777777777777778,
            "#6ece58"
           ],
           [
            0.8888888888888888,
            "#b5de2b"
           ],
           [
            1,
            "#fde725"
           ]
          ],
          "size": 1
         },
         "opacity": 1,
         "showlegend": false,
         "type": "scatter3d",
         "x": [
          -307,
          -307
         ],
         "y": [
          60,
          138.11106368234616
         ],
         "z": [
          300,
          282.7181676199408
         ]
        },
        {
         "legendgroup": "group5",
         "line": {
          "width": 4
         },
         "marker": {
          "color": "green",
          "colorscale": [
           [
            0,
            "#440154"
           ],
           [
            0.1111111111111111,
            "#482878"
           ],
           [
            0.2222222222222222,
            "#3e4989"
           ],
           [
            0.3333333333333333,
            "#31688e"
           ],
           [
            0.4444444444444444,
            "#26828e"
           ],
           [
            0.5555555555555556,
            "#1f9e89"
           ],
           [
            0.6666666666666666,
            "#35b779"
           ],
           [
            0.7777777777777778,
            "#6ece58"
           ],
           [
            0.8888888888888888,
            "#b5de2b"
           ],
           [
            1,
            "#fde725"
           ]
          ],
          "size": 1
         },
         "opacity": 1,
         "showlegend": false,
         "type": "scatter3d",
         "x": [
          -307,
          -307
         ],
         "y": [
          60,
          42.718167619940786
         ],
         "z": [
          300,
          221.88893631765384
         ]
        },
        {
         "legendgroup": "group5",
         "line": {
          "width": 4
         },
         "marker": {
          "color": "blue",
          "colorscale": [
           [
            0,
            "#440154"
           ],
           [
            0.1111111111111111,
            "#482878"
           ],
           [
            0.2222222222222222,
            "#3e4989"
           ],
           [
            0.3333333333333333,
            "#31688e"
           ],
           [
            0.4444444444444444,
            "#26828e"
           ],
           [
            0.5555555555555556,
            "#1f9e89"
           ],
           [
            0.6666666666666666,
            "#35b779"
           ],
           [
            0.7777777777777778,
            "#6ece58"
           ],
           [
            0.8888888888888888,
            "#b5de2b"
           ],
           [
            1,
            "#fde725"
           ]
          ],
          "size": 1
         },
         "opacity": 1,
         "showlegend": false,
         "type": "scatter3d",
         "x": [
          -307,
          -387
         ],
         "y": [
          60,
          59.99999999999999
         ],
         "z": [
          300,
          300
         ]
        },
        {
         "legendgroup": "group5",
         "marker": {
          "color": "gray",
          "colorscale": [
           [
            0,
            "#440154"
           ],
           [
            0.1111111111111111,
            "#482878"
           ],
           [
            0.2222222222222222,
            "#3e4989"
           ],
           [
            0.3333333333333333,
            "#31688e"
           ],
           [
            0.4444444444444444,
            "#26828e"
           ],
           [
            0.5555555555555556,
            "#1f9e89"
           ],
           [
            0.6666666666666666,
            "#35b779"
           ],
           [
            0.7777777777777778,
            "#6ece58"
           ],
           [
            0.8888888888888888,
            "#b5de2b"
           ],
           [
            1,
            "#fde725"
           ]
          ],
          "size": 3
         },
         "opacity": 1,
         "showlegend": false,
         "type": "scatter3d",
         "x": [
          -307
         ],
         "y": [
          -4.806871425221999
         ],
         "z": [
          7.083511191201904
         ]
        },
        {
         "legendgroup": "group5",
         "line": {
          "width": 4
         },
         "marker": {
          "color": "red",
          "colorscale": [
           [
            0,
            "#440154"
           ],
           [
            0.1111111111111111,
            "#482878"
           ],
           [
            0.2222222222222222,
            "#3e4989"
           ],
           [
            0.3333333333333333,
            "#31688e"
           ],
           [
            0.4444444444444444,
            "#26828e"
           ],
           [
            0.5555555555555556,
            "#1f9e89"
           ],
           [
            0.6666666666666666,
            "#35b779"
           ],
           [
            0.7777777777777778,
            "#6ece58"
           ],
           [
            0.8888888888888888,
            "#b5de2b"
           ],
           [
            1,
            "#fde725"
           ]
          ],
          "size": 1
         },
         "opacity": 1,
         "showlegend": false,
         "type": "scatter3d",
         "x": [
          -307,
          -307
         ],
         "y": [
          -4.806871425221999,
          12.4749609548372
         ],
         "z": [
          7.083511191201904,
          85.19457487354806
         ]
        },
        {
         "legendgroup": "group5",
         "line": {
          "width": 4
         },
         "marker": {
          "color": "green",
          "colorscale": [
           [
            0,
            "#440154"
           ],
           [
            0.1111111111111111,
            "#482878"
           ],
           [
            0.2222222222222222,
            "#3e4989"
           ],
           [
            0.3333333333333333,
            "#31688e"
           ],
           [
            0.4444444444444444,
            "#26828e"
           ],
           [
            0.5555555555555556,
            "#1f9e89"
           ],
           [
            0.6666666666666666,
            "#35b779"
           ],
           [
            0.7777777777777778,
            "#6ece58"
           ],
           [
            0.8888888888888888,
            "#b5de2b"
           ],
           [
            1,
            "#fde725"
           ]
          ],
          "size": 1
         },
         "opacity": 1,
         "showlegend": false,
         "type": "scatter3d",
         "x": [
          -307,
          -307
         ],
         "y": [
          -4.806871425221999,
          73.30419225712416
         ],
         "z": [
          7.083511191201904,
          -10.198321188857296
         ]
        },
        {
         "legendgroup": "group5",
         "line": {
          "width": 4
         },
         "marker": {
          "color": "blue",
          "colorscale": [
           [
            0,
            "#440154"
           ],
           [
            0.1111111111111111,
            "#482878"
           ],
           [
            0.2222222222222222,
            "#3e4989"
           ],
           [
            0.3333333333333333,
            "#31688e"
           ],
           [
            0.4444444444444444,
            "#26828e"
           ],
           [
            0.5555555555555556,
            "#1f9e89"
           ],
           [
            0.6666666666666666,
            "#35b779"
           ],
           [
            0.7777777777777778,
            "#6ece58"
           ],
           [
            0.8888888888888888,
            "#b5de2b"
           ],
           [
            1,
            "#fde725"
           ]
          ],
          "size": 1
         },
         "opacity": 1,
         "showlegend": false,
         "type": "scatter3d",
         "x": [
          -307,
          -387
         ],
         "y": [
          -4.806871425221999,
          -4.806871425221989
         ],
         "z": [
          7.083511191201904,
          7.083511191201909
         ]
        },
        {
         "legendgroup": "group7",
         "marker": {
          "color": "gray",
          "colorscale": [
           [
            0,
            "#440154"
           ],
           [
            0.1111111111111111,
            "#482878"
           ],
           [
            0.2222222222222222,
            "#3e4989"
           ],
           [
            0.3333333333333333,
            "#31688e"
           ],
           [
            0.4444444444444444,
            "#26828e"
           ],
           [
            0.5555555555555556,
            "#1f9e89"
           ],
           [
            0.6666666666666666,
            "#35b779"
           ],
           [
            0.7777777777777778,
            "#6ece58"
           ],
           [
            0.8888888888888888,
            "#b5de2b"
           ],
           [
            1,
            "#fde725"
           ]
          ],
          "size": 7
         },
         "opacity": 1,
         "showlegend": false,
         "type": "scatter3d",
         "x": [
          0
         ],
         "y": [
          0
         ],
         "z": [
          300
         ]
        },
        {
         "legendgroup": "group7",
         "line": {
          "width": 8
         },
         "marker": {
          "color": "red",
          "colorscale": [
           [
            0,
            "#440154"
           ],
           [
            0.1111111111111111,
            "#482878"
           ],
           [
            0.2222222222222222,
            "#3e4989"
           ],
           [
            0.3333333333333333,
            "#31688e"
           ],
           [
            0.4444444444444444,
            "#26828e"
           ],
           [
            0.5555555555555556,
            "#1f9e89"
           ],
           [
            0.6666666666666666,
            "#35b779"
           ],
           [
            0.7777777777777778,
            "#6ece58"
           ],
           [
            0.8888888888888888,
            "#b5de2b"
           ],
           [
            1,
            "#fde725"
           ]
          ],
          "size": 1
         },
         "opacity": 1,
         "showlegend": false,
         "type": "scatter3d",
         "x": [
          0,
          80
         ],
         "y": [
          0,
          0
         ],
         "z": [
          300,
          300
         ]
        },
        {
         "legendgroup": "group7",
         "line": {
          "width": 8
         },
         "marker": {
          "color": "green",
          "colorscale": [
           [
            0,
            "#440154"
           ],
           [
            0.1111111111111111,
            "#482878"
           ],
           [
            0.2222222222222222,
            "#3e4989"
           ],
           [
            0.3333333333333333,
            "#31688e"
           ],
           [
            0.4444444444444444,
            "#26828e"
           ],
           [
            0.5555555555555556,
            "#1f9e89"
           ],
           [
            0.6666666666666666,
            "#35b779"
           ],
           [
            0.7777777777777778,
            "#6ece58"
           ],
           [
            0.8888888888888888,
            "#b5de2b"
           ],
           [
            1,
            "#fde725"
           ]
          ],
          "size": 1
         },
         "opacity": 1,
         "showlegend": false,
         "type": "scatter3d",
         "x": [
          0,
          0
         ],
         "y": [
          0,
          80
         ],
         "z": [
          300,
          300
         ]
        },
        {
         "legendgroup": "group7",
         "line": {
          "width": 8
         },
         "marker": {
          "color": "blue",
          "colorscale": [
           [
            0,
            "#440154"
           ],
           [
            0.1111111111111111,
            "#482878"
           ],
           [
            0.2222222222222222,
            "#3e4989"
           ],
           [
            0.3333333333333333,
            "#31688e"
           ],
           [
            0.4444444444444444,
            "#26828e"
           ],
           [
            0.5555555555555556,
            "#1f9e89"
           ],
           [
            0.6666666666666666,
            "#35b779"
           ],
           [
            0.7777777777777778,
            "#6ece58"
           ],
           [
            0.8888888888888888,
            "#b5de2b"
           ],
           [
            1,
            "#fde725"
           ]
          ],
          "size": 1
         },
         "opacity": 1,
         "showlegend": false,
         "type": "scatter3d",
         "x": [
          0,
          0
         ],
         "y": [
          0,
          0
         ],
         "z": [
          300,
          380
         ]
        },
        {
         "legendgroup": "group10",
         "marker": {
          "color": "gray",
          "colorscale": [
           [
            0,
            "#440154"
           ],
           [
            0.1111111111111111,
            "#482878"
           ],
           [
            0.2222222222222222,
            "#3e4989"
           ],
           [
            0.3333333333333333,
            "#31688e"
           ],
           [
            0.4444444444444444,
            "#26828e"
           ],
           [
            0.5555555555555556,
            "#1f9e89"
           ],
           [
            0.6666666666666666,
            "#35b779"
           ],
           [
            0.7777777777777778,
            "#6ece58"
           ],
           [
            0.8888888888888888,
            "#b5de2b"
           ],
           [
            1,
            "#fde725"
           ]
          ],
          "size": 3
         },
         "opacity": 1,
         "showlegend": false,
         "type": "scatter3d",
         "x": [
          -359
         ],
         "y": [
          0
         ],
         "z": [
          -292
         ]
        },
        {
         "legendgroup": "group10",
         "line": {
          "width": 4
         },
         "marker": {
          "color": "red",
          "colorscale": [
           [
            0,
            "#440154"
           ],
           [
            0.1111111111111111,
            "#482878"
           ],
           [
            0.2222222222222222,
            "#3e4989"
           ],
           [
            0.3333333333333333,
            "#31688e"
           ],
           [
            0.4444444444444444,
            "#26828e"
           ],
           [
            0.5555555555555556,
            "#1f9e89"
           ],
           [
            0.6666666666666666,
            "#35b779"
           ],
           [
            0.7777777777777778,
            "#6ece58"
           ],
           [
            0.8888888888888888,
            "#b5de2b"
           ],
           [
            1,
            "#fde725"
           ]
          ],
          "size": 1
         },
         "opacity": 1,
         "showlegend": false,
         "type": "scatter3d",
         "x": [
          -359,
          -359
         ],
         "y": [
          0,
          80
         ],
         "z": [
          -292,
          -292
         ]
        },
        {
         "legendgroup": "group10",
         "line": {
          "width": 4
         },
         "marker": {
          "color": "green",
          "colorscale": [
           [
            0,
            "#440154"
           ],
           [
            0.1111111111111111,
            "#482878"
           ],
           [
            0.2222222222222222,
            "#3e4989"
           ],
           [
            0.3333333333333333,
            "#31688e"
           ],
           [
            0.4444444444444444,
            "#26828e"
           ],
           [
            0.5555555555555556,
            "#1f9e89"
           ],
           [
            0.6666666666666666,
            "#35b779"
           ],
           [
            0.7777777777777778,
            "#6ece58"
           ],
           [
            0.8888888888888888,
            "#b5de2b"
           ],
           [
            1,
            "#fde725"
           ]
          ],
          "size": 1
         },
         "opacity": 1,
         "showlegend": false,
         "type": "scatter3d",
         "x": [
          -359,
          -359
         ],
         "y": [
          0,
          0
         ],
         "z": [
          -292,
          -212
         ]
        },
        {
         "legendgroup": "group10",
         "line": {
          "width": 4
         },
         "marker": {
          "color": "blue",
          "colorscale": [
           [
            0,
            "#440154"
           ],
           [
            0.1111111111111111,
            "#482878"
           ],
           [
            0.2222222222222222,
            "#3e4989"
           ],
           [
            0.3333333333333333,
            "#31688e"
           ],
           [
            0.4444444444444444,
            "#26828e"
           ],
           [
            0.5555555555555556,
            "#1f9e89"
           ],
           [
            0.6666666666666666,
            "#35b779"
           ],
           [
            0.7777777777777778,
            "#6ece58"
           ],
           [
            0.8888888888888888,
            "#b5de2b"
           ],
           [
            1,
            "#fde725"
           ]
          ],
          "size": 1
         },
         "opacity": 1,
         "showlegend": false,
         "type": "scatter3d",
         "x": [
          -359,
          -279
         ],
         "y": [
          0,
          0
         ],
         "z": [
          -292,
          -292
         ]
        },
        {
         "legendgroup": "group10",
         "marker": {
          "color": "gray",
          "colorscale": [
           [
            0,
            "#440154"
           ],
           [
            0.1111111111111111,
            "#482878"
           ],
           [
            0.2222222222222222,
            "#3e4989"
           ],
           [
            0.3333333333333333,
            "#31688e"
           ],
           [
            0.4444444444444444,
            "#26828e"
           ],
           [
            0.5555555555555556,
            "#1f9e89"
           ],
           [
            0.6666666666666666,
            "#35b779"
           ],
           [
            0.7777777777777778,
            "#6ece58"
           ],
           [
            0.8888888888888888,
            "#b5de2b"
           ],
           [
            1,
            "#fde725"
           ]
          ],
          "size": 3
         },
         "opacity": 1,
         "showlegend": false,
         "type": "scatter3d",
         "x": [
          -307
         ],
         "y": [
          0
         ],
         "z": [
          300
         ]
        },
        {
         "legendgroup": "group10",
         "line": {
          "width": 4
         },
         "marker": {
          "color": "red",
          "colorscale": [
           [
            0,
            "#440154"
           ],
           [
            0.1111111111111111,
            "#482878"
           ],
           [
            0.2222222222222222,
            "#3e4989"
           ],
           [
            0.3333333333333333,
            "#31688e"
           ],
           [
            0.4444444444444444,
            "#26828e"
           ],
           [
            0.5555555555555556,
            "#1f9e89"
           ],
           [
            0.6666666666666666,
            "#35b779"
           ],
           [
            0.7777777777777778,
            "#6ece58"
           ],
           [
            0.8888888888888888,
            "#b5de2b"
           ],
           [
            1,
            "#fde725"
           ]
          ],
          "size": 1
         },
         "opacity": 1,
         "showlegend": false,
         "type": "scatter3d",
         "x": [
          -307,
          -307
         ],
         "y": [
          0,
          -80
         ],
         "z": [
          300,
          300
         ]
        },
        {
         "legendgroup": "group10",
         "line": {
          "width": 4
         },
         "marker": {
          "color": "green",
          "colorscale": [
           [
            0,
            "#440154"
           ],
           [
            0.1111111111111111,
            "#482878"
           ],
           [
            0.2222222222222222,
            "#3e4989"
           ],
           [
            0.3333333333333333,
            "#31688e"
           ],
           [
            0.4444444444444444,
            "#26828e"
           ],
           [
            0.5555555555555556,
            "#1f9e89"
           ],
           [
            0.6666666666666666,
            "#35b779"
           ],
           [
            0.7777777777777778,
            "#6ece58"
           ],
           [
            0.8888888888888888,
            "#b5de2b"
           ],
           [
            1,
            "#fde725"
           ]
          ],
          "size": 1
         },
         "opacity": 1,
         "showlegend": false,
         "type": "scatter3d",
         "x": [
          -307,
          -307
         ],
         "y": [
          0,
          4.898587196589413e-15
         ],
         "z": [
          300,
          220
         ]
        },
        {
         "legendgroup": "group10",
         "line": {
          "width": 4
         },
         "marker": {
          "color": "blue",
          "colorscale": [
           [
            0,
            "#440154"
           ],
           [
            0.1111111111111111,
            "#482878"
           ],
           [
            0.2222222222222222,
            "#3e4989"
           ],
           [
            0.3333333333333333,
            "#31688e"
           ],
           [
            0.4444444444444444,
            "#26828e"
           ],
           [
            0.5555555555555556,
            "#1f9e89"
           ],
           [
            0.6666666666666666,
            "#35b779"
           ],
           [
            0.7777777777777778,
            "#6ece58"
           ],
           [
            0.8888888888888888,
            "#b5de2b"
           ],
           [
            1,
            "#fde725"
           ]
          ],
          "size": 1
         },
         "opacity": 1,
         "showlegend": false,
         "type": "scatter3d",
         "x": [
          -307,
          -227
         ],
         "y": [
          0,
          0
         ],
         "z": [
          300,
          300
         ]
        },
        {
         "legendgroup": "group10",
         "line": {
          "dash": "dot",
          "width": 5
         },
         "marker": {
          "color": [
           "black",
           "purple",
           "brown",
           "green",
           "orange",
           "wheat"
          ],
          "colorscale": [
           [
            0,
            "#440154"
           ],
           [
            0.1111111111111111,
            "#482878"
           ],
           [
            0.2222222222222222,
            "#3e4989"
           ],
           [
            0.3333333333333333,
            "#31688e"
           ],
           [
            0.4444444444444444,
            "#26828e"
           ],
           [
            0.5555555555555556,
            "#1f9e89"
           ],
           [
            0.6666666666666666,
            "#35b779"
           ],
           [
            0.7777777777777778,
            "#6ece58"
           ],
           [
            0.8888888888888888,
            "#b5de2b"
           ],
           [
            1,
            "#fde725"
           ]
          ],
          "size": 5
         },
         "name": "Пружина 1 (5.02; -5.02)",
         "opacity": 1,
         "showlegend": true,
         "type": "scatter3d",
         "x": [
          -359,
          -307
         ],
         "y": [
          0,
          0
         ],
         "z": [
          -292,
          300
         ]
        },
        {
         "legendgroup": "group11",
         "marker": {
          "color": "gray",
          "colorscale": [
           [
            0,
            "#440154"
           ],
           [
            0.1111111111111111,
            "#482878"
           ],
           [
            0.2222222222222222,
            "#3e4989"
           ],
           [
            0.3333333333333333,
            "#31688e"
           ],
           [
            0.4444444444444444,
            "#26828e"
           ],
           [
            0.5555555555555556,
            "#1f9e89"
           ],
           [
            0.6666666666666666,
            "#35b779"
           ],
           [
            0.7777777777777778,
            "#6ece58"
           ],
           [
            0.8888888888888888,
            "#b5de2b"
           ],
           [
            1,
            "#fde725"
           ]
          ],
          "size": 3
         },
         "opacity": 1,
         "showlegend": false,
         "type": "scatter3d",
         "x": [
          179.5
         ],
         "y": [
          -310.9
         ],
         "z": [
          -292
         ]
        },
        {
         "legendgroup": "group11",
         "line": {
          "width": 4
         },
         "marker": {
          "color": "red",
          "colorscale": [
           [
            0,
            "#440154"
           ],
           [
            0.1111111111111111,
            "#482878"
           ],
           [
            0.2222222222222222,
            "#3e4989"
           ],
           [
            0.3333333333333333,
            "#31688e"
           ],
           [
            0.4444444444444444,
            "#26828e"
           ],
           [
            0.5555555555555556,
            "#1f9e89"
           ],
           [
            0.6666666666666666,
            "#35b779"
           ],
           [
            0.7777777777777778,
            "#6ece58"
           ],
           [
            0.8888888888888888,
            "#b5de2b"
           ],
           [
            1,
            "#fde725"
           ]
          ],
          "size": 1
         },
         "opacity": 1,
         "showlegend": false,
         "type": "scatter3d",
         "x": [
          179.5,
          110.21796769751744
         ],
         "y": [
          -310.9,
          -350.89999999984263
         ],
         "z": [
          -292,
          -292.00022439167503
         ]
        },
        {
         "legendgroup": "group11",
         "line": {
          "width": 4
         },
         "marker": {
          "color": "green",
          "colorscale": [
           [
            0,
            "#440154"
           ],
           [
            0.1111111111111111,
            "#482878"
           ],
           [
            0.2222222222222222,
            "#3e4989"
           ],
           [
            0.3333333333333333,
            "#31688e"
           ],
           [
            0.4444444444444444,
            "#26828e"
           ],
           [
            0.5555555555555556,
            "#1f9e89"
           ],
           [
            0.6666666666666666,
            "#35b779"
           ],
           [
            0.7777777777777778,
            "#6ece58"
           ],
           [
            0.8888888888888888,
            "#b5de2b"
           ],
           [
            1,
            "#fde725"
           ]
          ],
          "size": 1
         },
         "opacity": 1,
         "showlegend": false,
         "type": "scatter3d",
         "x": [
          179.5,
          179.49980567110902
         ],
         "y": [
          -310.9,
          -310.9001121958375
         ],
         "z": [
          -292,
          -212.00000000031469
         ]
        },
        {
         "legendgroup": "group11",
         "line": {
          "width": 4
         },
         "marker": {
          "color": "blue",
          "colorscale": [
           [
            0,
            "#440154"
           ],
           [
            0.1111111111111111,
            "#482878"
           ],
           [
            0.2222222222222222,
            "#3e4989"
           ],
           [
            0.3333333333333333,
            "#31688e"
           ],
           [
            0.4444444444444444,
            "#26828e"
           ],
           [
            0.5555555555555556,
            "#1f9e89"
           ],
           [
            0.6666666666666666,
            "#35b779"
           ],
           [
            0.7777777777777778,
            "#6ece58"
           ],
           [
            0.8888888888888888,
            "#b5de2b"
           ],
           [
            1,
            "#fde725"
           ]
          ],
          "size": 1
         },
         "opacity": 1,
         "showlegend": false,
         "type": "scatter3d",
         "x": [
          179.5,
          139.5
         ],
         "y": [
          -310.9,
          -241.61796769724486
         ],
         "z": [
          -292,
          -292
         ]
        },
        {
         "legendgroup": "group11",
         "marker": {
          "color": "gray",
          "colorscale": [
           [
            0,
            "#440154"
           ],
           [
            0.1111111111111111,
            "#482878"
           ],
           [
            0.2222222222222222,
            "#3e4989"
           ],
           [
            0.3333333333333333,
            "#31688e"
           ],
           [
            0.4444444444444444,
            "#26828e"
           ],
           [
            0.5555555555555556,
            "#1f9e89"
           ],
           [
            0.6666666666666666,
            "#35b779"
           ],
           [
            0.7777777777777778,
            "#6ece58"
           ],
           [
            0.8888888888888888,
            "#b5de2b"
           ],
           [
            1,
            "#fde725"
           ]
          ],
          "size": 3
         },
         "opacity": 1,
         "showlegend": false,
         "type": "scatter3d",
         "x": [
          153.5
         ],
         "y": [
          -265.87
         ],
         "z": [
          300
         ]
        },
        {
         "legendgroup": "group11",
         "line": {
          "width": 4
         },
         "marker": {
          "color": "red",
          "colorscale": [
           [
            0,
            "#440154"
           ],
           [
            0.1111111111111111,
            "#482878"
           ],
           [
            0.2222222222222222,
            "#3e4989"
           ],
           [
            0.3333333333333333,
            "#31688e"
           ],
           [
            0.4444444444444444,
            "#26828e"
           ],
           [
            0.5555555555555556,
            "#1f9e89"
           ],
           [
            0.6666666666666666,
            "#35b779"
           ],
           [
            0.7777777777777778,
            "#6ece58"
           ],
           [
            0.8888888888888888,
            "#b5de2b"
           ],
           [
            1,
            "#fde725"
           ]
          ],
          "size": 1
         },
         "opacity": 1,
         "showlegend": false,
         "type": "scatter3d",
         "x": [
          153.5,
          222.78203230248255
         ],
         "y": [
          -265.87,
          -225.87000000015738
         ],
         "z": [
          300,
          300.0002243916751
         ]
        },
        {
         "legendgroup": "group11",
         "line": {
          "width": 4
         },
         "marker": {
          "color": "green",
          "colorscale": [
           [
            0,
            "#440154"
           ],
           [
            0.1111111111111111,
            "#482878"
           ],
           [
            0.2222222222222222,
            "#3e4989"
           ],
           [
            0.3333333333333333,
            "#31688e"
           ],
           [
            0.4444444444444444,
            "#26828e"
           ],
           [
            0.5555555555555556,
            "#1f9e89"
           ],
           [
            0.6666666666666666,
            "#35b779"
           ],
           [
            0.7777777777777778,
            "#6ece58"
           ],
           [
            0.8888888888888888,
            "#b5de2b"
           ],
           [
            1,
            "#fde725"
           ]
          ],
          "size": 1
         },
         "opacity": 1,
         "showlegend": false,
         "type": "scatter3d",
         "x": [
          153.5,
          153.500194328891
         ],
         "y": [
          -265.87,
          -265.8698878041625
         ],
         "z": [
          300,
          220.00000000031469
         ]
        },
        {
         "legendgroup": "group11",
         "line": {
          "width": 4
         },
         "marker": {
          "color": "blue",
          "colorscale": [
           [
            0,
            "#440154"
           ],
           [
            0.1111111111111111,
            "#482878"
           ],
           [
            0.2222222222222222,
            "#3e4989"
           ],
           [
            0.3333333333333333,
            "#31688e"
           ],
           [
            0.4444444444444444,
            "#26828e"
           ],
           [
            0.5555555555555556,
            "#1f9e89"
           ],
           [
            0.6666666666666666,
            "#35b779"
           ],
           [
            0.7777777777777778,
            "#6ece58"
           ],
           [
            0.8888888888888888,
            "#b5de2b"
           ],
           [
            1,
            "#fde725"
           ]
          ],
          "size": 1
         },
         "opacity": 1,
         "showlegend": false,
         "type": "scatter3d",
         "x": [
          153.5,
          113.50000000000001
         ],
         "y": [
          -265.87,
          -196.5879676972449
         ],
         "z": [
          300,
          300
         ]
        },
        {
         "legendgroup": "group11",
         "line": {
          "dash": "dot",
          "width": 5
         },
         "marker": {
          "color": [
           "black",
           "purple",
           "brown",
           "green",
           "orange",
           "wheat"
          ],
          "colorscale": [
           [
            0,
            "#440154"
           ],
           [
            0.1111111111111111,
            "#482878"
           ],
           [
            0.2222222222222222,
            "#3e4989"
           ],
           [
            0.3333333333333333,
            "#31688e"
           ],
           [
            0.4444444444444444,
            "#26828e"
           ],
           [
            0.5555555555555556,
            "#1f9e89"
           ],
           [
            0.6666666666666666,
            "#35b779"
           ],
           [
            0.7777777777777778,
            "#6ece58"
           ],
           [
            0.8888888888888888,
            "#b5de2b"
           ],
           [
            1,
            "#fde725"
           ]
          ],
          "size": 5
         },
         "name": "Пружина 2 (5.02; -5.02)",
         "opacity": 1,
         "showlegend": true,
         "type": "scatter3d",
         "x": [
          179.5,
          153.5
         ],
         "y": [
          -310.9,
          -265.87
         ],
         "z": [
          -292,
          300
         ]
        },
        {
         "legendgroup": "group12",
         "marker": {
          "color": "gray",
          "colorscale": [
           [
            0,
            "#440154"
           ],
           [
            0.1111111111111111,
            "#482878"
           ],
           [
            0.2222222222222222,
            "#3e4989"
           ],
           [
            0.3333333333333333,
            "#31688e"
           ],
           [
            0.4444444444444444,
            "#26828e"
           ],
           [
            0.5555555555555556,
            "#1f9e89"
           ],
           [
            0.6666666666666666,
            "#35b779"
           ],
           [
            0.7777777777777778,
            "#6ece58"
           ],
           [
            0.8888888888888888,
            "#b5de2b"
           ],
           [
            1,
            "#fde725"
           ]
          ],
          "size": 3
         },
         "opacity": 1,
         "showlegend": false,
         "type": "scatter3d",
         "x": [
          179.5
         ],
         "y": [
          310.9
         ],
         "z": [
          -292
         ]
        },
        {
         "legendgroup": "group12",
         "line": {
          "width": 4
         },
         "marker": {
          "color": "red",
          "colorscale": [
           [
            0,
            "#440154"
           ],
           [
            0.1111111111111111,
            "#482878"
           ],
           [
            0.2222222222222222,
            "#3e4989"
           ],
           [
            0.3333333333333333,
            "#31688e"
           ],
           [
            0.4444444444444444,
            "#26828e"
           ],
           [
            0.5555555555555556,
            "#1f9e89"
           ],
           [
            0.6666666666666666,
            "#35b779"
           ],
           [
            0.7777777777777778,
            "#6ece58"
           ],
           [
            0.8888888888888888,
            "#b5de2b"
           ],
           [
            1,
            "#fde725"
           ]
          ],
          "size": 1
         },
         "opacity": 1,
         "showlegend": false,
         "type": "scatter3d",
         "x": [
          179.5,
          248.78203230248255
         ],
         "y": [
          310.9,
          270.9000000001573
         ],
         "z": [
          -292,
          -291.99977560832497
         ]
        },
        {
         "legendgroup": "group12",
         "line": {
          "width": 4
         },
         "marker": {
          "color": "green",
          "colorscale": [
           [
            0,
            "#440154"
           ],
           [
            0.1111111111111111,
            "#482878"
           ],
           [
            0.2222222222222222,
            "#3e4989"
           ],
           [
            0.3333333333333333,
            "#31688e"
           ],
           [
            0.4444444444444444,
            "#26828e"
           ],
           [
            0.5555555555555556,
            "#1f9e89"
           ],
           [
            0.6666666666666666,
            "#35b779"
           ],
           [
            0.7777777777777778,
            "#6ece58"
           ],
           [
            0.8888888888888888,
            "#b5de2b"
           ],
           [
            1,
            "#fde725"
           ]
          ],
          "size": 1
         },
         "opacity": 1,
         "showlegend": false,
         "type": "scatter3d",
         "x": [
          179.5,
          179.49980567110902
         ],
         "y": [
          310.9,
          310.9001121958375
         ],
         "z": [
          -292,
          -212.00000000031469
         ]
        },
        {
         "legendgroup": "group12",
         "line": {
          "width": 4
         },
         "marker": {
          "color": "blue",
          "colorscale": [
           [
            0,
            "#440154"
           ],
           [
            0.1111111111111111,
            "#482878"
           ],
           [
            0.2222222222222222,
            "#3e4989"
           ],
           [
            0.3333333333333333,
            "#31688e"
           ],
           [
            0.4444444444444444,
            "#26828e"
           ],
           [
            0.5555555555555556,
            "#1f9e89"
           ],
           [
            0.6666666666666666,
            "#35b779"
           ],
           [
            0.7777777777777778,
            "#6ece58"
           ],
           [
            0.8888888888888888,
            "#b5de2b"
           ],
           [
            1,
            "#fde725"
           ]
          ],
          "size": 1
         },
         "opacity": 1,
         "showlegend": false,
         "type": "scatter3d",
         "x": [
          179.5,
          139.5
         ],
         "y": [
          310.9,
          241.61796769724486
         ],
         "z": [
          -292,
          -292
         ]
        },
        {
         "legendgroup": "group12",
         "marker": {
          "color": "gray",
          "colorscale": [
           [
            0,
            "#440154"
           ],
           [
            0.1111111111111111,
            "#482878"
           ],
           [
            0.2222222222222222,
            "#3e4989"
           ],
           [
            0.3333333333333333,
            "#31688e"
           ],
           [
            0.4444444444444444,
            "#26828e"
           ],
           [
            0.5555555555555556,
            "#1f9e89"
           ],
           [
            0.6666666666666666,
            "#35b779"
           ],
           [
            0.7777777777777778,
            "#6ece58"
           ],
           [
            0.8888888888888888,
            "#b5de2b"
           ],
           [
            1,
            "#fde725"
           ]
          ],
          "size": 3
         },
         "opacity": 1,
         "showlegend": false,
         "type": "scatter3d",
         "x": [
          153.5
         ],
         "y": [
          265.87
         ],
         "z": [
          300
         ]
        },
        {
         "legendgroup": "group12",
         "line": {
          "width": 4
         },
         "marker": {
          "color": "red",
          "colorscale": [
           [
            0,
            "#440154"
           ],
           [
            0.1111111111111111,
            "#482878"
           ],
           [
            0.2222222222222222,
            "#3e4989"
           ],
           [
            0.3333333333333333,
            "#31688e"
           ],
           [
            0.4444444444444444,
            "#26828e"
           ],
           [
            0.5555555555555556,
            "#1f9e89"
           ],
           [
            0.6666666666666666,
            "#35b779"
           ],
           [
            0.7777777777777778,
            "#6ece58"
           ],
           [
            0.8888888888888888,
            "#b5de2b"
           ],
           [
            1,
            "#fde725"
           ]
          ],
          "size": 1
         },
         "opacity": 1,
         "showlegend": false,
         "type": "scatter3d",
         "x": [
          153.5,
          84.21796769751744
         ],
         "y": [
          265.87,
          305.86999999984266
         ],
         "z": [
          300,
          299.99977560832497
         ]
        },
        {
         "legendgroup": "group12",
         "line": {
          "width": 4
         },
         "marker": {
          "color": "green",
          "colorscale": [
           [
            0,
            "#440154"
           ],
           [
            0.1111111111111111,
            "#482878"
           ],
           [
            0.2222222222222222,
            "#3e4989"
           ],
           [
            0.3333333333333333,
            "#31688e"
           ],
           [
            0.4444444444444444,
            "#26828e"
           ],
           [
            0.5555555555555556,
            "#1f9e89"
           ],
           [
            0.6666666666666666,
            "#35b779"
           ],
           [
            0.7777777777777778,
            "#6ece58"
           ],
           [
            0.8888888888888888,
            "#b5de2b"
           ],
           [
            1,
            "#fde725"
           ]
          ],
          "size": 1
         },
         "opacity": 1,
         "showlegend": false,
         "type": "scatter3d",
         "x": [
          153.5,
          153.50019432889098
         ],
         "y": [
          265.87,
          265.8698878041625
         ],
         "z": [
          300,
          220.00000000031469
         ]
        },
        {
         "legendgroup": "group12",
         "line": {
          "width": 4
         },
         "marker": {
          "color": "blue",
          "colorscale": [
           [
            0,
            "#440154"
           ],
           [
            0.1111111111111111,
            "#482878"
           ],
           [
            0.2222222222222222,
            "#3e4989"
           ],
           [
            0.3333333333333333,
            "#31688e"
           ],
           [
            0.4444444444444444,
            "#26828e"
           ],
           [
            0.5555555555555556,
            "#1f9e89"
           ],
           [
            0.6666666666666666,
            "#35b779"
           ],
           [
            0.7777777777777778,
            "#6ece58"
           ],
           [
            0.8888888888888888,
            "#b5de2b"
           ],
           [
            1,
            "#fde725"
           ]
          ],
          "size": 1
         },
         "opacity": 1,
         "showlegend": false,
         "type": "scatter3d",
         "x": [
          153.5,
          113.50000000000001
         ],
         "y": [
          265.87,
          196.5879676972449
         ],
         "z": [
          300,
          300
         ]
        },
        {
         "legendgroup": "group12",
         "line": {
          "dash": "dot",
          "width": 5
         },
         "marker": {
          "color": [
           "black",
           "purple",
           "brown",
           "green",
           "orange",
           "wheat"
          ],
          "colorscale": [
           [
            0,
            "#440154"
           ],
           [
            0.1111111111111111,
            "#482878"
           ],
           [
            0.2222222222222222,
            "#3e4989"
           ],
           [
            0.3333333333333333,
            "#31688e"
           ],
           [
            0.4444444444444444,
            "#26828e"
           ],
           [
            0.5555555555555556,
            "#1f9e89"
           ],
           [
            0.6666666666666666,
            "#35b779"
           ],
           [
            0.7777777777777778,
            "#6ece58"
           ],
           [
            0.8888888888888888,
            "#b5de2b"
           ],
           [
            1,
            "#fde725"
           ]
          ],
          "size": 5
         },
         "name": "Пружина 3 (5.02; -5.02)",
         "opacity": 1,
         "showlegend": true,
         "type": "scatter3d",
         "x": [
          179.5,
          153.5
         ],
         "y": [
          310.9,
          265.87
         ],
         "z": [
          -292,
          300
         ]
        },
        {
         "legendgroup": "group8",
         "line": {
          "width": 7
         },
         "marker": {
          "color": "red",
          "colorscale": [
           [
            0,
            "#440154"
           ],
           [
            0.1111111111111111,
            "#482878"
           ],
           [
            0.2222222222222222,
            "#3e4989"
           ],
           [
            0.3333333333333333,
            "#31688e"
           ],
           [
            0.4444444444444444,
            "#26828e"
           ],
           [
            0.5555555555555556,
            "#1f9e89"
           ],
           [
            0.6666666666666666,
            "#35b779"
           ],
           [
            0.7777777777777778,
            "#6ece58"
           ],
           [
            0.8888888888888888,
            "#b5de2b"
           ],
           [
            1,
            "#fde725"
           ]
          ],
          "size": 1
         },
         "opacity": 1,
         "showlegend": false,
         "type": "scatter3d",
         "x": [
          0,
          100
         ],
         "y": [
          0,
          0
         ],
         "z": [
          0,
          0
         ]
        },
        {
         "legendgroup": "group8",
         "line": {
          "width": 7
         },
         "marker": {
          "color": "green",
          "colorscale": [
           [
            0,
            "#440154"
           ],
           [
            0.1111111111111111,
            "#482878"
           ],
           [
            0.2222222222222222,
            "#3e4989"
           ],
           [
            0.3333333333333333,
            "#31688e"
           ],
           [
            0.4444444444444444,
            "#26828e"
           ],
           [
            0.5555555555555556,
            "#1f9e89"
           ],
           [
            0.6666666666666666,
            "#35b779"
           ],
           [
            0.7777777777777778,
            "#6ece58"
           ],
           [
            0.8888888888888888,
            "#b5de2b"
           ],
           [
            1,
            "#fde725"
           ]
          ],
          "size": 1
         },
         "opacity": 1,
         "showlegend": false,
         "type": "scatter3d",
         "x": [
          0,
          0
         ],
         "y": [
          0,
          100
         ],
         "z": [
          0,
          0
         ]
        },
        {
         "legendgroup": "group8",
         "line": {
          "width": 7
         },
         "marker": {
          "color": "blue",
          "colorscale": [
           [
            0,
            "#440154"
           ],
           [
            0.1111111111111111,
            "#482878"
           ],
           [
            0.2222222222222222,
            "#3e4989"
           ],
           [
            0.3333333333333333,
            "#31688e"
           ],
           [
            0.4444444444444444,
            "#26828e"
           ],
           [
            0.5555555555555556,
            "#1f9e89"
           ],
           [
            0.6666666666666666,
            "#35b779"
           ],
           [
            0.7777777777777778,
            "#6ece58"
           ],
           [
            0.8888888888888888,
            "#b5de2b"
           ],
           [
            1,
            "#fde725"
           ]
          ],
          "size": 1
         },
         "opacity": 1,
         "showlegend": false,
         "type": "scatter3d",
         "x": [
          0,
          0
         ],
         "y": [
          0,
          0
         ],
         "z": [
          0,
          100
         ]
        },
        {
         "legendgroup": "group8",
         "marker": {
          "color": "gray",
          "colorscale": [
           [
            0,
            "#440154"
           ],
           [
            0.1111111111111111,
            "#482878"
           ],
           [
            0.2222222222222222,
            "#3e4989"
           ],
           [
            0.3333333333333333,
            "#31688e"
           ],
           [
            0.4444444444444444,
            "#26828e"
           ],
           [
            0.5555555555555556,
            "#1f9e89"
           ],
           [
            0.6666666666666666,
            "#35b779"
           ],
           [
            0.7777777777777778,
            "#6ece58"
           ],
           [
            0.8888888888888888,
            "#b5de2b"
           ],
           [
            1,
            "#fde725"
           ]
          ],
          "size": 7
         },
         "opacity": 1,
         "showlegend": false,
         "type": "scatter3d",
         "x": [
          0
         ],
         "y": [
          0
         ],
         "z": [
          0
         ]
        }
       ],
       "layout": {
        "autosize": true,
        "height": 500,
        "legend": {
         "x": 0.7,
         "xanchor": "left",
         "y": 0.99,
         "yanchor": "top"
        },
        "margin": {
         "b": 10,
         "l": 10,
         "r": 0,
         "t": 50
        },
        "scene": {
         "camera": {
          "center": {
           "x": -0.3,
           "y": 0,
           "z": 0
          },
          "eye": {
           "x": -2,
           "y": 2,
           "z": 1.65
          },
          "projection": {
           "type": "orthographic"
          }
         },
         "xaxis": {
          "backgroundcolor": "rgb(200, 200, 230)",
          "gridcolor": "white",
          "showbackground": true,
          "showspikes": false,
          "tickfont": {
           "size": 12
          },
          "title": {
           "text": "X"
          },
          "zerolinecolor": "white"
         },
         "yaxis": {
          "backgroundcolor": "rgb(230, 200,230)",
          "gridcolor": "white",
          "showbackground": true,
          "showspikes": false,
          "tickfont": {
           "size": 12
          },
          "title": {
           "text": "Y"
          },
          "zerolinecolor": "white"
         },
         "zaxis": {
          "backgroundcolor": "rgb(200, 200,200)",
          "gridcolor": "white",
          "showbackground": true,
          "tickfont": {
           "size": 12
          },
          "title": {
           "text": "Z"
          },
          "zerolinecolor": "white"
         }
        },
        "template": {
         "data": {
          "bar": [
           {
            "error_x": {
             "color": "#2a3f5f"
            },
            "error_y": {
             "color": "#2a3f5f"
            },
            "marker": {
             "line": {
              "color": "#E5ECF6",
              "width": 0.5
             },
             "pattern": {
              "fillmode": "overlay",
              "size": 10,
              "solidity": 0.2
             }
            },
            "type": "bar"
           }
          ],
          "barpolar": [
           {
            "marker": {
             "line": {
              "color": "#E5ECF6",
              "width": 0.5
             },
             "pattern": {
              "fillmode": "overlay",
              "size": 10,
              "solidity": 0.2
             }
            },
            "type": "barpolar"
           }
          ],
          "carpet": [
           {
            "aaxis": {
             "endlinecolor": "#2a3f5f",
             "gridcolor": "white",
             "linecolor": "white",
             "minorgridcolor": "white",
             "startlinecolor": "#2a3f5f"
            },
            "baxis": {
             "endlinecolor": "#2a3f5f",
             "gridcolor": "white",
             "linecolor": "white",
             "minorgridcolor": "white",
             "startlinecolor": "#2a3f5f"
            },
            "type": "carpet"
           }
          ],
          "choropleth": [
           {
            "colorbar": {
             "outlinewidth": 0,
             "ticks": ""
            },
            "type": "choropleth"
           }
          ],
          "contour": [
           {
            "colorbar": {
             "outlinewidth": 0,
             "ticks": ""
            },
            "colorscale": [
             [
              0,
              "#0d0887"
             ],
             [
              0.1111111111111111,
              "#46039f"
             ],
             [
              0.2222222222222222,
              "#7201a8"
             ],
             [
              0.3333333333333333,
              "#9c179e"
             ],
             [
              0.4444444444444444,
              "#bd3786"
             ],
             [
              0.5555555555555556,
              "#d8576b"
             ],
             [
              0.6666666666666666,
              "#ed7953"
             ],
             [
              0.7777777777777778,
              "#fb9f3a"
             ],
             [
              0.8888888888888888,
              "#fdca26"
             ],
             [
              1,
              "#f0f921"
             ]
            ],
            "type": "contour"
           }
          ],
          "contourcarpet": [
           {
            "colorbar": {
             "outlinewidth": 0,
             "ticks": ""
            },
            "type": "contourcarpet"
           }
          ],
          "heatmap": [
           {
            "colorbar": {
             "outlinewidth": 0,
             "ticks": ""
            },
            "colorscale": [
             [
              0,
              "#0d0887"
             ],
             [
              0.1111111111111111,
              "#46039f"
             ],
             [
              0.2222222222222222,
              "#7201a8"
             ],
             [
              0.3333333333333333,
              "#9c179e"
             ],
             [
              0.4444444444444444,
              "#bd3786"
             ],
             [
              0.5555555555555556,
              "#d8576b"
             ],
             [
              0.6666666666666666,
              "#ed7953"
             ],
             [
              0.7777777777777778,
              "#fb9f3a"
             ],
             [
              0.8888888888888888,
              "#fdca26"
             ],
             [
              1,
              "#f0f921"
             ]
            ],
            "type": "heatmap"
           }
          ],
          "heatmapgl": [
           {
            "colorbar": {
             "outlinewidth": 0,
             "ticks": ""
            },
            "colorscale": [
             [
              0,
              "#0d0887"
             ],
             [
              0.1111111111111111,
              "#46039f"
             ],
             [
              0.2222222222222222,
              "#7201a8"
             ],
             [
              0.3333333333333333,
              "#9c179e"
             ],
             [
              0.4444444444444444,
              "#bd3786"
             ],
             [
              0.5555555555555556,
              "#d8576b"
             ],
             [
              0.6666666666666666,
              "#ed7953"
             ],
             [
              0.7777777777777778,
              "#fb9f3a"
             ],
             [
              0.8888888888888888,
              "#fdca26"
             ],
             [
              1,
              "#f0f921"
             ]
            ],
            "type": "heatmapgl"
           }
          ],
          "histogram": [
           {
            "marker": {
             "pattern": {
              "fillmode": "overlay",
              "size": 10,
              "solidity": 0.2
             }
            },
            "type": "histogram"
           }
          ],
          "histogram2d": [
           {
            "colorbar": {
             "outlinewidth": 0,
             "ticks": ""
            },
            "colorscale": [
             [
              0,
              "#0d0887"
             ],
             [
              0.1111111111111111,
              "#46039f"
             ],
             [
              0.2222222222222222,
              "#7201a8"
             ],
             [
              0.3333333333333333,
              "#9c179e"
             ],
             [
              0.4444444444444444,
              "#bd3786"
             ],
             [
              0.5555555555555556,
              "#d8576b"
             ],
             [
              0.6666666666666666,
              "#ed7953"
             ],
             [
              0.7777777777777778,
              "#fb9f3a"
             ],
             [
              0.8888888888888888,
              "#fdca26"
             ],
             [
              1,
              "#f0f921"
             ]
            ],
            "type": "histogram2d"
           }
          ],
          "histogram2dcontour": [
           {
            "colorbar": {
             "outlinewidth": 0,
             "ticks": ""
            },
            "colorscale": [
             [
              0,
              "#0d0887"
             ],
             [
              0.1111111111111111,
              "#46039f"
             ],
             [
              0.2222222222222222,
              "#7201a8"
             ],
             [
              0.3333333333333333,
              "#9c179e"
             ],
             [
              0.4444444444444444,
              "#bd3786"
             ],
             [
              0.5555555555555556,
              "#d8576b"
             ],
             [
              0.6666666666666666,
              "#ed7953"
             ],
             [
              0.7777777777777778,
              "#fb9f3a"
             ],
             [
              0.8888888888888888,
              "#fdca26"
             ],
             [
              1,
              "#f0f921"
             ]
            ],
            "type": "histogram2dcontour"
           }
          ],
          "mesh3d": [
           {
            "colorbar": {
             "outlinewidth": 0,
             "ticks": ""
            },
            "type": "mesh3d"
           }
          ],
          "parcoords": [
           {
            "line": {
             "colorbar": {
              "outlinewidth": 0,
              "ticks": ""
             }
            },
            "type": "parcoords"
           }
          ],
          "pie": [
           {
            "automargin": true,
            "type": "pie"
           }
          ],
          "scatter": [
           {
            "fillpattern": {
             "fillmode": "overlay",
             "size": 10,
             "solidity": 0.2
            },
            "type": "scatter"
           }
          ],
          "scatter3d": [
           {
            "line": {
             "colorbar": {
              "outlinewidth": 0,
              "ticks": ""
             }
            },
            "marker": {
             "colorbar": {
              "outlinewidth": 0,
              "ticks": ""
             }
            },
            "type": "scatter3d"
           }
          ],
          "scattercarpet": [
           {
            "marker": {
             "colorbar": {
              "outlinewidth": 0,
              "ticks": ""
             }
            },
            "type": "scattercarpet"
           }
          ],
          "scattergeo": [
           {
            "marker": {
             "colorbar": {
              "outlinewidth": 0,
              "ticks": ""
             }
            },
            "type": "scattergeo"
           }
          ],
          "scattergl": [
           {
            "marker": {
             "colorbar": {
              "outlinewidth": 0,
              "ticks": ""
             }
            },
            "type": "scattergl"
           }
          ],
          "scattermapbox": [
           {
            "marker": {
             "colorbar": {
              "outlinewidth": 0,
              "ticks": ""
             }
            },
            "type": "scattermapbox"
           }
          ],
          "scatterpolar": [
           {
            "marker": {
             "colorbar": {
              "outlinewidth": 0,
              "ticks": ""
             }
            },
            "type": "scatterpolar"
           }
          ],
          "scatterpolargl": [
           {
            "marker": {
             "colorbar": {
              "outlinewidth": 0,
              "ticks": ""
             }
            },
            "type": "scatterpolargl"
           }
          ],
          "scatterternary": [
           {
            "marker": {
             "colorbar": {
              "outlinewidth": 0,
              "ticks": ""
             }
            },
            "type": "scatterternary"
           }
          ],
          "surface": [
           {
            "colorbar": {
             "outlinewidth": 0,
             "ticks": ""
            },
            "colorscale": [
             [
              0,
              "#0d0887"
             ],
             [
              0.1111111111111111,
              "#46039f"
             ],
             [
              0.2222222222222222,
              "#7201a8"
             ],
             [
              0.3333333333333333,
              "#9c179e"
             ],
             [
              0.4444444444444444,
              "#bd3786"
             ],
             [
              0.5555555555555556,
              "#d8576b"
             ],
             [
              0.6666666666666666,
              "#ed7953"
             ],
             [
              0.7777777777777778,
              "#fb9f3a"
             ],
             [
              0.8888888888888888,
              "#fdca26"
             ],
             [
              1,
              "#f0f921"
             ]
            ],
            "type": "surface"
           }
          ],
          "table": [
           {
            "cells": {
             "fill": {
              "color": "#EBF0F8"
             },
             "line": {
              "color": "white"
             }
            },
            "header": {
             "fill": {
              "color": "#C8D4E3"
             },
             "line": {
              "color": "white"
             }
            },
            "type": "table"
           }
          ]
         },
         "layout": {
          "annotationdefaults": {
           "arrowcolor": "#2a3f5f",
           "arrowhead": 0,
           "arrowwidth": 1
          },
          "autotypenumbers": "strict",
          "coloraxis": {
           "colorbar": {
            "outlinewidth": 0,
            "ticks": ""
           }
          },
          "colorscale": {
           "diverging": [
            [
             0,
             "#8e0152"
            ],
            [
             0.1,
             "#c51b7d"
            ],
            [
             0.2,
             "#de77ae"
            ],
            [
             0.3,
             "#f1b6da"
            ],
            [
             0.4,
             "#fde0ef"
            ],
            [
             0.5,
             "#f7f7f7"
            ],
            [
             0.6,
             "#e6f5d0"
            ],
            [
             0.7,
             "#b8e186"
            ],
            [
             0.8,
             "#7fbc41"
            ],
            [
             0.9,
             "#4d9221"
            ],
            [
             1,
             "#276419"
            ]
           ],
           "sequential": [
            [
             0,
             "#0d0887"
            ],
            [
             0.1111111111111111,
             "#46039f"
            ],
            [
             0.2222222222222222,
             "#7201a8"
            ],
            [
             0.3333333333333333,
             "#9c179e"
            ],
            [
             0.4444444444444444,
             "#bd3786"
            ],
            [
             0.5555555555555556,
             "#d8576b"
            ],
            [
             0.6666666666666666,
             "#ed7953"
            ],
            [
             0.7777777777777778,
             "#fb9f3a"
            ],
            [
             0.8888888888888888,
             "#fdca26"
            ],
            [
             1,
             "#f0f921"
            ]
           ],
           "sequentialminus": [
            [
             0,
             "#0d0887"
            ],
            [
             0.1111111111111111,
             "#46039f"
            ],
            [
             0.2222222222222222,
             "#7201a8"
            ],
            [
             0.3333333333333333,
             "#9c179e"
            ],
            [
             0.4444444444444444,
             "#bd3786"
            ],
            [
             0.5555555555555556,
             "#d8576b"
            ],
            [
             0.6666666666666666,
             "#ed7953"
            ],
            [
             0.7777777777777778,
             "#fb9f3a"
            ],
            [
             0.8888888888888888,
             "#fdca26"
            ],
            [
             1,
             "#f0f921"
            ]
           ]
          },
          "colorway": [
           "#636efa",
           "#EF553B",
           "#00cc96",
           "#ab63fa",
           "#FFA15A",
           "#19d3f3",
           "#FF6692",
           "#B6E880",
           "#FF97FF",
           "#FECB52"
          ],
          "font": {
           "color": "#2a3f5f"
          },
          "geo": {
           "bgcolor": "white",
           "lakecolor": "white",
           "landcolor": "#E5ECF6",
           "showlakes": true,
           "showland": true,
           "subunitcolor": "white"
          },
          "hoverlabel": {
           "align": "left"
          },
          "hovermode": "closest",
          "mapbox": {
           "style": "light"
          },
          "paper_bgcolor": "white",
          "plot_bgcolor": "#E5ECF6",
          "polar": {
           "angularaxis": {
            "gridcolor": "white",
            "linecolor": "white",
            "ticks": ""
           },
           "bgcolor": "#E5ECF6",
           "radialaxis": {
            "gridcolor": "white",
            "linecolor": "white",
            "ticks": ""
           }
          },
          "scene": {
           "xaxis": {
            "backgroundcolor": "#E5ECF6",
            "gridcolor": "white",
            "gridwidth": 2,
            "linecolor": "white",
            "showbackground": true,
            "ticks": "",
            "zerolinecolor": "white"
           },
           "yaxis": {
            "backgroundcolor": "#E5ECF6",
            "gridcolor": "white",
            "gridwidth": 2,
            "linecolor": "white",
            "showbackground": true,
            "ticks": "",
            "zerolinecolor": "white"
           },
           "zaxis": {
            "backgroundcolor": "#E5ECF6",
            "gridcolor": "white",
            "gridwidth": 2,
            "linecolor": "white",
            "showbackground": true,
            "ticks": "",
            "zerolinecolor": "white"
           }
          },
          "shapedefaults": {
           "line": {
            "color": "#2a3f5f"
           }
          },
          "ternary": {
           "aaxis": {
            "gridcolor": "white",
            "linecolor": "white",
            "ticks": ""
           },
           "baxis": {
            "gridcolor": "white",
            "linecolor": "white",
            "ticks": ""
           },
           "bgcolor": "#E5ECF6",
           "caxis": {
            "gridcolor": "white",
            "linecolor": "white",
            "ticks": ""
           }
          },
          "title": {
           "x": 0.05
          },
          "xaxis": {
           "automargin": true,
           "gridcolor": "white",
           "linecolor": "white",
           "ticks": "",
           "title": {
            "standoff": 15
           },
           "zerolinecolor": "white",
           "zerolinewidth": 2
          },
          "yaxis": {
           "automargin": true,
           "gridcolor": "white",
           "linecolor": "white",
           "ticks": "",
           "title": {
            "standoff": 15
           },
           "zerolinecolor": "white",
           "zerolinewidth": 2
          }
         }
        },
        "title": {
         "text": "Δ = [0, 0, 300, 0, 0, 0]; 2023-04-14",
         "x": 0.5,
         "xanchor": "center",
         "y": 0.97,
         "yanchor": "top"
        },
        "width": 950
       }
      }
     },
     "metadata": {},
     "output_type": "display_data"
    }
   ],
   "source": [
    "fig = go.Figure()\n",
    "\n",
    "# Верхняя плита\n",
    "fig.add_trace(go.Scatter3d(x = a_f_n(upper_points[:6], 0), y = a_f_n(upper_points[:6], 1), z = a_f_n(upper_points[:6], 2),\n",
    "                showlegend=True, name = 'Верхняя плита', surfaceaxis=2,  opacity=0.3, legendgroup=\"group7\",marker=dict(size=1, color='royalblue', colorscale='Viridis',)))\n",
    "fig.add_trace(go.Scatter3d(x = a_f_n(upper_points[:6], 0), y = a_f_n(upper_points[:6], 1), z = a_f_n(upper_points[:6], 2),\n",
    "                showlegend=False, surfaceaxis=-1, opacity=0.8, legendgroup=\"group7\",marker=dict(size=1, color='black', colorscale='Viridis',)))\n",
    "#_____________\n",
    "\n",
    "# Нижняя плита\n",
    "fig.add_trace(go.Scatter3d(x = a_f_n(lower_points[:6], 0), y = a_f_n(lower_points[:6], 1), z = a_f_n(lower_points[:6], 2),\n",
    "                showlegend=True, name = 'Нижняя плита', surfaceaxis=2,  opacity=0.3, legendgroup=\"group8\",marker=dict(size=1, color='red', colorscale='Viridis',)))\n",
    "fig.add_trace(go.Scatter3d(x = a_f_n(lower_points[:6], 0), y = a_f_n(lower_points[:6], 1), z = a_f_n(lower_points[:6], 2),\n",
    "                showlegend=False, surfaceaxis=-1, opacity=0.8, legendgroup=\"group8\",marker=dict(size=1, color='black', colorscale='Viridis',)))\n",
    "\n",
    "#_______________________________________________________________\n",
    "\n",
    "color = ['black', 'purple', 'brown', 'green', 'orange', 'wheat']\n",
    "\n",
    "for i in range(6):      # \n",
    "      grapg_leg(lower_points, global_cross_coordinates, upper_points, i, f\"group{i}\", color[i])\n",
    "      coordinate_system(coordinate_system_lower_point[i][0], i)     # Локальные СК нижней плиты\n",
    "      coordinate_system(coordinate_system_upper_point[i][0], i)     # Локальные СК верхней плиты\n",
    "      # coordinate_system(coordinate_system_crosspoints[i][0], 9)       # Локальные СК точек пересечения\n",
    "      coordinate_system(coordinate_system_crosspoints_after_rotate[i][0], i) # Локальные СК точек пересечения после поворота\n",
    "coordinate_system(coordinate_system_upper_plate, 7, 1)      # локальная СК верхней плиты\n",
    "\n",
    "for i in range(3):\n",
    "      coordinate_system(coordinate_system_cs_lower_joint_of_gas_spring[i][0], i+10)\n",
    "      coordinate_system(coordinate_system_cs_upper_joint_of_gas_spring[i][0], i+10)\n",
    "      fig.add_trace(go.Scatter3d(x=[a_f_n(lower_points, 0)[i+6], a_f_n(upper_points, 0)[i+6]], \n",
    "                        y=[a_f_n(lower_points, 1)[i+6], a_f_n(upper_points, 1)[i+6]], \n",
    "                        z=[a_f_n(lower_points, 2)[i+6], a_f_n(upper_points, 2)[i+6]],  \n",
    "                        showlegend=True, name = f'Пружина {i+1} ({round(angle_lower_joint_of_gas_spring[i]*180/pi, 2)}; {round(angle_upper_joint_of_gas_spring[i]*180/pi, 2)})',\n",
    "                        opacity=1, legendgroup=f'group{i+10}', marker=dict(size=5, color=color, colorscale='Viridis'), line = dict(width = 5, dash='dot'))) \n",
    "\n",
    "fig.add_trace(go.Scatter3d(x = [0, 100],y = [0, 0],z = [0, 0],     # локальная СК нижней плиты\n",
    "                showlegend=False, opacity=1, legendgroup=\"group8\", marker=dict(size=1, color='red', colorscale='Viridis',), line = dict(width = 7)))\n",
    "fig.add_trace(go.Scatter3d(x = [0, 0],y = [0, 100],z = [0, 0],\n",
    "                showlegend=False, opacity=1, legendgroup=\"group8\", marker=dict(size=1, color='green', colorscale='Viridis',), line = dict(width = 7)))\n",
    "fig.add_trace(go.Scatter3d(x = [0, 0],y = [0, 0],z = [0, 100],\n",
    "                showlegend=False, opacity=1, legendgroup=\"group8\", marker=dict(size=1, color='blue', colorscale='Viridis',), line = dict(width = 7)))\n",
    "fig.add_trace(go.Scatter3d(x = [0],y = [0],z = [0],\n",
    "                            showlegend=False, opacity=1, legendgroup=\"group8\", marker=dict(size=7, color='gray', colorscale='Viridis',)))\n",
    "\n",
    "#_______________________________________________________________\n",
    "\n",
    "#Оформление полей\n",
    "\n",
    "fig.update_layout(title={'text': f\"Δ = [{move_upper_CS[0]}, {move_upper_CS[1]}, {move_upper_CS[2]}, {move_upper_CS[3]}, {move_upper_CS[4]}, {move_upper_CS[5]}]; {date.today()}\",\n",
    "                  'y':0.97,'x':0.5,'xanchor': 'center','yanchor': 'top'})\n",
    "\n",
    "                                             #Оформление\n",
    "fig.update_layout(legend=dict(yanchor=\"top\", y=0.99,xanchor=\"left\", x=0.7))\n",
    "\n",
    "tickf = 12\n",
    "fig.update_layout(autosize=True, scene = {'camera_eye': {\"x\": -2, \"y\": 2, \"z\":1.65},'camera_center' : {\"x\": -0.3, \"y\": 0, \"z\":0},},\n",
    "                  width=950, height=500, margin=dict(l=10, r=0, b=10, t=50))\n",
    "\n",
    "fig.update_layout(scene=dict(xaxis=dict( title=\"X\",backgroundcolor=\"rgb(200, 200, 230)\",gridcolor=\"white\",\n",
    "                         showbackground=True,zerolinecolor=\"white\", tickfont=dict(size=tickf)),\n",
    "                  yaxis=dict(title=\"Y\", backgroundcolor=\"rgb(230, 200,230)\",gridcolor=\"white\",\n",
    "                        showbackground=True,tickfont=dict(size=tickf),zerolinecolor=\"white\"),\n",
    "                  zaxis=dict(title= \"Z\", backgroundcolor=\"rgb(200, 200,200)\",gridcolor=\"white\",\n",
    "                         showbackground=True,tickfont=dict(size=tickf),zerolinecolor=\"white\",)))\n",
    "\n",
    "fig.update_layout(scene=dict(xaxis_showspikes=False, yaxis_showspikes=False),)\n",
    "fig.update_scenes(camera_projection_type=\"orthographic\")\n",
    "\n",
    "fig.show()"
   ]
  },
  {
   "cell_type": "code",
   "execution_count": 27,
   "metadata": {},
   "outputs": [
    {
     "ename": "SyntaxError",
     "evalue": "invalid syntax (1511659143.py, line 1)",
     "output_type": "error",
     "traceback": [
      "\u001b[1;36m  Cell \u001b[1;32mIn [27], line 1\u001b[1;36m\u001b[0m\n\u001b[1;33m    solve(move_upper_CS[0],move_upper_CS[1],move_upper_CS[2],move_upper_CS[3],move_upper_CS[4],move_upper_CS[5])*180.pi\u001b[0m\n\u001b[1;37m                                                                                                                     ^\u001b[0m\n\u001b[1;31mSyntaxError\u001b[0m\u001b[1;31m:\u001b[0m invalid syntax\n"
     ]
    }
   ],
   "source": [
    "solve(move_upper_CS[0],move_upper_CS[1],move_upper_CS[2],move_upper_CS[3],move_upper_CS[4],move_upper_CS[5])*180/pi"
   ]
  },
  {
   "cell_type": "markdown",
   "metadata": {},
   "source": []
  },
  {
   "cell_type": "markdown",
   "metadata": {},
   "source": [
    "Собираем x,y,z,a,b,g и соответствующие им 6 углов"
   ]
  },
  {
   "cell_type": "code",
   "execution_count": 26,
   "metadata": {},
   "outputs": [],
   "source": [
    "# fixed_step = 0.001\n",
    "\n",
    "# for t in arange(0, 1 + fixed_step, fixed_step):\n",
    "#     dx = 25 * sin(1 * t + 0) + 0\n",
    "#     dy = 25 * sin(1 * t + 0) + 0\n",
    "#     dz = 10 * sin(1 * t + 0) + 275\n",
    "#     alfa = 5 * sin(1 * t + 0) + 0\n",
    "#     beta = 5 * sin(1 * t + 0) + 0\n",
    "#     gamma = 5 * sin(1 * t + 0) + 0\n",
    "#     solve(dx, dy, dz, alfa, beta, gamma)*180/pi"
   ]
  },
  {
   "cell_type": "code",
   "execution_count": null,
   "metadata": {},
   "outputs": [],
   "source": []
  }
 ],
 "metadata": {
  "kernelspec": {
   "display_name": "Python 3.9.12 ('base')",
   "language": "python",
   "name": "python3"
  },
  "language_info": {
   "codemirror_mode": {
    "name": "ipython",
    "version": 3
   },
   "file_extension": ".py",
   "mimetype": "text/x-python",
   "name": "python",
   "nbconvert_exporter": "python",
   "pygments_lexer": "ipython3",
   "version": "3.9.15"
  },
  "orig_nbformat": 4,
  "vscode": {
   "interpreter": {
    "hash": "3de8278a9739f65375f6d4e452969ca8b7a4b393d8488686070d12c8faf929f1"
   }
  }
 },
 "nbformat": 4,
 "nbformat_minor": 2
}
